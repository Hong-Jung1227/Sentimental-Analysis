{
  "nbformat": 4,
  "nbformat_minor": 0,
  "metadata": {
    "colab": {
      "provenance": [],
      "collapsed_sections": [],
      "authorship_tag": "ABX9TyOUwv+DANd2BoBXEp1zNMTG",
      "include_colab_link": true
    },
    "kernelspec": {
      "name": "python3",
      "display_name": "Python 3"
    },
    "language_info": {
      "name": "python"
    }
  },
  "cells": [
    {
      "cell_type": "markdown",
      "metadata": {
        "id": "view-in-github",
        "colab_type": "text"
      },
      "source": [
        "<a href=\"https://colab.research.google.com/github/Hong-Jung1227/Sentimental-Analysis/blob/main/Webcrawling_%EC%A0%95%EC%A0%81_%EC%9B%B9%ED%81%AC%EB%A1%A4%EB%A7%81_requests.ipynb\" target=\"_parent\"><img src=\"https://colab.research.google.com/assets/colab-badge.svg\" alt=\"Open In Colab\"/></a>"
      ]
    },
    {
      "cell_type": "code",
      "source": [
        "import requests\n",
        "from pandas import DataFrame\n",
        "from bs4 import BeautifulSoup\n",
        "import re\n",
        "from datetime import datetime\n",
        "\n",
        "#한글깨짐 방지\n",
        "import sys\n",
        "import os\n",
        "\n",
        "date = str(datetime.now())\n",
        "date = date[:date.rfind(':')].replace(' ', '_')\n",
        "date = date.replace(':','시') + '분'   #파일이름 현 시간으로 저장하기\n",
        "\n",
        "\n",
        "query = input('검색 키워드를 입력하세요 : ')\n",
        "news_num = int(input('웹크롤링할 뉴스기사 건수를 입력해주세요(숫자만 입력) : '))\n",
        "query = query.replace(' ', '+')\n",
        "\n",
        "\n",
        "news_url = 'https://search.naver.com/search.naver?where=news&sm=tab_jum&query={}'\n",
        "\n",
        "req = requests.get(news_url.format(query))\n",
        "soup = BeautifulSoup(req.text, 'html.parser')\n",
        "\n",
        "\n",
        "news_dict = {}\n",
        "idx = 0\n",
        "cur_page = 1\n",
        "\n",
        "print()\n",
        "print('크롤링 중...')\n",
        "\n",
        "while idx < news_num:\n",
        "### 네이버 뉴스 웹페이지 구성이 바뀌어 태그명, class 속성 값 등을 수정 ###\n",
        "    \n",
        "    table = soup.find('ul',{'class' : 'list_news'})\n",
        "    li_list = table.find_all('li', {'id': re.compile('sp_nws.*')})\n",
        "    area_list = [li.find('div', {'class' : 'news_area'}) for li in li_list]\n",
        "    a_list = [area.find('a', {'class' : 'news_tit'}) for area in area_list]\n",
        "    \n",
        "    for n in a_list[:min(len(a_list), news_num-idx)]:\n",
        "        news_dict[idx] = {'title' : n.get('title'),\n",
        "                          'url' : n.get('href') }\n",
        "        idx += 1\n",
        "\n",
        "    cur_page += 1\n",
        "\n",
        "    pages = soup.find('div', {'class' : 'sc_page_inner'})\n",
        "    next_page_url = [p for p in pages.find_all('a') if p.text == str(cur_page)][0].get('href')\n",
        "    \n",
        "    req = requests.get('https://search.naver.com/search.naver' + next_page_url)\n",
        "    soup = BeautifulSoup(req.text, 'html.parser')\n",
        "\n",
        "print('크롤링 완료')\n",
        "\n",
        "print('데이터프레임 변환')\n",
        "news_df = DataFrame(news_dict).T\n",
        "\n",
        "folder_path = os.getcwd()\n",
        "xlsx_file_name = '네이버뉴스_{}_{}.xlsx'.format(query, date)\n",
        "\n",
        "news_df.to_excel(xlsx_file_name)\n",
        "\n",
        "print('엑셀 저장 완료 | 경로 : \"C:\\\\Users\\\\Hong\\\\Desktop\\\\\"'.format(folder_path, xlsx_file_name))"
      ],
      "metadata": {
        "colab": {
          "base_uri": "https://localhost:8080/"
        },
        "id": "xEMWmWVc_vKN",
        "outputId": "b2df92a5-d2cd-45e7-bfd7-971f4d573f94"
      },
      "execution_count": null,
      "outputs": [
        {
          "output_type": "stream",
          "name": "stdout",
          "text": [
            "검색 키워드를 입력하세요 : 주택가격\n",
            "총 필요한 뉴스기사 수를 입력해주세요(숫자만 입력) : 1000\n",
            "\n",
            "크롤링 중...\n",
            "크롤링 완료\n",
            "데이터프레임 변환\n",
            "엑셀 저장 완료 | 경로 : \"C:\\Users\\Hong\\Desktop\\\"\n"
          ]
        }
      ]
    },
    {
      "cell_type": "code",
      "source": [],
      "metadata": {
        "id": "9dj1-XPZG64b"
      },
      "execution_count": null,
      "outputs": []
    }
  ]
}