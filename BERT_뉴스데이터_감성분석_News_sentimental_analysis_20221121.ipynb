{
  "cells": [
    {
      "cell_type": "markdown",
      "metadata": {
        "id": "view-in-github",
        "colab_type": "text"
      },
      "source": [
        "<a href=\"https://colab.research.google.com/github/Hong-Jung1227/Sentimental-Analysis/blob/main/BERT_%EB%89%B4%EC%8A%A4%EB%8D%B0%EC%9D%B4%ED%84%B0_%EA%B0%90%EC%84%B1%EB%B6%84%EC%84%9D_News_sentimental_analysis_20221121.ipynb\" target=\"_parent\"><img src=\"https://colab.research.google.com/assets/colab-badge.svg\" alt=\"Open In Colab\"/></a>"
      ]
    },
    {
      "cell_type": "markdown",
      "metadata": {
        "id": "Fn7pKyD8dBEq"
      },
      "source": [
        "<h1><strong>BERT모형 - 커스텀 데이터 적용시켜 감성분석하기</strong></h1>\n",
        "\n",
        "\n",
        "구글의 BERT모형으로 **뉴스 텍스트 감성분석**을 실습하고자 합니다.\n",
        "뉴스 데이터를 주택가격 상승에 관한 문장은 1, 주택가격 하락 또는 중립에 관한 문장은 0으로 분류학습시켜 학습데이터를 만들었습니다. \n",
        "이 학습데이터와 BERT모형을 활용하여 뉴스 문장이 주택가격 상승을 언급하는지 또는 하락, 중립을 언급하는지 예측하는 인공지능을 생성하였습니다. KERAS를 활용하여 코드를 작성하였으며, 구글 코랩을 기반으로 작성되었습니다.\n",
        "\\\n",
        "참고 자료:\n",
        "\n",
        "https://pypi.org/project/keras-bert/,   \n",
        "https://github.com/CyberZHG/keras-bert/tree/master/keras_bert\n",
        "<br>https://github.com/kimwoonggon/publicservant_AI 등"
      ]
    },
    {
      "cell_type": "markdown",
      "metadata": {
        "id": "_LeBONl3Rt6J"
      },
      "source": [
        "<h2><strong> 1. BERT 모형 </strong></h2>\n",
        "<p> <strong>BERT(Bidirectional Encoder Representations from Transformers)</strong>모형은 2018년 11월 구글이 공개한 인공지능(Artificial Intelligence) 언어 모델로 기존 자연어 모델의 성능을 뛰어넘었으며, 일부 성능 평가에서는 인간보다 더 높은 성능을 기록한 모델입니다.\n",
        "<br>BERT 모형의 특징은 <strong>사전학습, 문맥학습, 파인튜닝</strong>을 들 수 있습니다. <br>\n",
        "<br><strong>(사전학습)</strong> 위키피디아 같은 아주 큰 데이터들을 사용하여 '언어 이해' 모델을 사전학습(Pre-training)한다. 광범위한 데이터로 인간이 살아오면서 체득한 지식과 같이 다양한 데이터를 학습하게 됩니다.<br>\n",
        "<strong>(문맥학습1)</strong> 문장 순서를 학습하여 다음에 나온 문장이 순서에 맞는 문장인지 학습합니다.<br><br>&nbsp;&nbsp;=>  문장1: 저 남자는 회사에 출근했다<br>&nbsp;&nbsp;=>  문장2: 회사에 출근하자마자 저 남자는 커피를 끓여 마셨다.<strong>    (순서가 맞음)</strong><br><br>&nbsp;&nbsp;=> 문장3: 저 여자는 퇴근하려 한다.<br>&nbsp;&nbsp;=> 문장4: 강아지는 예쁘다.<strong>    (순서가 틀린 문장)</strong><br><br><strong>(문맥학습2)</strong> 양방향으로 학습하여 가려진 단어를 맞춘다.<br>&nbsp;&nbsp;&nbsp;&nbsp;문장 : 저 남자는 (①)에 출근했다. 회사에 출근하자마자 저 남자는 (②)를 마셨다.<br>&nbsp;&nbsp;=> ① : 회사 ② : 커피<br><br><strong>(파인튜닝)</strong> 이미 사람처럼 광범위한 글을 학습한 인공지능을 기반으로 하여 새로운 과제를 해결하게 됩니다. 이미 기반 지식이 있기 때문에 새로운 것을 쉽고 빠르게 학습할 수 있습니다.<br>\n",
        "본 코드에서는 뉴스 데이터를 주택가격 상승관련 기사인지 또는 주택가격 하락 및 중립 관련 기사인지를 예측하는 BERT 모형을 생성하였습니다.</p>"
      ]
    },
    {
      "cell_type": "markdown",
      "metadata": {
        "id": "GhODHE2XhI2j"
      },
      "source": [
        "<h2><strong>2. BERT를 활용하여 뉴스데이터 기사의 논조 예측하기</strong></h2>\n",
        "\n",
        "<p> BERT라는 모형에 뉴스의 논조를 평가하는 데이터를 인풋으로 넣으면 평가가 상승(1)인지 하락 또는 중립(0)인지를 예측하게 됩니다. 상승에 가까우면 1을, 하락 또는 중립에 가까우면 0을 출력합니다.<br>\n",
        "함수로 표현하면 BERT 모형 함수 <strong>function(뉴스데이터) = 1 or 0</strong>입니다.<br>\n",
        "<br>\n",
        "<p> 커스터마이징한 뉴스 데이터 파일을 불러왔습니다. 주택가격 상승 기사는 1, 하락 또는 중립은 0으로 라벨링 되어 있습니다. 이 데이터를 활용하여 뉴스를 인풋으로 넣으면 상승인지 하락(또는 중립)인지 예측하는 값을 예측하는 인공지능 모형을 생성합니다.<br> 본 코드에서는 광범위한 데이터로 사전 훈련된 인공지능 모형을 뉴스 기사 감성 분석 데이터로 파인튜닝(추가학습)하여 아래 그림과 같은 상승(1)/하락(0)을 예측하는 모형을 만들고자 합니다.</p>\n",
        "\n",
        "<img src = \"https://drive.google.com/uc?id=1IuEf3qBUWWVh-RRyJUbIwBCpLVQ8Ny2H\" height = 700 width = 600>"
      ]
    },
    {
      "cell_type": "markdown",
      "metadata": {
        "id": "TwFvMz0AwGJ-"
      },
      "source": [
        "<h2><strong>3. BERT 사전학습 모형 가져오기</strong></h2>\n",
        "\n",
        "https://github.com/google-research/bert 에 접속하여 BERT-Base, Multilingual Cased: 104 languages, 12-layer, 768-hidden, 12-heads, 110M parameters 파일을 다운 받았습니다.\n",
        "\n",
        "![대체 텍스트](https://i.imgur.com/RlutYyW.png)\n",
        "\n",
        "<p>사전 학습 모형을 다운 받아 Colab에서 활용하기 위해 구글 GDRIVE에 업로드 하였습니다.</p>\n",
        "\n"
      ]
    },
    {
      "cell_type": "code",
      "execution_count": null,
      "metadata": {
        "colab": {
          "base_uri": "https://localhost:8080/"
        },
        "id": "8U2uEy4pwa09",
        "outputId": "f6ee7e26-90ee-4a0f-e259-9840a469b96a"
      },
      "outputs": [
        {
          "output_type": "stream",
          "name": "stdout",
          "text": [
            "--2022-11-17 08:19:06--  https://storage.googleapis.com/bert_models/2018_11_23/multi_cased_L-12_H-768_A-12.zip\n",
            "Resolving storage.googleapis.com (storage.googleapis.com)... 74.125.200.128, 142.250.4.128, 74.125.24.128, ...\n",
            "Connecting to storage.googleapis.com (storage.googleapis.com)|74.125.200.128|:443... connected.\n",
            "HTTP request sent, awaiting response... 200 OK\n",
            "Length: 662903077 (632M) [application/zip]\n",
            "Saving to: ‘multi_cased_L-12_H-768_A-12.zip’\n",
            "\n",
            "multi_cased_L-12_H- 100%[===================>] 632.19M  15.9MB/s    in 42s     \n",
            "\n",
            "2022-11-17 08:19:48 (15.1 MB/s) - ‘multi_cased_L-12_H-768_A-12.zip’ saved [662903077/662903077]\n",
            "\n"
          ]
        }
      ],
      "source": [
        "# wget을 활용해서 bert 모델 다운로드 가능\n",
        "import os\n",
        "!wget https://storage.googleapis.com/bert_models/2018_11_23/multi_cased_L-12_H-768_A-12.zip\n",
        "\n",
        "if \"bert\" not in os.listdir():\n",
        "  os.makedirs(\"bert\")\n",
        "else:\n",
        "  pass\n",
        "\n",
        "import zipfile\n",
        "import shutil\n",
        "         \n",
        "bert_zip = zipfile.ZipFile('multi_cased_L-12_H-768_A-12.zip')\n",
        "bert_zip.extractall('bert')\n",
        " \n",
        "bert_zip.close()\n",
        "\n",
        "def copytree(src, dst, symlinks=False, ignore=None):\n",
        "    for item in os.listdir(src):\n",
        "        s = os.path.join(src, item)\n",
        "        d = os.path.join(dst, item)\n",
        "        if os.path.isdir(s):\n",
        "            shutil.copytree(s, d, symlinks, ignore)\n",
        "        else:\n",
        "            shutil.copy2(s, d)\n",
        "\n",
        "copytree(\"bert/multi_cased_L-12_H-768_A-12\", \"bert\")"
      ]
    },
    {
      "cell_type": "markdown",
      "metadata": {
        "id": "HQ6glcvV1h73"
      },
      "source": [
        "<h2><strong>< Keras와 BERT를 활용한 뉴스 기사 감성 분석 예측 과정 > </strong></h2>"
      ]
    },
    {
      "cell_type": "markdown",
      "metadata": {
        "id": "cp6z2_gFzr3A"
      },
      "source": [
        "\n",
        " #### 구글 드라이브와 Colab을 연동합니다\n",
        "\n"
      ]
    },
    {
      "cell_type": "code",
      "execution_count": null,
      "metadata": {
        "colab": {
          "base_uri": "https://localhost:8080/"
        },
        "id": "ybVfw9QC8KI1",
        "outputId": "220dabfb-2fb9-4580-dcc9-a2c4ca13360a"
      },
      "outputs": [
        {
          "output_type": "stream",
          "name": "stdout",
          "text": [
            "Mounted at /content/gdrive/\n"
          ]
        }
      ],
      "source": [
        "import os\n",
        "from google.colab import drive\n",
        "drive.mount('/content/gdrive/')"
      ]
    },
    {
      "cell_type": "markdown",
      "metadata": {
        "id": "QlYre0_Pz6Zf"
      },
      "source": [
        "- Colab에서 Bert 모형을 가지고 있는 폴더를 지정해줍니다  \n",
        "\n",
        "- 파이썬 명령어 os.listdir(path)를 활용하여 폴더가 잘 있는지 확인하면서 진행합니다."
      ]
    },
    {
      "cell_type": "code",
      "execution_count": null,
      "metadata": {
        "id": "5x9jXyzYLtG3"
      },
      "outputs": [],
      "source": [
        "path = \"gdrive/My Drive/Colab Notebooks/\""
      ]
    },
    {
      "cell_type": "markdown",
      "metadata": {
        "id": "QVGCHkKN0TZ3"
      },
      "source": [
        "텐서플로우, 판다스, 넘파이, 케라스 등 필요한 모듈들을 임포트합니다"
      ]
    },
    {
      "cell_type": "code",
      "execution_count": null,
      "metadata": {
        "id": "Ffa---Ov8WfF",
        "colab": {
          "base_uri": "https://localhost:8080/"
        },
        "outputId": "8a9be527-f88b-4ed0-83ed-570217e9f5c1"
      },
      "outputs": [
        {
          "output_type": "stream",
          "name": "stderr",
          "text": [
            "WARNING:tensorflow:From /usr/local/lib/python3.7/dist-packages/tensorflow/python/compat/v2_compat.py:107: disable_resource_variables (from tensorflow.python.ops.variable_scope) is deprecated and will be removed in a future version.\n",
            "Instructions for updating:\n",
            "non-resource variables are not supported in the long term\n"
          ]
        }
      ],
      "source": [
        "import tensorflow.compat.v1 as tf\n",
        "tf.disable_v2_behavior()\n",
        "\n",
        "import sys\n",
        "sys.setrecursionlimit(10**7)\n",
        "\n",
        "import pandas as pd\n",
        "import numpy as np  \n",
        "import re\n",
        "import pickle\n",
        "\n",
        "import keras as keras\n",
        "from keras.models import load_model\n",
        "from keras import backend as K\n",
        "from keras import Input, Model\n",
        "from keras import optimizers\n",
        "\n",
        "import codecs\n",
        "from tqdm import tqdm\n",
        "import shutil\n"
      ]
    },
    {
      "cell_type": "code",
      "execution_count": null,
      "metadata": {
        "id": "zYt1EJYulu9K"
      },
      "outputs": [],
      "source": [
        "import warnings\n",
        "warnings.filterwarnings(action=\"ignore\")"
      ]
    },
    {
      "cell_type": "code",
      "execution_count": null,
      "metadata": {
        "id": "7Wc0T-P3kuP7"
      },
      "outputs": [],
      "source": [
        "# import warnings\n",
        "# import tensorflow as tf\n",
        "# warnings.filterwarnings(action='ignore')\n",
        "# os.environ['TF_CPP_MIN_LOG_LEVEL'] = '3' \n",
        "# tf.logging.set_verbosity(tf.logging.ERROR)"
      ]
    },
    {
      "cell_type": "markdown",
      "metadata": {
        "id": "A3bWhmOP0mOv"
      },
      "source": [
        "케라스에서 Bert 활용을 쉽게 만들어주는 모듈 keras-bert를 설치합니다<br>그리고 Adam optimizer의 수정판인 keras-radam 모듈을 임포트합니다."
      ]
    },
    {
      "cell_type": "code",
      "execution_count": null,
      "metadata": {
        "colab": {
          "base_uri": "https://localhost:8080/"
        },
        "id": "09QnmSZXGbbD",
        "outputId": "38d358fc-64ad-489d-8666-ea624973deed"
      },
      "outputs": [
        {
          "output_type": "stream",
          "name": "stdout",
          "text": [
            "Looking in indexes: https://pypi.org/simple, https://us-python.pkg.dev/colab-wheels/public/simple/\n",
            "Collecting keras-bert\n",
            "  Downloading keras-bert-0.89.0.tar.gz (25 kB)\n",
            "Requirement already satisfied: numpy in /usr/local/lib/python3.7/dist-packages (from keras-bert) (1.21.6)\n",
            "Collecting keras-transformer==0.40.0\n",
            "  Downloading keras-transformer-0.40.0.tar.gz (9.7 kB)\n",
            "Collecting keras-pos-embd==0.13.0\n",
            "  Downloading keras-pos-embd-0.13.0.tar.gz (5.6 kB)\n",
            "Collecting keras-multi-head==0.29.0\n",
            "  Downloading keras-multi-head-0.29.0.tar.gz (13 kB)\n",
            "Collecting keras-layer-normalization==0.16.0\n",
            "  Downloading keras-layer-normalization-0.16.0.tar.gz (3.9 kB)\n",
            "Collecting keras-position-wise-feed-forward==0.8.0\n",
            "  Downloading keras-position-wise-feed-forward-0.8.0.tar.gz (4.1 kB)\n",
            "Collecting keras-embed-sim==0.10.0\n",
            "  Downloading keras-embed-sim-0.10.0.tar.gz (3.6 kB)\n",
            "Collecting keras-self-attention==0.51.0\n",
            "  Downloading keras-self-attention-0.51.0.tar.gz (11 kB)\n",
            "Building wheels for collected packages: keras-bert, keras-transformer, keras-embed-sim, keras-layer-normalization, keras-multi-head, keras-pos-embd, keras-position-wise-feed-forward, keras-self-attention\n",
            "  Building wheel for keras-bert (setup.py) ... \u001b[?25l\u001b[?25hdone\n",
            "  Created wheel for keras-bert: filename=keras_bert-0.89.0-py3-none-any.whl size=33515 sha256=856fa4068fa73d6a721cb37c4f2de9b1289770c2765387dc192e26bd3b51b0de\n",
            "  Stored in directory: /root/.cache/pip/wheels/a4/e8/45/842b3a39831261aef9154b907eacbc4ac99499a99ae829b06f\n",
            "  Building wheel for keras-transformer (setup.py) ... \u001b[?25l\u001b[?25hdone\n",
            "  Created wheel for keras-transformer: filename=keras_transformer-0.40.0-py3-none-any.whl size=12305 sha256=43743dfcc110f45ce3270dd97582ebf725e3e9e201fc8c5a425b925db300f235\n",
            "  Stored in directory: /root/.cache/pip/wheels/46/68/26/692ed21edd832833c3b0a0e21615bcacd99ca458b3f9ed571f\n",
            "  Building wheel for keras-embed-sim (setup.py) ... \u001b[?25l\u001b[?25hdone\n",
            "  Created wheel for keras-embed-sim: filename=keras_embed_sim-0.10.0-py3-none-any.whl size=3959 sha256=479fd57d2176060eca2c23f2299219dab7d1a356d36322754f23005599664a04\n",
            "  Stored in directory: /root/.cache/pip/wheels/81/67/b5/d847588d075895281e1cf5590f819bd4cf076a554872268bd5\n",
            "  Building wheel for keras-layer-normalization (setup.py) ... \u001b[?25l\u001b[?25hdone\n",
            "  Created wheel for keras-layer-normalization: filename=keras_layer_normalization-0.16.0-py3-none-any.whl size=4668 sha256=88dce1841e79b46c0430205a33ec5ed21eca35e501b19e8f062219a5020f9d4f\n",
            "  Stored in directory: /root/.cache/pip/wheels/85/5d/1c/2e619f594f69fbcf8bc20943b27d414871c409be053994813e\n",
            "  Building wheel for keras-multi-head (setup.py) ... \u001b[?25l\u001b[?25hdone\n",
            "  Created wheel for keras-multi-head: filename=keras_multi_head-0.29.0-py3-none-any.whl size=14993 sha256=f4094bfb39b585f2d220dd8318db0eafbb32d1d779436bd393d6298b04fc791d\n",
            "  Stored in directory: /root/.cache/pip/wheels/86/aa/3c/9d15d24005179dae08ff291ce99c754b296347817d076fd9fb\n",
            "  Building wheel for keras-pos-embd (setup.py) ... \u001b[?25l\u001b[?25hdone\n",
            "  Created wheel for keras-pos-embd: filename=keras_pos_embd-0.13.0-py3-none-any.whl size=6962 sha256=0d7fc14afc1b07e6623946ad31bf651b2d626c240c059be571cb0566adf32b44\n",
            "  Stored in directory: /root/.cache/pip/wheels/8d/c1/a0/dc44fcf68c857b7ff6be9a97e675e5adf51022eff1169b042f\n",
            "  Building wheel for keras-position-wise-feed-forward (setup.py) ... \u001b[?25l\u001b[?25hdone\n",
            "  Created wheel for keras-position-wise-feed-forward: filename=keras_position_wise_feed_forward-0.8.0-py3-none-any.whl size=4984 sha256=50ac92025ad88e18d5f094f0fa5dd04b12cc9c482fdcf8f03803d82439106005\n",
            "  Stored in directory: /root/.cache/pip/wheels/c2/75/6f/d42f6e051506f442daeba53ff1e2d21a5f20ef8c411610f2bb\n",
            "  Building wheel for keras-self-attention (setup.py) ... \u001b[?25l\u001b[?25hdone\n",
            "  Created wheel for keras-self-attention: filename=keras_self_attention-0.51.0-py3-none-any.whl size=18912 sha256=d669bf8c6bdc0122b24978e9df44264a508ec8d7e3e968d932896e7a7064ee53\n",
            "  Stored in directory: /root/.cache/pip/wheels/95/b1/a8/5ee00cc137940b2f6fa198212e8f45d813d0e0d9c3a04035a3\n",
            "Successfully built keras-bert keras-transformer keras-embed-sim keras-layer-normalization keras-multi-head keras-pos-embd keras-position-wise-feed-forward keras-self-attention\n",
            "Installing collected packages: keras-self-attention, keras-position-wise-feed-forward, keras-pos-embd, keras-multi-head, keras-layer-normalization, keras-embed-sim, keras-transformer, keras-bert\n",
            "Successfully installed keras-bert-0.89.0 keras-embed-sim-0.10.0 keras-layer-normalization-0.16.0 keras-multi-head-0.29.0 keras-pos-embd-0.13.0 keras-position-wise-feed-forward-0.8.0 keras-self-attention-0.51.0 keras-transformer-0.40.0\n",
            "Looking in indexes: https://pypi.org/simple, https://us-python.pkg.dev/colab-wheels/public/simple/\n",
            "Collecting keras-radam\n",
            "  Downloading keras-radam-0.15.0.tar.gz (11 kB)\n",
            "Requirement already satisfied: numpy in /usr/local/lib/python3.7/dist-packages (from keras-radam) (1.21.6)\n",
            "Requirement already satisfied: Keras in /usr/local/lib/python3.7/dist-packages (from keras-radam) (2.9.0)\n",
            "Building wheels for collected packages: keras-radam\n",
            "  Building wheel for keras-radam (setup.py) ... \u001b[?25l\u001b[?25hdone\n",
            "  Created wheel for keras-radam: filename=keras_radam-0.15.0-py3-none-any.whl size=14684 sha256=384aa3df77fe9abfddc21783272119aa007924985f2a386e9fd8b0f88194526d\n",
            "  Stored in directory: /root/.cache/pip/wheels/23/6a/5f/d674f3b7b4d504b03148abd675e3703ba00c31763c04a2fc20\n",
            "Successfully built keras-radam\n",
            "Installing collected packages: keras-radam\n",
            "Successfully installed keras-radam-0.15.0\n"
          ]
        }
      ],
      "source": [
        "!pip install keras-bert\n",
        "!pip install keras-radam"
      ]
    },
    {
      "cell_type": "markdown",
      "metadata": {
        "id": "cyIoeOBH04lW"
      },
      "source": [
        "keras-bert 라이브러리에서 버트 모형 활용에 필요한 모듈들을 임포트합니다"
      ]
    },
    {
      "cell_type": "code",
      "execution_count": null,
      "metadata": {
        "id": "FZv-5ALnGdwI"
      },
      "outputs": [],
      "source": [
        "from keras_bert import load_trained_model_from_checkpoint, load_vocabulary\n",
        "from keras_bert import Tokenizer\n",
        "from keras_bert import AdamWarmup, calc_train_steps\n",
        "from keras_radam import RAdam"
      ]
    },
    {
      "cell_type": "code",
      "execution_count": null,
      "metadata": {
        "colab": {
          "base_uri": "https://localhost:8080/"
        },
        "id": "uat6PNJbeQ7z",
        "outputId": "84688440-5a07-4fe9-9992-cdab5fe44f98"
      },
      "outputs": [
        {
          "output_type": "execute_result",
          "data": {
            "text/plain": [
              "['bert_model.ckpt.index',\n",
              " 'vocab.txt',\n",
              " 'bert_model.ckpt.data-00000-of-00001',\n",
              " 'bert_config.json',\n",
              " 'bert_model.ckpt.meta',\n",
              " 'multi_cased_L-12_H-768_A-12']"
            ]
          },
          "metadata": {},
          "execution_count": 9
        }
      ],
      "source": [
        "os.listdir(\"bert\")"
      ]
    },
    {
      "cell_type": "markdown",
      "metadata": {
        "id": "-VP46O2aGtG-"
      },
      "source": [
        "버트 모형을 훈련시킬 train 데이터와 test데이터를 pandas 테이블 형식으로 로드합니다"
      ]
    },
    {
      "cell_type": "code",
      "source": [
        "train = pd.read_csv(path +\"ratings_random_train2.csv\", encoding = 'cp949')\n",
        "test = pd.read_csv(path+\"ratings_random_test2.csv\", encoding = 'cp949')"
      ],
      "metadata": {
        "id": "bh0V5bdLOrOI"
      },
      "execution_count": null,
      "outputs": []
    },
    {
      "cell_type": "markdown",
      "metadata": {
        "id": "PnnEcb9mQxV1"
      },
      "source": [
        "뉴스 기사 감성분석을 위한 훈련 데이터가 잘 로드되있는지 확인했습니다.  \n",
        "**document 칼럼에는 문장이, label 칼럼에는 상승(1) 하락(0)이 들어갑니다.**"
      ]
    },
    {
      "cell_type": "markdown",
      "metadata": {
        "id": "2-NebUQmG1w-"
      },
      "source": [
        "\n",
        "- bert 훈련을 위한 사전 설정을 합니다. SEQ_LEN은 문장의 최대 길이입니다. SEQ_LEN 보다 문장의 길이가 작다면 남은 부분은 0이 채워지고, 만약에 SEQ_LEN보다 문장 길이가 길다면 SEQ_LEN을 초과하는 부분이 잘리게 됩니다.  \n",
        "- BATCH_SIZE는 메모리 초과 같은 문제를 방지하기 위해 작은 수인 16으로 정했습니다. 그리고 총 훈련 에포크 수는 2로 정했습니다. 학습율(LR;Learning rate)은 1e-5로 작게 정했습니다.  \n",
        "- pretrained_path는 bert 사전학습 모형이 있는 폴더를 의미합니다.\n",
        "- 그리고 우리가 분석할 문장이 들어있는 칼럼의 제목인 document와 긍정인지 부정인지 알려주는 칼럼을 label로 정해줍니다\n"
      ]
    },
    {
      "cell_type": "code",
      "execution_count": null,
      "metadata": {
        "id": "tLYWgZJAtsku"
      },
      "outputs": [],
      "source": [
        "SEQ_LEN = 128\n",
        "BATCH_SIZE = 16\n",
        "EPOCHS=2\n",
        "LR=1e-5\n",
        "\n",
        "pretrained_path =\"bert\"\n",
        "config_path = os.path.join(pretrained_path, 'bert_config.json')\n",
        "checkpoint_path = os.path.join(pretrained_path, 'bert_model.ckpt')\n",
        "vocab_path = os.path.join(pretrained_path, 'vocab.txt')\n",
        "\n",
        "DATA_COLUMN = \"document\"\n",
        "LABEL_COLUMN = \"label\""
      ]
    },
    {
      "cell_type": "markdown",
      "metadata": {
        "id": "IaU-13a9H4YJ"
      },
      "source": [
        "vocab.txt에 있는 단어에 인덱스를 추가해주는 token_dict라는 딕셔너리를 생성합니다.  \n",
        "우리가 분석할 문장이 토큰화가 되고, 그 다음에는 인덱스(숫자)로 변경되어서 버트 신경망에 인풋으로 들어게 됩니다."
      ]
    },
    {
      "cell_type": "code",
      "execution_count": null,
      "metadata": {
        "id": "-ph2YQXg2iz5"
      },
      "outputs": [],
      "source": [
        "token_dict = {}\n",
        "with codecs.open(vocab_path, 'r', 'utf8') as reader:\n",
        "    for line in reader:\n",
        "        token = line.strip()\n",
        "        if \"_\" in token:\n",
        "          token = token.replace(\"_\",\"\")\n",
        "          token = \"##\" + token\n",
        "        token_dict[token] = len(token_dict)"
      ]
    },
    {
      "cell_type": "code",
      "execution_count": null,
      "metadata": {
        "colab": {
          "base_uri": "https://localhost:8080/"
        },
        "id": "NhCl9R1FqPff",
        "outputId": "ad166d36-2b0e-4b0f-c868-8b743959b900"
      },
      "outputs": [
        {
          "output_type": "execute_result",
          "data": {
            "text/plain": [
              "{'[PAD]': 0,\n",
              " '[unused1]': 1,\n",
              " '[unused2]': 2,\n",
              " '[unused3]': 3,\n",
              " '[unused4]': 4,\n",
              " '[unused5]': 5,\n",
              " '[unused6]': 6,\n",
              " '[unused7]': 7,\n",
              " '[unused8]': 8,\n",
              " '[unused9]': 9,\n",
              " '[unused10]': 10,\n",
              " '[unused11]': 11,\n",
              " '[unused12]': 12,\n",
              " '[unused13]': 13,\n",
              " '[unused14]': 14,\n",
              " '[unused15]': 15,\n",
              " '[unused16]': 16,\n",
              " '[unused17]': 17,\n",
              " '[unused18]': 18,\n",
              " '[unused19]': 19,\n",
              " '[unused20]': 20,\n",
              " '[unused21]': 21,\n",
              " '[unused22]': 22,\n",
              " '[unused23]': 23,\n",
              " '[unused24]': 24,\n",
              " '[unused25]': 25,\n",
              " '[unused26]': 26,\n",
              " '[unused27]': 27,\n",
              " '[unused28]': 28,\n",
              " '[unused29]': 29,\n",
              " '[unused30]': 30,\n",
              " '[unused31]': 31,\n",
              " '[unused32]': 32,\n",
              " '[unused33]': 33,\n",
              " '[unused34]': 34,\n",
              " '[unused35]': 35,\n",
              " '[unused36]': 36,\n",
              " '[unused37]': 37,\n",
              " '[unused38]': 38,\n",
              " '[unused39]': 39,\n",
              " '[unused40]': 40,\n",
              " '[unused41]': 41,\n",
              " '[unused42]': 42,\n",
              " '[unused43]': 43,\n",
              " '[unused44]': 44,\n",
              " '[unused45]': 45,\n",
              " '[unused46]': 46,\n",
              " '[unused47]': 47,\n",
              " '[unused48]': 48,\n",
              " '[unused49]': 49,\n",
              " '[unused50]': 50,\n",
              " '[unused51]': 51,\n",
              " '[unused52]': 52,\n",
              " '[unused53]': 53,\n",
              " '[unused54]': 54,\n",
              " '[unused55]': 55,\n",
              " '[unused56]': 56,\n",
              " '[unused57]': 57,\n",
              " '[unused58]': 58,\n",
              " '[unused59]': 59,\n",
              " '[unused60]': 60,\n",
              " '[unused61]': 61,\n",
              " '[unused62]': 62,\n",
              " '[unused63]': 63,\n",
              " '[unused64]': 64,\n",
              " '[unused65]': 65,\n",
              " '[unused66]': 66,\n",
              " '[unused67]': 67,\n",
              " '[unused68]': 68,\n",
              " '[unused69]': 69,\n",
              " '[unused70]': 70,\n",
              " '[unused71]': 71,\n",
              " '[unused72]': 72,\n",
              " '[unused73]': 73,\n",
              " '[unused74]': 74,\n",
              " '[unused75]': 75,\n",
              " '[unused76]': 76,\n",
              " '[unused77]': 77,\n",
              " '[unused78]': 78,\n",
              " '[unused79]': 79,\n",
              " '[unused80]': 80,\n",
              " '[unused81]': 81,\n",
              " '[unused82]': 82,\n",
              " '[unused83]': 83,\n",
              " '[unused84]': 84,\n",
              " '[unused85]': 85,\n",
              " '[unused86]': 86,\n",
              " '[unused87]': 87,\n",
              " '[unused88]': 88,\n",
              " '[unused89]': 89,\n",
              " '[unused90]': 90,\n",
              " '[unused91]': 91,\n",
              " '[unused92]': 92,\n",
              " '[unused93]': 93,\n",
              " '[unused94]': 94,\n",
              " '[unused95]': 95,\n",
              " '[unused96]': 96,\n",
              " '[unused97]': 97,\n",
              " '[unused98]': 98,\n",
              " '[unused99]': 99,\n",
              " '[UNK]': 100,\n",
              " '[CLS]': 101,\n",
              " '[SEP]': 102,\n",
              " '[MASK]': 103,\n",
              " '<S>': 104,\n",
              " '<T>': 105,\n",
              " '!': 106,\n",
              " '\"': 107,\n",
              " '#': 108,\n",
              " '$': 109,\n",
              " '%': 110,\n",
              " '&': 111,\n",
              " \"'\": 112,\n",
              " '(': 113,\n",
              " ')': 114,\n",
              " '*': 115,\n",
              " '+': 116,\n",
              " ',': 117,\n",
              " '-': 118,\n",
              " '.': 119,\n",
              " '/': 120,\n",
              " '0': 121,\n",
              " '1': 122,\n",
              " '2': 123,\n",
              " '3': 124,\n",
              " '4': 125,\n",
              " '5': 126,\n",
              " '6': 127,\n",
              " '7': 128,\n",
              " '8': 129,\n",
              " '9': 130,\n",
              " ':': 131,\n",
              " ';': 132,\n",
              " '<': 133,\n",
              " '=': 134,\n",
              " '>': 135,\n",
              " '?': 136,\n",
              " '@': 137,\n",
              " 'A': 138,\n",
              " 'B': 139,\n",
              " 'C': 140,\n",
              " 'D': 141,\n",
              " 'E': 142,\n",
              " 'F': 143,\n",
              " 'G': 144,\n",
              " 'H': 145,\n",
              " 'I': 146,\n",
              " 'J': 147,\n",
              " 'K': 148,\n",
              " 'L': 149,\n",
              " 'M': 150,\n",
              " 'N': 151,\n",
              " 'O': 152,\n",
              " 'P': 153,\n",
              " 'Q': 154,\n",
              " 'R': 155,\n",
              " 'S': 156,\n",
              " 'T': 157,\n",
              " 'U': 158,\n",
              " 'V': 159,\n",
              " 'W': 160,\n",
              " 'X': 161,\n",
              " 'Y': 162,\n",
              " 'Z': 163,\n",
              " '[': 164,\n",
              " '\\\\': 165,\n",
              " ']': 166,\n",
              " '^': 167,\n",
              " '##': 168,\n",
              " 'a': 169,\n",
              " 'b': 170,\n",
              " 'c': 171,\n",
              " 'd': 172,\n",
              " 'e': 173,\n",
              " 'f': 174,\n",
              " 'g': 175,\n",
              " 'h': 176,\n",
              " 'i': 177,\n",
              " 'j': 178,\n",
              " 'k': 179,\n",
              " 'l': 180,\n",
              " 'm': 181,\n",
              " 'n': 182,\n",
              " 'o': 183,\n",
              " 'p': 184,\n",
              " 'q': 185,\n",
              " 'r': 186,\n",
              " 's': 187,\n",
              " 't': 188,\n",
              " 'u': 189,\n",
              " 'v': 190,\n",
              " 'w': 191,\n",
              " 'x': 192,\n",
              " 'y': 193,\n",
              " 'z': 194,\n",
              " '{': 195,\n",
              " '|': 196,\n",
              " '}': 197,\n",
              " '~': 198,\n",
              " '¡': 199,\n",
              " '¢': 200,\n",
              " '£': 201,\n",
              " '¥': 202,\n",
              " '¦': 203,\n",
              " '§': 204,\n",
              " '¨': 205,\n",
              " '©': 206,\n",
              " 'ª': 207,\n",
              " '«': 208,\n",
              " '¬': 209,\n",
              " '®': 210,\n",
              " '°': 211,\n",
              " '±': 212,\n",
              " '²': 213,\n",
              " '³': 214,\n",
              " 'µ': 215,\n",
              " '¶': 216,\n",
              " '·': 217,\n",
              " '¹': 218,\n",
              " 'º': 219,\n",
              " '»': 220,\n",
              " '¼': 221,\n",
              " '½': 222,\n",
              " '¾': 223,\n",
              " '¿': 224,\n",
              " 'À': 225,\n",
              " 'Á': 226,\n",
              " 'Â': 227,\n",
              " 'Ã': 228,\n",
              " 'Ä': 229,\n",
              " 'Å': 230,\n",
              " 'Æ': 231,\n",
              " 'Ç': 232,\n",
              " 'È': 233,\n",
              " 'É': 234,\n",
              " 'Ê': 235,\n",
              " 'Ë': 236,\n",
              " 'Ì': 237,\n",
              " 'Í': 238,\n",
              " 'Î': 239,\n",
              " 'Ð': 240,\n",
              " 'Ñ': 241,\n",
              " 'Ò': 242,\n",
              " 'Ó': 243,\n",
              " 'Ô': 244,\n",
              " 'Õ': 245,\n",
              " 'Ö': 246,\n",
              " '×': 247,\n",
              " 'Ø': 248,\n",
              " 'Ú': 249,\n",
              " 'Ü': 250,\n",
              " 'Ý': 251,\n",
              " 'Þ': 252,\n",
              " 'ß': 253,\n",
              " 'à': 254,\n",
              " 'á': 255,\n",
              " 'â': 256,\n",
              " 'ã': 257,\n",
              " 'ä': 258,\n",
              " 'å': 259,\n",
              " 'æ': 260,\n",
              " 'ç': 261,\n",
              " 'è': 262,\n",
              " 'é': 263,\n",
              " 'ê': 264,\n",
              " 'ë': 265,\n",
              " 'ì': 266,\n",
              " 'í': 267,\n",
              " 'î': 268,\n",
              " 'ï': 269,\n",
              " 'ð': 270,\n",
              " 'ñ': 271,\n",
              " 'ò': 272,\n",
              " 'ó': 273,\n",
              " 'ô': 274,\n",
              " 'õ': 275,\n",
              " 'ö': 276,\n",
              " '÷': 277,\n",
              " 'ø': 278,\n",
              " 'ù': 279,\n",
              " 'ú': 280,\n",
              " 'û': 281,\n",
              " 'ü': 282,\n",
              " 'ý': 283,\n",
              " 'þ': 284,\n",
              " 'ÿ': 285,\n",
              " 'Ā': 286,\n",
              " 'ā': 287,\n",
              " 'Ă': 288,\n",
              " 'ă': 289,\n",
              " 'Ą': 290,\n",
              " 'ą': 291,\n",
              " 'Ć': 292,\n",
              " 'ć': 293,\n",
              " 'Č': 294,\n",
              " 'č': 295,\n",
              " 'Ď': 296,\n",
              " 'ď': 297,\n",
              " 'Đ': 298,\n",
              " 'đ': 299,\n",
              " 'Ē': 300,\n",
              " 'ē': 301,\n",
              " 'Ĕ': 302,\n",
              " 'ĕ': 303,\n",
              " 'Ė': 304,\n",
              " 'ė': 305,\n",
              " 'ę': 306,\n",
              " 'ě': 307,\n",
              " 'Ğ': 308,\n",
              " 'ğ': 309,\n",
              " 'ġ': 310,\n",
              " 'Ģ': 311,\n",
              " 'ģ': 312,\n",
              " 'Ħ': 313,\n",
              " 'ħ': 314,\n",
              " 'ĩ': 315,\n",
              " 'Ī': 316,\n",
              " 'ī': 317,\n",
              " 'Į': 318,\n",
              " 'į': 319,\n",
              " 'İ': 320,\n",
              " 'ı': 321,\n",
              " 'Ķ': 322,\n",
              " 'ķ': 323,\n",
              " 'ĺ': 324,\n",
              " 'Ļ': 325,\n",
              " 'ļ': 326,\n",
              " 'Ľ': 327,\n",
              " 'ľ': 328,\n",
              " 'Ł': 329,\n",
              " 'ł': 330,\n",
              " 'ń': 331,\n",
              " 'Ņ': 332,\n",
              " 'ņ': 333,\n",
              " 'ň': 334,\n",
              " 'ŉ': 335,\n",
              " 'ŋ': 336,\n",
              " 'Ō': 337,\n",
              " 'ō': 338,\n",
              " 'ŏ': 339,\n",
              " 'Ő': 340,\n",
              " 'ő': 341,\n",
              " 'Œ': 342,\n",
              " 'œ': 343,\n",
              " 'ŕ': 344,\n",
              " 'Ř': 345,\n",
              " 'ř': 346,\n",
              " 'Ś': 347,\n",
              " 'ś': 348,\n",
              " 'Ş': 349,\n",
              " 'ş': 350,\n",
              " 'Š': 351,\n",
              " 'š': 352,\n",
              " 'Ţ': 353,\n",
              " 'ţ': 354,\n",
              " 'Ť': 355,\n",
              " 'ť': 356,\n",
              " 'ũ': 357,\n",
              " 'Ū': 358,\n",
              " 'ū': 359,\n",
              " 'ŭ': 360,\n",
              " 'ů': 361,\n",
              " 'Ű': 362,\n",
              " 'ű': 363,\n",
              " 'ų': 364,\n",
              " 'ŵ': 365,\n",
              " 'ŷ': 366,\n",
              " 'Ź': 367,\n",
              " 'ź': 368,\n",
              " 'Ż': 369,\n",
              " 'ż': 370,\n",
              " 'Ž': 371,\n",
              " 'ž': 372,\n",
              " 'Ə': 373,\n",
              " 'ƒ': 374,\n",
              " 'ơ': 375,\n",
              " 'Ư': 376,\n",
              " 'ư': 377,\n",
              " 'ǎ': 378,\n",
              " 'ǐ': 379,\n",
              " 'ǔ': 380,\n",
              " 'ǫ': 381,\n",
              " 'ǹ': 382,\n",
              " 'Ș': 383,\n",
              " 'ș': 384,\n",
              " 'Ț': 385,\n",
              " 'ț': 386,\n",
              " 'ɐ': 387,\n",
              " 'ɑ': 388,\n",
              " 'ɔ': 389,\n",
              " 'ɕ': 390,\n",
              " 'ə': 391,\n",
              " 'ɛ': 392,\n",
              " 'ɡ': 393,\n",
              " 'ɣ': 394,\n",
              " 'ɨ': 395,\n",
              " 'ɪ': 396,\n",
              " 'ɲ': 397,\n",
              " 'ɾ': 398,\n",
              " 'ʁ': 399,\n",
              " 'ʃ': 400,\n",
              " 'ʊ': 401,\n",
              " 'ʎ': 402,\n",
              " 'ʒ': 403,\n",
              " 'ʔ': 404,\n",
              " 'ʙ': 405,\n",
              " 'ʰ': 406,\n",
              " 'ʲ': 407,\n",
              " 'ʳ': 408,\n",
              " 'ʷ': 409,\n",
              " 'ʸ': 410,\n",
              " 'ʻ': 411,\n",
              " 'ʼ': 412,\n",
              " 'ʾ': 413,\n",
              " 'ʿ': 414,\n",
              " 'ˈ': 415,\n",
              " 'ː': 416,\n",
              " 'ˡ': 417,\n",
              " 'ˢ': 418,\n",
              " '̀': 419,\n",
              " '́': 420,\n",
              " '̃': 421,\n",
              " '̄': 422,\n",
              " '̍': 423,\n",
              " '̥': 424,\n",
              " '̧': 425,\n",
              " '̲': 426,\n",
              " '͡': 427,\n",
              " '΄': 428,\n",
              " 'Ά': 429,\n",
              " 'Έ': 430,\n",
              " 'Ή': 431,\n",
              " 'Ί': 432,\n",
              " 'Ό': 433,\n",
              " 'Ύ': 434,\n",
              " 'Ώ': 435,\n",
              " 'ΐ': 436,\n",
              " 'Α': 437,\n",
              " 'Β': 438,\n",
              " 'Γ': 439,\n",
              " 'Δ': 440,\n",
              " 'Ε': 441,\n",
              " 'Ζ': 442,\n",
              " 'Η': 443,\n",
              " 'Θ': 444,\n",
              " 'Ι': 445,\n",
              " 'Κ': 446,\n",
              " 'Λ': 447,\n",
              " 'Μ': 448,\n",
              " 'Ν': 449,\n",
              " 'Ξ': 450,\n",
              " 'Ο': 451,\n",
              " 'Π': 452,\n",
              " 'Ρ': 453,\n",
              " 'Σ': 454,\n",
              " 'Τ': 455,\n",
              " 'Υ': 456,\n",
              " 'Φ': 457,\n",
              " 'Χ': 458,\n",
              " 'Ψ': 459,\n",
              " 'Ω': 460,\n",
              " 'ά': 461,\n",
              " 'έ': 462,\n",
              " 'ή': 463,\n",
              " 'ί': 464,\n",
              " 'α': 465,\n",
              " 'β': 466,\n",
              " 'γ': 467,\n",
              " 'δ': 468,\n",
              " 'ε': 469,\n",
              " 'ζ': 470,\n",
              " 'η': 471,\n",
              " 'θ': 472,\n",
              " 'ι': 473,\n",
              " 'κ': 474,\n",
              " 'λ': 475,\n",
              " 'μ': 476,\n",
              " 'ν': 477,\n",
              " 'ξ': 478,\n",
              " 'ο': 479,\n",
              " 'π': 480,\n",
              " 'ρ': 481,\n",
              " 'ς': 482,\n",
              " 'σ': 483,\n",
              " 'τ': 484,\n",
              " 'υ': 485,\n",
              " 'φ': 486,\n",
              " 'χ': 487,\n",
              " 'ψ': 488,\n",
              " 'ω': 489,\n",
              " 'ϊ': 490,\n",
              " 'ϋ': 491,\n",
              " 'ό': 492,\n",
              " 'ύ': 493,\n",
              " 'ώ': 494,\n",
              " 'Ё': 495,\n",
              " 'Ђ': 496,\n",
              " 'Ѓ': 497,\n",
              " 'Є': 498,\n",
              " 'Ѕ': 499,\n",
              " 'І': 500,\n",
              " 'Ї': 501,\n",
              " 'Ј': 502,\n",
              " 'Љ': 503,\n",
              " 'Њ': 504,\n",
              " 'Ћ': 505,\n",
              " 'Ќ': 506,\n",
              " 'Ў': 507,\n",
              " 'Џ': 508,\n",
              " 'А': 509,\n",
              " 'Б': 510,\n",
              " 'В': 511,\n",
              " 'Г': 512,\n",
              " 'Д': 513,\n",
              " 'Е': 514,\n",
              " 'Ж': 515,\n",
              " 'З': 516,\n",
              " 'И': 517,\n",
              " 'Й': 518,\n",
              " 'К': 519,\n",
              " 'Л': 520,\n",
              " 'М': 521,\n",
              " 'Н': 522,\n",
              " 'О': 523,\n",
              " 'П': 524,\n",
              " 'Р': 525,\n",
              " 'С': 526,\n",
              " 'Т': 527,\n",
              " 'У': 528,\n",
              " 'Ф': 529,\n",
              " 'Х': 530,\n",
              " 'Ц': 531,\n",
              " 'Ч': 532,\n",
              " 'Ш': 533,\n",
              " 'Щ': 534,\n",
              " 'Ъ': 535,\n",
              " 'Ы': 536,\n",
              " 'Ь': 537,\n",
              " 'Э': 538,\n",
              " 'Ю': 539,\n",
              " 'Я': 540,\n",
              " 'а': 541,\n",
              " 'б': 542,\n",
              " 'в': 543,\n",
              " 'г': 544,\n",
              " 'д': 545,\n",
              " 'е': 546,\n",
              " 'ж': 547,\n",
              " 'з': 548,\n",
              " 'и': 549,\n",
              " 'й': 550,\n",
              " 'к': 551,\n",
              " 'л': 552,\n",
              " 'м': 553,\n",
              " 'н': 554,\n",
              " 'о': 555,\n",
              " 'п': 556,\n",
              " 'р': 557,\n",
              " 'с': 558,\n",
              " 'т': 559,\n",
              " 'у': 560,\n",
              " 'ф': 561,\n",
              " 'х': 562,\n",
              " 'ц': 563,\n",
              " 'ч': 564,\n",
              " 'ш': 565,\n",
              " 'щ': 566,\n",
              " 'ъ': 567,\n",
              " 'ы': 568,\n",
              " 'ь': 569,\n",
              " 'э': 570,\n",
              " 'ю': 571,\n",
              " 'я': 572,\n",
              " 'ѐ': 573,\n",
              " 'ё': 574,\n",
              " 'ђ': 575,\n",
              " 'ѓ': 576,\n",
              " 'є': 577,\n",
              " 'ѕ': 578,\n",
              " 'і': 579,\n",
              " 'ї': 580,\n",
              " 'ј': 581,\n",
              " 'љ': 582,\n",
              " 'њ': 583,\n",
              " 'ћ': 584,\n",
              " 'ќ': 585,\n",
              " 'ѝ': 586,\n",
              " 'ў': 587,\n",
              " 'џ': 588,\n",
              " 'ѣ': 589,\n",
              " 'Ґ': 590,\n",
              " 'ґ': 591,\n",
              " 'Ғ': 592,\n",
              " 'ғ': 593,\n",
              " 'Җ': 594,\n",
              " 'җ': 595,\n",
              " 'Ҙ': 596,\n",
              " 'ҙ': 597,\n",
              " 'Қ': 598,\n",
              " 'қ': 599,\n",
              " 'Ҡ': 600,\n",
              " 'ҡ': 601,\n",
              " 'ң': 602,\n",
              " 'ҫ': 603,\n",
              " 'Ү': 604,\n",
              " 'ү': 605,\n",
              " 'Ұ': 606,\n",
              " 'ұ': 607,\n",
              " 'Ҳ': 608,\n",
              " 'ҳ': 609,\n",
              " 'Ҷ': 610,\n",
              " 'ҷ': 611,\n",
              " 'Һ': 612,\n",
              " 'һ': 613,\n",
              " 'Ӏ': 614,\n",
              " 'ӑ': 615,\n",
              " 'ӗ': 616,\n",
              " 'Ә': 617,\n",
              " 'ә': 618,\n",
              " 'ӣ': 619,\n",
              " 'Ө': 620,\n",
              " 'ө': 621,\n",
              " 'Ӯ': 622,\n",
              " 'ӯ': 623,\n",
              " 'ӳ': 624,\n",
              " 'Ա': 625,\n",
              " 'Բ': 626,\n",
              " 'Գ': 627,\n",
              " 'Դ': 628,\n",
              " 'Ե': 629,\n",
              " 'Զ': 630,\n",
              " 'Է': 631,\n",
              " 'Ը': 632,\n",
              " 'Թ': 633,\n",
              " 'Ժ': 634,\n",
              " 'Ի': 635,\n",
              " 'Լ': 636,\n",
              " 'Խ': 637,\n",
              " 'Ծ': 638,\n",
              " 'Կ': 639,\n",
              " 'Հ': 640,\n",
              " 'Ձ': 641,\n",
              " 'Ղ': 642,\n",
              " 'Ճ': 643,\n",
              " 'Մ': 644,\n",
              " 'Յ': 645,\n",
              " 'Ն': 646,\n",
              " 'Շ': 647,\n",
              " 'Ո': 648,\n",
              " 'Չ': 649,\n",
              " 'Պ': 650,\n",
              " 'Ջ': 651,\n",
              " 'Ռ': 652,\n",
              " 'Ս': 653,\n",
              " 'Վ': 654,\n",
              " 'Տ': 655,\n",
              " 'Ր': 656,\n",
              " 'Ց': 657,\n",
              " 'Ւ': 658,\n",
              " 'Փ': 659,\n",
              " 'Ք': 660,\n",
              " 'Օ': 661,\n",
              " 'Ֆ': 662,\n",
              " '՚': 663,\n",
              " '՛': 664,\n",
              " '՜': 665,\n",
              " '՝': 666,\n",
              " '՞': 667,\n",
              " 'ա': 668,\n",
              " 'բ': 669,\n",
              " 'գ': 670,\n",
              " 'դ': 671,\n",
              " 'ե': 672,\n",
              " 'զ': 673,\n",
              " 'է': 674,\n",
              " 'ը': 675,\n",
              " 'թ': 676,\n",
              " 'ժ': 677,\n",
              " 'ի': 678,\n",
              " 'լ': 679,\n",
              " 'խ': 680,\n",
              " 'ծ': 681,\n",
              " 'կ': 682,\n",
              " 'հ': 683,\n",
              " 'ձ': 684,\n",
              " 'ղ': 685,\n",
              " 'ճ': 686,\n",
              " 'մ': 687,\n",
              " 'յ': 688,\n",
              " 'ն': 689,\n",
              " 'շ': 690,\n",
              " 'ո': 691,\n",
              " 'չ': 692,\n",
              " 'պ': 693,\n",
              " 'ջ': 694,\n",
              " 'ռ': 695,\n",
              " 'ս': 696,\n",
              " 'վ': 697,\n",
              " 'տ': 698,\n",
              " 'ր': 699,\n",
              " 'ց': 700,\n",
              " 'ւ': 701,\n",
              " 'փ': 702,\n",
              " 'ք': 703,\n",
              " 'օ': 704,\n",
              " 'ֆ': 705,\n",
              " 'և': 706,\n",
              " '։': 707,\n",
              " '֊': 708,\n",
              " 'ְ': 709,\n",
              " 'ֱ': 710,\n",
              " 'ֲ': 711,\n",
              " 'ִ': 712,\n",
              " 'ֵ': 713,\n",
              " 'ֶ': 714,\n",
              " 'ַ': 715,\n",
              " 'ָ': 716,\n",
              " 'ֹ': 717,\n",
              " 'ּ': 718,\n",
              " '־': 719,\n",
              " 'ׁ': 720,\n",
              " 'ׂ': 721,\n",
              " '׃': 722,\n",
              " 'א': 723,\n",
              " 'ב': 724,\n",
              " 'ג': 725,\n",
              " 'ד': 726,\n",
              " 'ה': 727,\n",
              " 'ו': 728,\n",
              " 'ז': 729,\n",
              " 'ח': 730,\n",
              " 'ט': 731,\n",
              " 'י': 732,\n",
              " 'ך': 733,\n",
              " 'כ': 734,\n",
              " 'ל': 735,\n",
              " 'ם': 736,\n",
              " 'מ': 737,\n",
              " 'ן': 738,\n",
              " 'נ': 739,\n",
              " 'ס': 740,\n",
              " 'ע': 741,\n",
              " 'ף': 742,\n",
              " 'פ': 743,\n",
              " 'ץ': 744,\n",
              " 'צ': 745,\n",
              " 'ק': 746,\n",
              " 'ר': 747,\n",
              " 'ש': 748,\n",
              " 'ת': 749,\n",
              " '׳': 750,\n",
              " '״': 751,\n",
              " '،': 752,\n",
              " '؍': 753,\n",
              " 'ؒ': 754,\n",
              " '؛': 755,\n",
              " '؟': 756,\n",
              " 'ء': 757,\n",
              " 'آ': 758,\n",
              " 'أ': 759,\n",
              " 'ؤ': 760,\n",
              " 'إ': 761,\n",
              " 'ئ': 762,\n",
              " 'ا': 763,\n",
              " 'ب': 764,\n",
              " 'ة': 765,\n",
              " 'ت': 766,\n",
              " 'ث': 767,\n",
              " 'ج': 768,\n",
              " 'ح': 769,\n",
              " 'خ': 770,\n",
              " 'د': 771,\n",
              " 'ذ': 772,\n",
              " 'ر': 773,\n",
              " 'ز': 774,\n",
              " 'س': 775,\n",
              " 'ش': 776,\n",
              " 'ص': 777,\n",
              " 'ض': 778,\n",
              " 'ط': 779,\n",
              " 'ظ': 780,\n",
              " 'ع': 781,\n",
              " 'غ': 782,\n",
              " 'ـ': 783,\n",
              " 'ف': 784,\n",
              " 'ق': 785,\n",
              " 'ك': 786,\n",
              " 'ل': 787,\n",
              " 'م': 788,\n",
              " 'ن': 789,\n",
              " 'ه': 790,\n",
              " 'و': 791,\n",
              " 'ى': 792,\n",
              " 'ي': 793,\n",
              " 'ً': 794,\n",
              " 'ٌ': 795,\n",
              " 'ٍ': 796,\n",
              " 'َ': 797,\n",
              " 'ُ': 798,\n",
              " 'ِ': 799,\n",
              " 'ّ': 800,\n",
              " 'ْ': 801,\n",
              " 'ٔ': 802,\n",
              " 'ٛ': 803,\n",
              " '٠': 804,\n",
              " '١': 805,\n",
              " '٢': 806,\n",
              " '٣': 807,\n",
              " '٤': 808,\n",
              " '٥': 809,\n",
              " '٩': 810,\n",
              " '٪': 811,\n",
              " '٫': 812,\n",
              " '٬': 813,\n",
              " '٭': 814,\n",
              " 'ٰ': 815,\n",
              " 'ٹ': 816,\n",
              " 'پ': 817,\n",
              " 'چ': 818,\n",
              " 'ڈ': 819,\n",
              " 'ڑ': 820,\n",
              " 'ژ': 821,\n",
              " 'ڤ': 822,\n",
              " 'ک': 823,\n",
              " 'ڭ': 824,\n",
              " 'گ': 825,\n",
              " 'ں': 826,\n",
              " 'ھ': 827,\n",
              " 'ۀ': 828,\n",
              " 'ہ': 829,\n",
              " 'ۂ': 830,\n",
              " 'ۃ': 831,\n",
              " 'ۆ': 832,\n",
              " 'ۇ': 833,\n",
              " 'ی': 834,\n",
              " 'ے': 835,\n",
              " 'ۓ': 836,\n",
              " '۔': 837,\n",
              " '۰': 838,\n",
              " '۱': 839,\n",
              " '۲': 840,\n",
              " '۳': 841,\n",
              " '۴': 842,\n",
              " '۵': 843,\n",
              " '۶': 844,\n",
              " '۷': 845,\n",
              " '۸': 846,\n",
              " '۹': 847,\n",
              " 'ँ': 848,\n",
              " 'ं': 849,\n",
              " 'ः': 850,\n",
              " 'अ': 851,\n",
              " 'आ': 852,\n",
              " 'इ': 853,\n",
              " 'ई': 854,\n",
              " 'उ': 855,\n",
              " 'ऊ': 856,\n",
              " 'ऋ': 857,\n",
              " 'ऍ': 858,\n",
              " 'ऎ': 859,\n",
              " 'ए': 860,\n",
              " 'ऐ': 861,\n",
              " 'ऑ': 862,\n",
              " 'ओ': 863,\n",
              " 'औ': 864,\n",
              " 'क': 865,\n",
              " 'ख': 866,\n",
              " 'ग': 867,\n",
              " 'घ': 868,\n",
              " 'ङ': 869,\n",
              " 'च': 870,\n",
              " 'छ': 871,\n",
              " 'ज': 872,\n",
              " 'झ': 873,\n",
              " 'ञ': 874,\n",
              " 'ट': 875,\n",
              " 'ठ': 876,\n",
              " 'ड': 877,\n",
              " 'ढ': 878,\n",
              " 'ण': 879,\n",
              " 'त': 880,\n",
              " 'थ': 881,\n",
              " 'द': 882,\n",
              " 'ध': 883,\n",
              " 'न': 884,\n",
              " 'प': 885,\n",
              " 'फ': 886,\n",
              " 'ब': 887,\n",
              " 'भ': 888,\n",
              " 'म': 889,\n",
              " 'य': 890,\n",
              " 'र': 891,\n",
              " 'ऱ': 892,\n",
              " 'ल': 893,\n",
              " 'ळ': 894,\n",
              " 'व': 895,\n",
              " 'श': 896,\n",
              " 'ष': 897,\n",
              " 'स': 898,\n",
              " 'ह': 899,\n",
              " '़': 900,\n",
              " 'ऽ': 901,\n",
              " 'ा': 902,\n",
              " 'ि': 903,\n",
              " 'ी': 904,\n",
              " 'ु': 905,\n",
              " 'ू': 906,\n",
              " 'ृ': 907,\n",
              " 'ॄ': 908,\n",
              " 'ॅ': 909,\n",
              " 'ॆ': 910,\n",
              " 'े': 911,\n",
              " 'ै': 912,\n",
              " 'ॉ': 913,\n",
              " 'ो': 914,\n",
              " 'ौ': 915,\n",
              " '्': 916,\n",
              " 'ॐ': 917,\n",
              " '॓': 918,\n",
              " 'ॠ': 919,\n",
              " '।': 920,\n",
              " '॥': 921,\n",
              " '०': 922,\n",
              " '१': 923,\n",
              " '२': 924,\n",
              " '३': 925,\n",
              " '४': 926,\n",
              " '५': 927,\n",
              " '६': 928,\n",
              " '७': 929,\n",
              " '८': 930,\n",
              " '९': 931,\n",
              " '॰': 932,\n",
              " 'ॲ': 933,\n",
              " 'ঁ': 934,\n",
              " 'ং': 935,\n",
              " 'ঃ': 936,\n",
              " 'অ': 937,\n",
              " 'আ': 938,\n",
              " 'ই': 939,\n",
              " 'ঈ': 940,\n",
              " 'উ': 941,\n",
              " 'ঊ': 942,\n",
              " 'ঋ': 943,\n",
              " 'এ': 944,\n",
              " 'ঐ': 945,\n",
              " 'ও': 946,\n",
              " 'ঔ': 947,\n",
              " 'ক': 948,\n",
              " 'খ': 949,\n",
              " 'গ': 950,\n",
              " 'ঘ': 951,\n",
              " 'ঙ': 952,\n",
              " 'চ': 953,\n",
              " 'ছ': 954,\n",
              " 'জ': 955,\n",
              " 'ঝ': 956,\n",
              " 'ঞ': 957,\n",
              " 'ট': 958,\n",
              " 'ঠ': 959,\n",
              " 'ড': 960,\n",
              " 'ঢ': 961,\n",
              " 'ণ': 962,\n",
              " 'ত': 963,\n",
              " 'থ': 964,\n",
              " 'দ': 965,\n",
              " 'ধ': 966,\n",
              " 'ন': 967,\n",
              " 'প': 968,\n",
              " 'ফ': 969,\n",
              " 'ব': 970,\n",
              " 'ভ': 971,\n",
              " 'ম': 972,\n",
              " 'য': 973,\n",
              " 'র': 974,\n",
              " 'ল': 975,\n",
              " 'শ': 976,\n",
              " 'ষ': 977,\n",
              " 'স': 978,\n",
              " 'হ': 979,\n",
              " '়': 980,\n",
              " 'া': 981,\n",
              " 'ি': 982,\n",
              " 'ী': 983,\n",
              " 'ু': 984,\n",
              " 'ূ': 985,\n",
              " 'ৃ': 986,\n",
              " 'ে': 987,\n",
              " 'ৈ': 988,\n",
              " 'ো': 989,\n",
              " 'ৌ': 990,\n",
              " '্': 991,\n",
              " 'ৎ': 992,\n",
              " '০': 993,\n",
              " '১': 994,\n",
              " '২': 995,\n",
              " '৩': 996,\n",
              " '৪': 997,\n",
              " '৫': 998,\n",
              " '৬': 999,\n",
              " ...}"
            ]
          },
          "metadata": {},
          "execution_count": 15
        }
      ],
      "source": [
        "token_dict"
      ]
    },
    {
      "cell_type": "markdown",
      "metadata": {
        "id": "0WhiwaBCIXqv"
      },
      "source": [
        "- Tokenizer 클래스를 상속받아서 inherit_Tokennizer라는 클래스를 재정의하고 _tokenize 함수를 새로 작성합니다. 왜 상속을 해서 함수를 새로 만들어야 하냐면, 만약 원래 클래스를 그대로 사용하면 입력한 문장이 \"완전자모분리\"됩니다. 예를 들어서 \"인공지능 할 수 있다\" 라는 문장이 있다면 원래 \"인,##공,##지,##능,할,수,있다\"로 분해가 되어야 하는데, ㅇ,##ㅣ,##ㄴ,ㄱ,##ㅗ,##ㅇ,ㅈ,##ㅣ,##ㄴ,##ㅡ,##ㅇ 이런 식으로 토큰화가 됩니다.\n",
        "\n",
        "- 두칸 아래에서 보시겠지만, inherit_Tokenizer클래스는 문장을 토큰화하는 기능을 합니다. \n",
        "\n",
        "- BERT의 토큰화는 단어를 분리하는 토큰화 방식입니다. wordpiece(단어조각?) 방식이라고 하는데, 이는 한국어를 형태소로 꼭 변환해야 할 문제를 해결해주며, 의미가 있는 단어는 밀접하게 연관이 되게 하는 장점까지 갖추고 있습니다.\n",
        "- 단어의 첫 시작은 ##가 붙지 않지만, 단어에 포함되면서 단어의 시작이 아닌 부분에는 ##가 붙는 것이 특징입니다."
      ]
    },
    {
      "cell_type": "code",
      "execution_count": null,
      "metadata": {
        "id": "keLv7zyZUKzZ"
      },
      "outputs": [],
      "source": [
        "class inherit_Tokenizer(Tokenizer):\n",
        "  def _tokenize(self, text):\n",
        "        if not self._cased:\n",
        "            text = text\n",
        "            \n",
        "            text = text.lower()\n",
        "        spaced = ''\n",
        "        for ch in text:\n",
        "            if self._is_punctuation(ch) or self._is_cjk_character(ch):\n",
        "                spaced += ' ' + ch + ' '\n",
        "            elif self._is_space(ch):\n",
        "                spaced += ' '\n",
        "            elif ord(ch) == 0 or ord(ch) == 0xfffd or self._is_control(ch):\n",
        "                continue\n",
        "            else:\n",
        "                spaced += ch\n",
        "        tokens = []\n",
        "        for word in spaced.strip().split():\n",
        "            tokens += self._word_piece_tokenize(word)\n",
        "        return tokens"
      ]
    },
    {
      "cell_type": "code",
      "execution_count": null,
      "metadata": {
        "id": "88T_cMA4tsk2"
      },
      "outputs": [],
      "source": [
        "tokenizer = inherit_Tokenizer(token_dict)"
      ]
    },
    {
      "cell_type": "markdown",
      "metadata": {
        "id": "W0dmxrOhJ9vD"
      },
      "source": [
        "토큰화가 잘 되었는지 확인해 봅니다.\n",
        "버트 모형은 문장 앞에 꼭 [CLS]라는 문자가 위치하고, [SEP]라는 문자가 끝에 위치합니다.  \n",
        "[CLS]는 문장의 시작, [SEP]는 문장의 끝을 의미합니다."
      ]
    },
    {
      "cell_type": "code",
      "execution_count": null,
      "metadata": {
        "colab": {
          "base_uri": "https://localhost:8080/"
        },
        "id": "-4EWrSTCMkzk",
        "outputId": "e1f6cc88-d4ed-4152-81e7-7fc37ed51545"
      },
      "outputs": [
        {
          "output_type": "execute_result",
          "data": {
            "text/plain": [
              "['[CLS]',\n",
              " '케',\n",
              " '##라',\n",
              " '##스로',\n",
              " '버',\n",
              " '##트',\n",
              " '해',\n",
              " '##보',\n",
              " '##기',\n",
              " '정',\n",
              " '##말',\n",
              " '재',\n",
              " '##밌',\n",
              " '##음',\n",
              " '.',\n",
              " '[SEP]']"
            ]
          },
          "metadata": {},
          "execution_count": 18
        }
      ],
      "source": [
        "tokenizer.tokenize(\"케라스로 버트 해보기 정말 재밌음.\")"
      ]
    },
    {
      "cell_type": "markdown",
      "metadata": {
        "id": "Fraw-fe9PL1k"
      },
      "source": [
        "로드하였던 뉴스 기사 감성분석 데이터를 **버트 모형의 입력에 맞게 변형해주는 함수**를 정의합니다.\n",
        "\n",
        "함수 내부에 tokenizer.encode 함수가 버트 모형을 토큰화해주고 토큰화 된 단어를 인덱스에 맞게 숫자로 바꿔주게 됩니다."
      ]
    },
    {
      "cell_type": "code",
      "execution_count": null,
      "metadata": {
        "id": "j8aX-OYL_X5d"
      },
      "outputs": [],
      "source": [
        "def convert_data(data_df):\n",
        "    global tokenizer\n",
        "    indices, targets = [], []\n",
        "    for i in tqdm(range(len(data_df))):\n",
        "        ids, segments = tokenizer.encode(data_df[DATA_COLUMN][i], max_len=SEQ_LEN)\n",
        "        indices.append(ids)\n",
        "        targets.append(data_df[LABEL_COLUMN][i])\n",
        "    items = list(zip(indices, targets))\n",
        "    \n",
        "    indices, targets = zip(*items)\n",
        "    indices = np.array(indices)\n",
        "    return [indices, np.zeros_like(indices)], np.array(targets)\n",
        "\n",
        "def load_data(pandas_dataframe):\n",
        "    data_df = pandas_dataframe\n",
        "    \n",
        "    \n",
        "    data_df[DATA_COLUMN] = data_df[DATA_COLUMN].astype(str)\n",
        "\n",
        "\n",
        "    data_x, data_y = convert_data(data_df)\n",
        "\n",
        "    return data_x, data_y"
      ]
    },
    {
      "cell_type": "code",
      "execution_count": null,
      "metadata": {
        "colab": {
          "base_uri": "https://localhost:8080/"
        },
        "id": "rNUYX-Rntsk_",
        "outputId": "94d54e4e-d440-45bc-bbd0-55e601a3d7e0"
      },
      "outputs": [
        {
          "output_type": "stream",
          "name": "stderr",
          "text": [
            "100%|██████████| 5700/5700 [00:01<00:00, 5528.38it/s]\n",
            "100%|██████████| 1425/1425 [00:00<00:00, 5518.59it/s]\n"
          ]
        }
      ],
      "source": [
        "train_x, train_y = load_data(train)\n",
        "test_x, test_y = load_data(test)"
      ]
    },
    {
      "cell_type": "markdown",
      "metadata": {
        "id": "oXdjhy0cLlYA"
      },
      "source": [
        "- 사전학습된 버트 모델의 인풋은 문장 토큰화가 숫자로 바뀐 것과, 앞문장인지 뒷문장인지 알려주는 문장 순서 벡터가 들어갑니다. 우리는 문장 하나를 가지고만 훈련할 것이므로 순서 벡터는 모두 0으로 통일합니다.\n",
        "\n",
        "- 그리고 파인튜닝 시에는 문장 안에 일부 단어를 가리는 마스킹은 사용하지 않습니다."
      ]
    },
    {
      "cell_type": "code",
      "execution_count": null,
      "metadata": {
        "colab": {
          "base_uri": "https://localhost:8080/"
        },
        "id": "3ebac6xXM1aB",
        "outputId": "1b8a167f-76a7-4e5a-8f48-7a76dcb5919e"
      },
      "outputs": [
        {
          "output_type": "execute_result",
          "data": {
            "text/plain": [
              "[array([[  101,  8996, 10954, ...,     0,     0,     0],\n",
              "        [  101,  9069, 52363, ...,     0,     0,     0],\n",
              "        [  101,   112,  9711, ...,     0,     0,     0],\n",
              "        ...,\n",
              "        [  101,  8863, 37388, ...,     0,     0,     0],\n",
              "        [  101, 48253,  9519, ...,     0,     0,     0],\n",
              "        [  101,  8853, 37004, ...,     0,     0,     0]]),\n",
              " array([[0, 0, 0, ..., 0, 0, 0],\n",
              "        [0, 0, 0, ..., 0, 0, 0],\n",
              "        [0, 0, 0, ..., 0, 0, 0],\n",
              "        ...,\n",
              "        [0, 0, 0, ..., 0, 0, 0],\n",
              "        [0, 0, 0, ..., 0, 0, 0],\n",
              "        [0, 0, 0, ..., 0, 0, 0]])]"
            ]
          },
          "metadata": {},
          "execution_count": 21
        }
      ],
      "source": [
        "train_x"
      ]
    },
    {
      "cell_type": "markdown",
      "metadata": {
        "id": "I9sFKLjD-v2n"
      },
      "source": [
        "**버트 모형에 들어갈 인풋은 토큰, 세그먼트, 포지션으로 구성됩니다.**  \n",
        "버트에 인풋으로 들어가는 토큰은 문장을 토크나이징 한 후, 인덱스 번호를 매긴 것입니다.  \n",
        "세그먼트는 예를 들어 문장이 두 개가 있다면, 앞의 문장과 뒤의 문장을 구분하는 것입니다.  \n",
        "포지션 임베딩은 단순히 단어의 위치를 말합니다.\n",
        "\n",
        "토큰, 세그먼트, 포지션을 인풋으로 버트 모형에 넣으면 기하학적인 문장 공간으로 임베딩이 됩니다.\n",
        "\n",
        "![대체 텍스트](https://i.imgur.com/l9BTao3.png)"
      ]
    },
    {
      "cell_type": "markdown",
      "metadata": {
        "id": "vnh0ZuikSzz6"
      },
      "source": [
        "#### 인풋은 총 2개가 들어갑니다\n",
        "- **(토큰)** 첫번째 인풋은 토큰화 된 것이 인덱싱되어 숫자로 변환된 것  \n",
        "\n",
        "- **(세그멘트)** 두번째 인풋은 앞문장인지 뒷문장인지 알려주는 숫자들입니다. 이번 튜토리얼에서는 파인튜닝 과정이라 앞문장 뒷문장 구분을 안하기 때문에 모두 0으로 하였습니다.  \n",
        "\n",
        "- **(포지션)** 단어 순서에 따라서 자동으로 부여됩니다.\n"
      ]
    },
    {
      "cell_type": "code",
      "execution_count": null,
      "metadata": {
        "id": "xC-R3Be9TAG-"
      },
      "outputs": [],
      "source": [
        "def sentence_convert_data(data):\n",
        "    global tokenizer\n",
        "    indices = []\n",
        "    for i in tqdm(range(len(data))):\n",
        "        print(tokenizer.tokenize(data[i]))\n",
        "        ids, segments = tokenizer.encode(data[i], max_len=SEQ_LEN)\n",
        "        indices.append(ids)\n",
        "        \n",
        "    items = indices\n",
        "    indices = np.array(indices)\n",
        "    return [indices, np.zeros_like(indices)]\n",
        "\n",
        "def sentence_load_data(sentences):#sentence는 List로 받는다\n",
        "           \n",
        "    data_x = sentence_convert_data(sentences)\n",
        "\n",
        "    return data_x"
      ]
    },
    {
      "cell_type": "code",
      "execution_count": null,
      "metadata": {
        "colab": {
          "base_uri": "https://localhost:8080/"
        },
        "id": "yXKukii1Rzq3",
        "outputId": "bae7fe5d-58f6-4db4-a066-a2c21ba1725c"
      },
      "outputs": [
        {
          "output_type": "stream",
          "name": "stderr",
          "text": [
            "100%|██████████| 2/2 [00:00<00:00, 4412.73it/s]"
          ]
        },
        {
          "output_type": "stream",
          "name": "stdout",
          "text": [
            "['[CLS]', '케', '##라', '##스로', '버', '##트', '시', '##도', '##하기', '정', '##말', '어', '##렵', '##지만', '흥', '##미', '##로', '##워', '[SEP]']\n",
            "['[CLS]', '케', '##라', '##스', '재', '##밌', '##어', '즐', '##거', '##워', '[SEP]']\n"
          ]
        },
        {
          "output_type": "stream",
          "name": "stderr",
          "text": [
            "\n"
          ]
        },
        {
          "output_type": "execute_result",
          "data": {
            "text/plain": [
              "[array([[   101,   9806,  17342,  94980,   9336,  15184,   9485,  12092,\n",
              "          22440,   9670,  89523,   9546, 118879,  28578,  10021,  22458,\n",
              "          11261,  69592,    102,      0,      0,      0,      0,      0,\n",
              "              0,      0,      0,      0,      0,      0,      0,      0,\n",
              "              0,      0,      0,      0,      0,      0,      0,      0,\n",
              "              0,      0,      0,      0,      0,      0,      0,      0,\n",
              "              0,      0,      0,      0,      0,      0,      0,      0,\n",
              "              0,      0,      0,      0,      0,      0,      0,      0,\n",
              "              0,      0,      0,      0,      0,      0,      0,      0,\n",
              "              0,      0,      0,      0,      0,      0,      0,      0,\n",
              "              0,      0,      0,      0,      0,      0,      0,      0,\n",
              "              0,      0,      0,      0,      0,      0,      0,      0,\n",
              "              0,      0,      0,      0,      0,      0,      0,      0,\n",
              "              0,      0,      0,      0,      0,      0,      0,      0,\n",
              "              0,      0,      0,      0,      0,      0,      0,      0,\n",
              "              0,      0,      0,      0,      0,      0,      0,      0],\n",
              "        [   101,   9806,  17342,  12605,   9659,    100,  12965,   9703,\n",
              "          41521,  69592,    102,      0,      0,      0,      0,      0,\n",
              "              0,      0,      0,      0,      0,      0,      0,      0,\n",
              "              0,      0,      0,      0,      0,      0,      0,      0,\n",
              "              0,      0,      0,      0,      0,      0,      0,      0,\n",
              "              0,      0,      0,      0,      0,      0,      0,      0,\n",
              "              0,      0,      0,      0,      0,      0,      0,      0,\n",
              "              0,      0,      0,      0,      0,      0,      0,      0,\n",
              "              0,      0,      0,      0,      0,      0,      0,      0,\n",
              "              0,      0,      0,      0,      0,      0,      0,      0,\n",
              "              0,      0,      0,      0,      0,      0,      0,      0,\n",
              "              0,      0,      0,      0,      0,      0,      0,      0,\n",
              "              0,      0,      0,      0,      0,      0,      0,      0,\n",
              "              0,      0,      0,      0,      0,      0,      0,      0,\n",
              "              0,      0,      0,      0,      0,      0,      0,      0,\n",
              "              0,      0,      0,      0,      0,      0,      0,      0]]),\n",
              " array([[0, 0, 0, 0, 0, 0, 0, 0, 0, 0, 0, 0, 0, 0, 0, 0, 0, 0, 0, 0, 0, 0,\n",
              "         0, 0, 0, 0, 0, 0, 0, 0, 0, 0, 0, 0, 0, 0, 0, 0, 0, 0, 0, 0, 0, 0,\n",
              "         0, 0, 0, 0, 0, 0, 0, 0, 0, 0, 0, 0, 0, 0, 0, 0, 0, 0, 0, 0, 0, 0,\n",
              "         0, 0, 0, 0, 0, 0, 0, 0, 0, 0, 0, 0, 0, 0, 0, 0, 0, 0, 0, 0, 0, 0,\n",
              "         0, 0, 0, 0, 0, 0, 0, 0, 0, 0, 0, 0, 0, 0, 0, 0, 0, 0, 0, 0, 0, 0,\n",
              "         0, 0, 0, 0, 0, 0, 0, 0, 0, 0, 0, 0, 0, 0, 0, 0, 0, 0],\n",
              "        [0, 0, 0, 0, 0, 0, 0, 0, 0, 0, 0, 0, 0, 0, 0, 0, 0, 0, 0, 0, 0, 0,\n",
              "         0, 0, 0, 0, 0, 0, 0, 0, 0, 0, 0, 0, 0, 0, 0, 0, 0, 0, 0, 0, 0, 0,\n",
              "         0, 0, 0, 0, 0, 0, 0, 0, 0, 0, 0, 0, 0, 0, 0, 0, 0, 0, 0, 0, 0, 0,\n",
              "         0, 0, 0, 0, 0, 0, 0, 0, 0, 0, 0, 0, 0, 0, 0, 0, 0, 0, 0, 0, 0, 0,\n",
              "         0, 0, 0, 0, 0, 0, 0, 0, 0, 0, 0, 0, 0, 0, 0, 0, 0, 0, 0, 0, 0, 0,\n",
              "         0, 0, 0, 0, 0, 0, 0, 0, 0, 0, 0, 0, 0, 0, 0, 0, 0, 0]])]"
            ]
          },
          "metadata": {},
          "execution_count": 23
        }
      ],
      "source": [
        "sentence_load_data([\"케라스로 버트 시도하기 정말 어렵지만 흥미로워\", \"케라스 재밌어 즐거워\"])"
      ]
    },
    {
      "cell_type": "markdown",
      "metadata": {
        "id": "RZ23W0s8MCBt"
      },
      "source": [
        "구글 깃허브에서 다운받았던 사전학습된 모델을 colab으로 로드합니다."
      ]
    },
    {
      "cell_type": "code",
      "execution_count": null,
      "metadata": {
        "id": "8auSqxdHtslD",
        "scrolled": false,
        "colab": {
          "base_uri": "https://localhost:8080/"
        },
        "outputId": "fbb76eff-8088-48d7-a2fb-d0d23ff2ad38"
      },
      "outputs": [
        {
          "output_type": "stream",
          "name": "stderr",
          "text": [
            "WARNING:tensorflow:From /usr/local/lib/python3.7/dist-packages/keras/initializers/initializers_v1.py:278: calling RandomUniform.__init__ (from tensorflow.python.ops.init_ops) with dtype is deprecated and will be removed in a future version.\n",
            "Instructions for updating:\n",
            "Call initializer instance with the dtype argument instead of passing it to the constructor\n"
          ]
        }
      ],
      "source": [
        "layer_num = 12\n",
        "model = load_trained_model_from_checkpoint(\n",
        "    config_path,\n",
        "    checkpoint_path,\n",
        "    training=True,\n",
        "    trainable=True,\n",
        "    seq_len=SEQ_LEN,)"
      ]
    },
    {
      "cell_type": "markdown",
      "metadata": {
        "id": "_ptok2n0MHoV"
      },
      "source": [
        "모델의 구조를 확인합니다.  \n",
        "총 12층의 트랜스포머 계층이 있음을 확인할 수 있습니다.\n"
      ]
    },
    {
      "cell_type": "code",
      "execution_count": null,
      "metadata": {
        "colab": {
          "base_uri": "https://localhost:8080/"
        },
        "id": "vBoYL3ga6A8L",
        "outputId": "c681d85e-8e84-4a94-c9d1-2a946cb25d5b"
      },
      "outputs": [
        {
          "output_type": "stream",
          "name": "stdout",
          "text": [
            "Model: \"model\"\n",
            "__________________________________________________________________________________________________\n",
            " Layer (type)                   Output Shape         Param #     Connected to                     \n",
            "==================================================================================================\n",
            " Input-Token (InputLayer)       [(None, 128)]        0           []                               \n",
            "                                                                                                  \n",
            " Input-Segment (InputLayer)     [(None, 128)]        0           []                               \n",
            "                                                                                                  \n",
            " Embedding-Token (TokenEmbeddin  [(None, 128, 768),  91812096    ['Input-Token[0][0]']            \n",
            " g)                              (119547, 768)]                                                   \n",
            "                                                                                                  \n",
            " Embedding-Segment (Embedding)  (None, 128, 768)     1536        ['Input-Segment[0][0]']          \n",
            "                                                                                                  \n",
            " Embedding-Token-Segment (Add)  (None, 128, 768)     0           ['Embedding-Token[0][0]',        \n",
            "                                                                  'Embedding-Segment[0][0]']      \n",
            "                                                                                                  \n",
            " Embedding-Position (PositionEm  (None, 128, 768)    98304       ['Embedding-Token-Segment[0][0]']\n",
            " bedding)                                                                                         \n",
            "                                                                                                  \n",
            " Embedding-Dropout (Dropout)    (None, 128, 768)     0           ['Embedding-Position[0][0]']     \n",
            "                                                                                                  \n",
            " Embedding-Norm (LayerNormaliza  (None, 128, 768)    1536        ['Embedding-Dropout[0][0]']      \n",
            " tion)                                                                                            \n",
            "                                                                                                  \n",
            " Encoder-1-MultiHeadSelfAttenti  (None, 128, 768)    2362368     ['Embedding-Norm[0][0]']         \n",
            " on (MultiHeadAttention)                                                                          \n",
            "                                                                                                  \n",
            " Encoder-1-MultiHeadSelfAttenti  (None, 128, 768)    0           ['Encoder-1-MultiHeadSelfAttentio\n",
            " on-Dropout (Dropout)                                            n[0][0]']                        \n",
            "                                                                                                  \n",
            " Encoder-1-MultiHeadSelfAttenti  (None, 128, 768)    0           ['Embedding-Norm[0][0]',         \n",
            " on-Add (Add)                                                     'Encoder-1-MultiHeadSelfAttentio\n",
            "                                                                 n-Dropout[0][0]']                \n",
            "                                                                                                  \n",
            " Encoder-1-MultiHeadSelfAttenti  (None, 128, 768)    1536        ['Encoder-1-MultiHeadSelfAttentio\n",
            " on-Norm (LayerNormalization)                                    n-Add[0][0]']                    \n",
            "                                                                                                  \n",
            " Encoder-1-FeedForward (FeedFor  (None, 128, 768)    4722432     ['Encoder-1-MultiHeadSelfAttentio\n",
            " ward)                                                           n-Norm[0][0]']                   \n",
            "                                                                                                  \n",
            " Encoder-1-FeedForward-Dropout   (None, 128, 768)    0           ['Encoder-1-FeedForward[0][0]']  \n",
            " (Dropout)                                                                                        \n",
            "                                                                                                  \n",
            " Encoder-1-FeedForward-Add (Add  (None, 128, 768)    0           ['Encoder-1-MultiHeadSelfAttentio\n",
            " )                                                               n-Norm[0][0]',                   \n",
            "                                                                  'Encoder-1-FeedForward-Dropout[0\n",
            "                                                                 ][0]']                           \n",
            "                                                                                                  \n",
            " Encoder-1-FeedForward-Norm (La  (None, 128, 768)    1536        ['Encoder-1-FeedForward-Add[0][0]\n",
            " yerNormalization)                                               ']                               \n",
            "                                                                                                  \n",
            " Encoder-2-MultiHeadSelfAttenti  (None, 128, 768)    2362368     ['Encoder-1-FeedForward-Norm[0][0\n",
            " on (MultiHeadAttention)                                         ]']                              \n",
            "                                                                                                  \n",
            " Encoder-2-MultiHeadSelfAttenti  (None, 128, 768)    0           ['Encoder-2-MultiHeadSelfAttentio\n",
            " on-Dropout (Dropout)                                            n[0][0]']                        \n",
            "                                                                                                  \n",
            " Encoder-2-MultiHeadSelfAttenti  (None, 128, 768)    0           ['Encoder-1-FeedForward-Norm[0][0\n",
            " on-Add (Add)                                                    ]',                              \n",
            "                                                                  'Encoder-2-MultiHeadSelfAttentio\n",
            "                                                                 n-Dropout[0][0]']                \n",
            "                                                                                                  \n",
            " Encoder-2-MultiHeadSelfAttenti  (None, 128, 768)    1536        ['Encoder-2-MultiHeadSelfAttentio\n",
            " on-Norm (LayerNormalization)                                    n-Add[0][0]']                    \n",
            "                                                                                                  \n",
            " Encoder-2-FeedForward (FeedFor  (None, 128, 768)    4722432     ['Encoder-2-MultiHeadSelfAttentio\n",
            " ward)                                                           n-Norm[0][0]']                   \n",
            "                                                                                                  \n",
            " Encoder-2-FeedForward-Dropout   (None, 128, 768)    0           ['Encoder-2-FeedForward[0][0]']  \n",
            " (Dropout)                                                                                        \n",
            "                                                                                                  \n",
            " Encoder-2-FeedForward-Add (Add  (None, 128, 768)    0           ['Encoder-2-MultiHeadSelfAttentio\n",
            " )                                                               n-Norm[0][0]',                   \n",
            "                                                                  'Encoder-2-FeedForward-Dropout[0\n",
            "                                                                 ][0]']                           \n",
            "                                                                                                  \n",
            " Encoder-2-FeedForward-Norm (La  (None, 128, 768)    1536        ['Encoder-2-FeedForward-Add[0][0]\n",
            " yerNormalization)                                               ']                               \n",
            "                                                                                                  \n",
            " Encoder-3-MultiHeadSelfAttenti  (None, 128, 768)    2362368     ['Encoder-2-FeedForward-Norm[0][0\n",
            " on (MultiHeadAttention)                                         ]']                              \n",
            "                                                                                                  \n",
            " Encoder-3-MultiHeadSelfAttenti  (None, 128, 768)    0           ['Encoder-3-MultiHeadSelfAttentio\n",
            " on-Dropout (Dropout)                                            n[0][0]']                        \n",
            "                                                                                                  \n",
            " Encoder-3-MultiHeadSelfAttenti  (None, 128, 768)    0           ['Encoder-2-FeedForward-Norm[0][0\n",
            " on-Add (Add)                                                    ]',                              \n",
            "                                                                  'Encoder-3-MultiHeadSelfAttentio\n",
            "                                                                 n-Dropout[0][0]']                \n",
            "                                                                                                  \n",
            " Encoder-3-MultiHeadSelfAttenti  (None, 128, 768)    1536        ['Encoder-3-MultiHeadSelfAttentio\n",
            " on-Norm (LayerNormalization)                                    n-Add[0][0]']                    \n",
            "                                                                                                  \n",
            " Encoder-3-FeedForward (FeedFor  (None, 128, 768)    4722432     ['Encoder-3-MultiHeadSelfAttentio\n",
            " ward)                                                           n-Norm[0][0]']                   \n",
            "                                                                                                  \n",
            " Encoder-3-FeedForward-Dropout   (None, 128, 768)    0           ['Encoder-3-FeedForward[0][0]']  \n",
            " (Dropout)                                                                                        \n",
            "                                                                                                  \n",
            " Encoder-3-FeedForward-Add (Add  (None, 128, 768)    0           ['Encoder-3-MultiHeadSelfAttentio\n",
            " )                                                               n-Norm[0][0]',                   \n",
            "                                                                  'Encoder-3-FeedForward-Dropout[0\n",
            "                                                                 ][0]']                           \n",
            "                                                                                                  \n",
            " Encoder-3-FeedForward-Norm (La  (None, 128, 768)    1536        ['Encoder-3-FeedForward-Add[0][0]\n",
            " yerNormalization)                                               ']                               \n",
            "                                                                                                  \n",
            " Encoder-4-MultiHeadSelfAttenti  (None, 128, 768)    2362368     ['Encoder-3-FeedForward-Norm[0][0\n",
            " on (MultiHeadAttention)                                         ]']                              \n",
            "                                                                                                  \n",
            " Encoder-4-MultiHeadSelfAttenti  (None, 128, 768)    0           ['Encoder-4-MultiHeadSelfAttentio\n",
            " on-Dropout (Dropout)                                            n[0][0]']                        \n",
            "                                                                                                  \n",
            " Encoder-4-MultiHeadSelfAttenti  (None, 128, 768)    0           ['Encoder-3-FeedForward-Norm[0][0\n",
            " on-Add (Add)                                                    ]',                              \n",
            "                                                                  'Encoder-4-MultiHeadSelfAttentio\n",
            "                                                                 n-Dropout[0][0]']                \n",
            "                                                                                                  \n",
            " Encoder-4-MultiHeadSelfAttenti  (None, 128, 768)    1536        ['Encoder-4-MultiHeadSelfAttentio\n",
            " on-Norm (LayerNormalization)                                    n-Add[0][0]']                    \n",
            "                                                                                                  \n",
            " Encoder-4-FeedForward (FeedFor  (None, 128, 768)    4722432     ['Encoder-4-MultiHeadSelfAttentio\n",
            " ward)                                                           n-Norm[0][0]']                   \n",
            "                                                                                                  \n",
            " Encoder-4-FeedForward-Dropout   (None, 128, 768)    0           ['Encoder-4-FeedForward[0][0]']  \n",
            " (Dropout)                                                                                        \n",
            "                                                                                                  \n",
            " Encoder-4-FeedForward-Add (Add  (None, 128, 768)    0           ['Encoder-4-MultiHeadSelfAttentio\n",
            " )                                                               n-Norm[0][0]',                   \n",
            "                                                                  'Encoder-4-FeedForward-Dropout[0\n",
            "                                                                 ][0]']                           \n",
            "                                                                                                  \n",
            " Encoder-4-FeedForward-Norm (La  (None, 128, 768)    1536        ['Encoder-4-FeedForward-Add[0][0]\n",
            " yerNormalization)                                               ']                               \n",
            "                                                                                                  \n",
            " Encoder-5-MultiHeadSelfAttenti  (None, 128, 768)    2362368     ['Encoder-4-FeedForward-Norm[0][0\n",
            " on (MultiHeadAttention)                                         ]']                              \n",
            "                                                                                                  \n",
            " Encoder-5-MultiHeadSelfAttenti  (None, 128, 768)    0           ['Encoder-5-MultiHeadSelfAttentio\n",
            " on-Dropout (Dropout)                                            n[0][0]']                        \n",
            "                                                                                                  \n",
            " Encoder-5-MultiHeadSelfAttenti  (None, 128, 768)    0           ['Encoder-4-FeedForward-Norm[0][0\n",
            " on-Add (Add)                                                    ]',                              \n",
            "                                                                  'Encoder-5-MultiHeadSelfAttentio\n",
            "                                                                 n-Dropout[0][0]']                \n",
            "                                                                                                  \n",
            " Encoder-5-MultiHeadSelfAttenti  (None, 128, 768)    1536        ['Encoder-5-MultiHeadSelfAttentio\n",
            " on-Norm (LayerNormalization)                                    n-Add[0][0]']                    \n",
            "                                                                                                  \n",
            " Encoder-5-FeedForward (FeedFor  (None, 128, 768)    4722432     ['Encoder-5-MultiHeadSelfAttentio\n",
            " ward)                                                           n-Norm[0][0]']                   \n",
            "                                                                                                  \n",
            " Encoder-5-FeedForward-Dropout   (None, 128, 768)    0           ['Encoder-5-FeedForward[0][0]']  \n",
            " (Dropout)                                                                                        \n",
            "                                                                                                  \n",
            " Encoder-5-FeedForward-Add (Add  (None, 128, 768)    0           ['Encoder-5-MultiHeadSelfAttentio\n",
            " )                                                               n-Norm[0][0]',                   \n",
            "                                                                  'Encoder-5-FeedForward-Dropout[0\n",
            "                                                                 ][0]']                           \n",
            "                                                                                                  \n",
            " Encoder-5-FeedForward-Norm (La  (None, 128, 768)    1536        ['Encoder-5-FeedForward-Add[0][0]\n",
            " yerNormalization)                                               ']                               \n",
            "                                                                                                  \n",
            " Encoder-6-MultiHeadSelfAttenti  (None, 128, 768)    2362368     ['Encoder-5-FeedForward-Norm[0][0\n",
            " on (MultiHeadAttention)                                         ]']                              \n",
            "                                                                                                  \n",
            " Encoder-6-MultiHeadSelfAttenti  (None, 128, 768)    0           ['Encoder-6-MultiHeadSelfAttentio\n",
            " on-Dropout (Dropout)                                            n[0][0]']                        \n",
            "                                                                                                  \n",
            " Encoder-6-MultiHeadSelfAttenti  (None, 128, 768)    0           ['Encoder-5-FeedForward-Norm[0][0\n",
            " on-Add (Add)                                                    ]',                              \n",
            "                                                                  'Encoder-6-MultiHeadSelfAttentio\n",
            "                                                                 n-Dropout[0][0]']                \n",
            "                                                                                                  \n",
            " Encoder-6-MultiHeadSelfAttenti  (None, 128, 768)    1536        ['Encoder-6-MultiHeadSelfAttentio\n",
            " on-Norm (LayerNormalization)                                    n-Add[0][0]']                    \n",
            "                                                                                                  \n",
            " Encoder-6-FeedForward (FeedFor  (None, 128, 768)    4722432     ['Encoder-6-MultiHeadSelfAttentio\n",
            " ward)                                                           n-Norm[0][0]']                   \n",
            "                                                                                                  \n",
            " Encoder-6-FeedForward-Dropout   (None, 128, 768)    0           ['Encoder-6-FeedForward[0][0]']  \n",
            " (Dropout)                                                                                        \n",
            "                                                                                                  \n",
            " Encoder-6-FeedForward-Add (Add  (None, 128, 768)    0           ['Encoder-6-MultiHeadSelfAttentio\n",
            " )                                                               n-Norm[0][0]',                   \n",
            "                                                                  'Encoder-6-FeedForward-Dropout[0\n",
            "                                                                 ][0]']                           \n",
            "                                                                                                  \n",
            " Encoder-6-FeedForward-Norm (La  (None, 128, 768)    1536        ['Encoder-6-FeedForward-Add[0][0]\n",
            " yerNormalization)                                               ']                               \n",
            "                                                                                                  \n",
            " Encoder-7-MultiHeadSelfAttenti  (None, 128, 768)    2362368     ['Encoder-6-FeedForward-Norm[0][0\n",
            " on (MultiHeadAttention)                                         ]']                              \n",
            "                                                                                                  \n",
            " Encoder-7-MultiHeadSelfAttenti  (None, 128, 768)    0           ['Encoder-7-MultiHeadSelfAttentio\n",
            " on-Dropout (Dropout)                                            n[0][0]']                        \n",
            "                                                                                                  \n",
            " Encoder-7-MultiHeadSelfAttenti  (None, 128, 768)    0           ['Encoder-6-FeedForward-Norm[0][0\n",
            " on-Add (Add)                                                    ]',                              \n",
            "                                                                  'Encoder-7-MultiHeadSelfAttentio\n",
            "                                                                 n-Dropout[0][0]']                \n",
            "                                                                                                  \n",
            " Encoder-7-MultiHeadSelfAttenti  (None, 128, 768)    1536        ['Encoder-7-MultiHeadSelfAttentio\n",
            " on-Norm (LayerNormalization)                                    n-Add[0][0]']                    \n",
            "                                                                                                  \n",
            " Encoder-7-FeedForward (FeedFor  (None, 128, 768)    4722432     ['Encoder-7-MultiHeadSelfAttentio\n",
            " ward)                                                           n-Norm[0][0]']                   \n",
            "                                                                                                  \n",
            " Encoder-7-FeedForward-Dropout   (None, 128, 768)    0           ['Encoder-7-FeedForward[0][0]']  \n",
            " (Dropout)                                                                                        \n",
            "                                                                                                  \n",
            " Encoder-7-FeedForward-Add (Add  (None, 128, 768)    0           ['Encoder-7-MultiHeadSelfAttentio\n",
            " )                                                               n-Norm[0][0]',                   \n",
            "                                                                  'Encoder-7-FeedForward-Dropout[0\n",
            "                                                                 ][0]']                           \n",
            "                                                                                                  \n",
            " Encoder-7-FeedForward-Norm (La  (None, 128, 768)    1536        ['Encoder-7-FeedForward-Add[0][0]\n",
            " yerNormalization)                                               ']                               \n",
            "                                                                                                  \n",
            " Encoder-8-MultiHeadSelfAttenti  (None, 128, 768)    2362368     ['Encoder-7-FeedForward-Norm[0][0\n",
            " on (MultiHeadAttention)                                         ]']                              \n",
            "                                                                                                  \n",
            " Encoder-8-MultiHeadSelfAttenti  (None, 128, 768)    0           ['Encoder-8-MultiHeadSelfAttentio\n",
            " on-Dropout (Dropout)                                            n[0][0]']                        \n",
            "                                                                                                  \n",
            " Encoder-8-MultiHeadSelfAttenti  (None, 128, 768)    0           ['Encoder-7-FeedForward-Norm[0][0\n",
            " on-Add (Add)                                                    ]',                              \n",
            "                                                                  'Encoder-8-MultiHeadSelfAttentio\n",
            "                                                                 n-Dropout[0][0]']                \n",
            "                                                                                                  \n",
            " Encoder-8-MultiHeadSelfAttenti  (None, 128, 768)    1536        ['Encoder-8-MultiHeadSelfAttentio\n",
            " on-Norm (LayerNormalization)                                    n-Add[0][0]']                    \n",
            "                                                                                                  \n",
            " Encoder-8-FeedForward (FeedFor  (None, 128, 768)    4722432     ['Encoder-8-MultiHeadSelfAttentio\n",
            " ward)                                                           n-Norm[0][0]']                   \n",
            "                                                                                                  \n",
            " Encoder-8-FeedForward-Dropout   (None, 128, 768)    0           ['Encoder-8-FeedForward[0][0]']  \n",
            " (Dropout)                                                                                        \n",
            "                                                                                                  \n",
            " Encoder-8-FeedForward-Add (Add  (None, 128, 768)    0           ['Encoder-8-MultiHeadSelfAttentio\n",
            " )                                                               n-Norm[0][0]',                   \n",
            "                                                                  'Encoder-8-FeedForward-Dropout[0\n",
            "                                                                 ][0]']                           \n",
            "                                                                                                  \n",
            " Encoder-8-FeedForward-Norm (La  (None, 128, 768)    1536        ['Encoder-8-FeedForward-Add[0][0]\n",
            " yerNormalization)                                               ']                               \n",
            "                                                                                                  \n",
            " Encoder-9-MultiHeadSelfAttenti  (None, 128, 768)    2362368     ['Encoder-8-FeedForward-Norm[0][0\n",
            " on (MultiHeadAttention)                                         ]']                              \n",
            "                                                                                                  \n",
            " Encoder-9-MultiHeadSelfAttenti  (None, 128, 768)    0           ['Encoder-9-MultiHeadSelfAttentio\n",
            " on-Dropout (Dropout)                                            n[0][0]']                        \n",
            "                                                                                                  \n",
            " Encoder-9-MultiHeadSelfAttenti  (None, 128, 768)    0           ['Encoder-8-FeedForward-Norm[0][0\n",
            " on-Add (Add)                                                    ]',                              \n",
            "                                                                  'Encoder-9-MultiHeadSelfAttentio\n",
            "                                                                 n-Dropout[0][0]']                \n",
            "                                                                                                  \n",
            " Encoder-9-MultiHeadSelfAttenti  (None, 128, 768)    1536        ['Encoder-9-MultiHeadSelfAttentio\n",
            " on-Norm (LayerNormalization)                                    n-Add[0][0]']                    \n",
            "                                                                                                  \n",
            " Encoder-9-FeedForward (FeedFor  (None, 128, 768)    4722432     ['Encoder-9-MultiHeadSelfAttentio\n",
            " ward)                                                           n-Norm[0][0]']                   \n",
            "                                                                                                  \n",
            " Encoder-9-FeedForward-Dropout   (None, 128, 768)    0           ['Encoder-9-FeedForward[0][0]']  \n",
            " (Dropout)                                                                                        \n",
            "                                                                                                  \n",
            " Encoder-9-FeedForward-Add (Add  (None, 128, 768)    0           ['Encoder-9-MultiHeadSelfAttentio\n",
            " )                                                               n-Norm[0][0]',                   \n",
            "                                                                  'Encoder-9-FeedForward-Dropout[0\n",
            "                                                                 ][0]']                           \n",
            "                                                                                                  \n",
            " Encoder-9-FeedForward-Norm (La  (None, 128, 768)    1536        ['Encoder-9-FeedForward-Add[0][0]\n",
            " yerNormalization)                                               ']                               \n",
            "                                                                                                  \n",
            " Encoder-10-MultiHeadSelfAttent  (None, 128, 768)    2362368     ['Encoder-9-FeedForward-Norm[0][0\n",
            " ion (MultiHeadAttention)                                        ]']                              \n",
            "                                                                                                  \n",
            " Encoder-10-MultiHeadSelfAttent  (None, 128, 768)    0           ['Encoder-10-MultiHeadSelfAttenti\n",
            " ion-Dropout (Dropout)                                           on[0][0]']                       \n",
            "                                                                                                  \n",
            " Encoder-10-MultiHeadSelfAttent  (None, 128, 768)    0           ['Encoder-9-FeedForward-Norm[0][0\n",
            " ion-Add (Add)                                                   ]',                              \n",
            "                                                                  'Encoder-10-MultiHeadSelfAttenti\n",
            "                                                                 on-Dropout[0][0]']               \n",
            "                                                                                                  \n",
            " Encoder-10-MultiHeadSelfAttent  (None, 128, 768)    1536        ['Encoder-10-MultiHeadSelfAttenti\n",
            " ion-Norm (LayerNormalization)                                   on-Add[0][0]']                   \n",
            "                                                                                                  \n",
            " Encoder-10-FeedForward (FeedFo  (None, 128, 768)    4722432     ['Encoder-10-MultiHeadSelfAttenti\n",
            " rward)                                                          on-Norm[0][0]']                  \n",
            "                                                                                                  \n",
            " Encoder-10-FeedForward-Dropout  (None, 128, 768)    0           ['Encoder-10-FeedForward[0][0]'] \n",
            "  (Dropout)                                                                                       \n",
            "                                                                                                  \n",
            " Encoder-10-FeedForward-Add (Ad  (None, 128, 768)    0           ['Encoder-10-MultiHeadSelfAttenti\n",
            " d)                                                              on-Norm[0][0]',                  \n",
            "                                                                  'Encoder-10-FeedForward-Dropout[\n",
            "                                                                 0][0]']                          \n",
            "                                                                                                  \n",
            " Encoder-10-FeedForward-Norm (L  (None, 128, 768)    1536        ['Encoder-10-FeedForward-Add[0][0\n",
            " ayerNormalization)                                              ]']                              \n",
            "                                                                                                  \n",
            " Encoder-11-MultiHeadSelfAttent  (None, 128, 768)    2362368     ['Encoder-10-FeedForward-Norm[0][\n",
            " ion (MultiHeadAttention)                                        0]']                             \n",
            "                                                                                                  \n",
            " Encoder-11-MultiHeadSelfAttent  (None, 128, 768)    0           ['Encoder-11-MultiHeadSelfAttenti\n",
            " ion-Dropout (Dropout)                                           on[0][0]']                       \n",
            "                                                                                                  \n",
            " Encoder-11-MultiHeadSelfAttent  (None, 128, 768)    0           ['Encoder-10-FeedForward-Norm[0][\n",
            " ion-Add (Add)                                                   0]',                             \n",
            "                                                                  'Encoder-11-MultiHeadSelfAttenti\n",
            "                                                                 on-Dropout[0][0]']               \n",
            "                                                                                                  \n",
            " Encoder-11-MultiHeadSelfAttent  (None, 128, 768)    1536        ['Encoder-11-MultiHeadSelfAttenti\n",
            " ion-Norm (LayerNormalization)                                   on-Add[0][0]']                   \n",
            "                                                                                                  \n",
            " Encoder-11-FeedForward (FeedFo  (None, 128, 768)    4722432     ['Encoder-11-MultiHeadSelfAttenti\n",
            " rward)                                                          on-Norm[0][0]']                  \n",
            "                                                                                                  \n",
            " Encoder-11-FeedForward-Dropout  (None, 128, 768)    0           ['Encoder-11-FeedForward[0][0]'] \n",
            "  (Dropout)                                                                                       \n",
            "                                                                                                  \n",
            " Encoder-11-FeedForward-Add (Ad  (None, 128, 768)    0           ['Encoder-11-MultiHeadSelfAttenti\n",
            " d)                                                              on-Norm[0][0]',                  \n",
            "                                                                  'Encoder-11-FeedForward-Dropout[\n",
            "                                                                 0][0]']                          \n",
            "                                                                                                  \n",
            " Encoder-11-FeedForward-Norm (L  (None, 128, 768)    1536        ['Encoder-11-FeedForward-Add[0][0\n",
            " ayerNormalization)                                              ]']                              \n",
            "                                                                                                  \n",
            " Encoder-12-MultiHeadSelfAttent  (None, 128, 768)    2362368     ['Encoder-11-FeedForward-Norm[0][\n",
            " ion (MultiHeadAttention)                                        0]']                             \n",
            "                                                                                                  \n",
            " Encoder-12-MultiHeadSelfAttent  (None, 128, 768)    0           ['Encoder-12-MultiHeadSelfAttenti\n",
            " ion-Dropout (Dropout)                                           on[0][0]']                       \n",
            "                                                                                                  \n",
            " Encoder-12-MultiHeadSelfAttent  (None, 128, 768)    0           ['Encoder-11-FeedForward-Norm[0][\n",
            " ion-Add (Add)                                                   0]',                             \n",
            "                                                                  'Encoder-12-MultiHeadSelfAttenti\n",
            "                                                                 on-Dropout[0][0]']               \n",
            "                                                                                                  \n",
            " Encoder-12-MultiHeadSelfAttent  (None, 128, 768)    1536        ['Encoder-12-MultiHeadSelfAttenti\n",
            " ion-Norm (LayerNormalization)                                   on-Add[0][0]']                   \n",
            "                                                                                                  \n",
            " Encoder-12-FeedForward (FeedFo  (None, 128, 768)    4722432     ['Encoder-12-MultiHeadSelfAttenti\n",
            " rward)                                                          on-Norm[0][0]']                  \n",
            "                                                                                                  \n",
            " Encoder-12-FeedForward-Dropout  (None, 128, 768)    0           ['Encoder-12-FeedForward[0][0]'] \n",
            "  (Dropout)                                                                                       \n",
            "                                                                                                  \n",
            " Encoder-12-FeedForward-Add (Ad  (None, 128, 768)    0           ['Encoder-12-MultiHeadSelfAttenti\n",
            " d)                                                              on-Norm[0][0]',                  \n",
            "                                                                  'Encoder-12-FeedForward-Dropout[\n",
            "                                                                 0][0]']                          \n",
            "                                                                                                  \n",
            " Encoder-12-FeedForward-Norm (L  (None, 128, 768)    1536        ['Encoder-12-FeedForward-Add[0][0\n",
            " ayerNormalization)                                              ]']                              \n",
            "                                                                                                  \n",
            " MLM-Dense (Dense)              (None, 128, 768)     590592      ['Encoder-12-FeedForward-Norm[0][\n",
            "                                                                 0]']                             \n",
            "                                                                                                  \n",
            " MLM-Norm (LayerNormalization)  (None, 128, 768)     1536        ['MLM-Dense[0][0]']              \n",
            "                                                                                                  \n",
            " Extract (Extract)              (None, 768)          0           ['Encoder-12-FeedForward-Norm[0][\n",
            "                                                                 0]']                             \n",
            "                                                                                                  \n",
            " MLM-Sim (EmbeddingSimilarity)  (None, 128, 119547)  119547      ['MLM-Norm[0][0]',               \n",
            "                                                                  'Embedding-Token[0][1]']        \n",
            "                                                                                                  \n",
            " Input-Masked (InputLayer)      [(None, 128)]        0           []                               \n",
            "                                                                                                  \n",
            " NSP-Dense (Dense)              (None, 768)          590592      ['Extract[0][0]']                \n",
            "                                                                                                  \n",
            " MLM (Masked)                   (None, 128, 119547)  0           ['MLM-Sim[0][0]',                \n",
            "                                                                  'Input-Masked[0][0]']           \n",
            "                                                                                                  \n",
            " NSP (Dense)                    (None, 2)            1538        ['NSP-Dense[0][0]']              \n",
            "                                                                                                  \n",
            "==================================================================================================\n",
            "Total params: 178,271,741\n",
            "Trainable params: 178,271,741\n",
            "Non-trainable params: 0\n",
            "__________________________________________________________________________________________________\n"
          ]
        }
      ],
      "source": [
        "model.summary()"
      ]
    },
    {
      "cell_type": "markdown",
      "metadata": {
        "id": "g1N8hZvNMMWL"
      },
      "source": [
        "사전학습 파일을 로드하여, 우리가 불러들였던 사전학습 모델을 변형해줍니다.  \n",
        "  \n",
        "\n",
        "input으로는 우리가 문장을 토큰화 하여 숫자로 변형시켜주었던 **토큰 벡터와**, 앞문장인지 뒷문장인지 알려주는 **세그멘트** 두 가지가 되겠습니다.  \n",
        "  \n",
        "즉 인풋은 inputs = modle.inputs[:2]로 정의하였습니다.  \n",
        "  \n",
        "  \n",
        "그리고 output은 일단 사전학습 모델을 약간 잘라줍니다.(outputs=Dense(1)) 맨 위 3층을 잘라 낸다음에 잘라낸 부분에 긍정인지 부정인지 알려주는 **Dense(1)을 사전학습 모델에 애드온 시켜 줍니다.**  \n",
        "\n",
        "Dense(1)은 아웃풋이 하나로, **문장이 상승에 가까우면 0에 가까운 값**을, **하락에 가까우면 1에 가까운 값**을 출력해주는 레이어입니다.\n",
        "\n",
        "\n",
        "\n",
        "그리고 사전 설치하였던 Radam을 활용하여 deep learning의 기울기 강하 훈련을 하도록 정해줍니다. 그 다음에 bert_model을 return해 줍니다."
      ]
    },
    {
      "cell_type": "code",
      "execution_count": null,
      "metadata": {
        "id": "8ihc_AiRIm1w"
      },
      "outputs": [],
      "source": [
        "def get_bert_finetuning_model(model):\n",
        "  inputs = model.inputs[:2]\n",
        "  dense = model.layers[-3].output\n",
        "\n",
        "\n",
        "  outputs = keras.layers.Dense(1, activation='sigmoid',kernel_initializer=keras.initializers.TruncatedNormal(stddev=0.02),\n",
        "                              name = 'real_output')(dense)\n",
        "\n",
        "\n",
        "\n",
        "  bert_model = keras.models.Model(inputs, outputs)\n",
        "  bert_model.compile(\n",
        "      optimizer=RAdam(learning_rate=0.00001, weight_decay=0.0025),\n",
        "      loss='binary_crossentropy',\n",
        "      metrics=['accuracy'])\n",
        "  \n",
        "  return bert_model\n",
        "  "
      ]
    },
    {
      "cell_type": "markdown",
      "metadata": {
        "id": "H2LAk6d5dm4A"
      },
      "source": [
        "**모델의 FLOW를 확인해 보도록 하겠습니다.**"
      ]
    },
    {
      "cell_type": "code",
      "execution_count": null,
      "metadata": {
        "colab": {
          "base_uri": "https://localhost:8080/",
          "height": 1000
        },
        "id": "ycl01mR5tsPY",
        "outputId": "c2ae93af-7f1a-47b6-db4a-e8a31b879b59"
      },
      "outputs": [
        {
          "output_type": "execute_result",
          "data": {
            "text/plain": [
              "<IPython.core.display.SVG object>"
            ],
            "image/svg+xml": "<svg height=\"10280pt\" viewBox=\"0.00 0.00 701.50 7710.00\" width=\"935pt\" xmlns=\"http://www.w3.org/2000/svg\" xmlns:xlink=\"http://www.w3.org/1999/xlink\">\n<g class=\"graph\" id=\"graph0\" transform=\"scale(1.3333 1.3333) rotate(0) translate(4 7706)\">\n<title>G</title>\n<polygon fill=\"#ffffff\" points=\"-4,4 -4,-7706 697.5,-7706 697.5,4 -4,4\" stroke=\"transparent\"/>\n<!-- 140441765262992 -->\n<g class=\"node\" id=\"node1\">\n<title>140441765262992</title>\n<polygon fill=\"none\" points=\"486,-7665.5 486,-7701.5 655,-7701.5 655,-7665.5 486,-7665.5\" stroke=\"#000000\"/>\n<text fill=\"#000000\" font-family=\"Times,serif\" font-size=\"14.00\" text-anchor=\"middle\" x=\"530.5\" y=\"-7679.8\">Input-Token</text>\n<polyline fill=\"none\" points=\"575,-7665.5 575,-7701.5 \" stroke=\"#000000\"/>\n<text fill=\"#000000\" font-family=\"Times,serif\" font-size=\"14.00\" text-anchor=\"middle\" x=\"615\" y=\"-7679.8\">InputLayer</text>\n</g>\n<!-- 140441765016272 -->\n<g class=\"node\" id=\"node3\">\n<title>140441765016272</title>\n<polygon fill=\"none\" points=\"447.5,-7592.5 447.5,-7628.5 693.5,-7628.5 693.5,-7592.5 447.5,-7592.5\" stroke=\"#000000\"/>\n<text fill=\"#000000\" font-family=\"Times,serif\" font-size=\"14.00\" text-anchor=\"middle\" x=\"510\" y=\"-7606.8\">Embedding-Token</text>\n<polyline fill=\"none\" points=\"572.5,-7592.5 572.5,-7628.5 \" stroke=\"#000000\"/>\n<text fill=\"#000000\" font-family=\"Times,serif\" font-size=\"14.00\" text-anchor=\"middle\" x=\"633\" y=\"-7606.8\">TokenEmbedding</text>\n</g>\n<!-- 140441765262992&#45;&gt;140441765016272 -->\n<g class=\"edge\" id=\"edge1\">\n<title>140441765262992-&gt;140441765016272</title>\n<path d=\"M570.5,-7665.4551C570.5,-7657.3828 570.5,-7647.6764 570.5,-7638.6817\" fill=\"none\" stroke=\"#000000\"/>\n<polygon fill=\"#000000\" points=\"574.0001,-7638.5903 570.5,-7628.5904 567.0001,-7638.5904 574.0001,-7638.5903\" stroke=\"#000000\"/>\n</g>\n<!-- 140441765016464 -->\n<g class=\"node\" id=\"node2\">\n<title>140441765016464</title>\n<polygon fill=\"none\" points=\"226.5,-7665.5 226.5,-7701.5 408.5,-7701.5 408.5,-7665.5 226.5,-7665.5\" stroke=\"#000000\"/>\n<text fill=\"#000000\" font-family=\"Times,serif\" font-size=\"14.00\" text-anchor=\"middle\" x=\"277.5\" y=\"-7679.8\">Input-Segment</text>\n<polyline fill=\"none\" points=\"328.5,-7665.5 328.5,-7701.5 \" stroke=\"#000000\"/>\n<text fill=\"#000000\" font-family=\"Times,serif\" font-size=\"14.00\" text-anchor=\"middle\" x=\"368.5\" y=\"-7679.8\">InputLayer</text>\n</g>\n<!-- 140441765233616 -->\n<g class=\"node\" id=\"node4\">\n<title>140441765233616</title>\n<polygon fill=\"none\" points=\"206,-7592.5 206,-7628.5 429,-7628.5 429,-7592.5 206,-7592.5\" stroke=\"#000000\"/>\n<text fill=\"#000000\" font-family=\"Times,serif\" font-size=\"14.00\" text-anchor=\"middle\" x=\"275.5\" y=\"-7606.8\">Embedding-Segment</text>\n<polyline fill=\"none\" points=\"345,-7592.5 345,-7628.5 \" stroke=\"#000000\"/>\n<text fill=\"#000000\" font-family=\"Times,serif\" font-size=\"14.00\" text-anchor=\"middle\" x=\"387\" y=\"-7606.8\">Embedding</text>\n</g>\n<!-- 140441765016464&#45;&gt;140441765233616 -->\n<g class=\"edge\" id=\"edge2\">\n<title>140441765016464-&gt;140441765233616</title>\n<path d=\"M317.5,-7665.4551C317.5,-7657.3828 317.5,-7647.6764 317.5,-7638.6817\" fill=\"none\" stroke=\"#000000\"/>\n<polygon fill=\"#000000\" points=\"321.0001,-7638.5903 317.5,-7628.5904 314.0001,-7638.5904 321.0001,-7638.5903\" stroke=\"#000000\"/>\n</g>\n<!-- 140441765236432 -->\n<g class=\"node\" id=\"node5\">\n<title>140441765236432</title>\n<polygon fill=\"none\" points=\"225.5,-7519.5 225.5,-7555.5 447.5,-7555.5 447.5,-7519.5 225.5,-7519.5\" stroke=\"#000000\"/>\n<text fill=\"#000000\" font-family=\"Times,serif\" font-size=\"14.00\" text-anchor=\"middle\" x=\"315.5\" y=\"-7533.8\">Embedding-Token-Segment</text>\n<polyline fill=\"none\" points=\"405.5,-7519.5 405.5,-7555.5 \" stroke=\"#000000\"/>\n<text fill=\"#000000\" font-family=\"Times,serif\" font-size=\"14.00\" text-anchor=\"middle\" x=\"426.5\" y=\"-7533.8\">Add</text>\n</g>\n<!-- 140441765016272&#45;&gt;140441765236432 -->\n<g class=\"edge\" id=\"edge3\">\n<title>140441765016272-&gt;140441765236432</title>\n<path d=\"M512.6573,-7592.4551C479.8913,-7582.2332 438.7251,-7569.3907 404.4291,-7558.6916\" fill=\"none\" stroke=\"#000000\"/>\n<polygon fill=\"#000000\" points=\"405.0769,-7555.2273 394.4883,-7555.5904 402.9922,-7561.9097 405.0769,-7555.2273\" stroke=\"#000000\"/>\n</g>\n<!-- 140441745736784 -->\n<g class=\"node\" id=\"node108\">\n<title>140441745736784</title>\n<polygon fill=\"none\" points=\"461,-73.5 461,-109.5 680,-109.5 680,-73.5 461,-73.5\" stroke=\"#000000\"/>\n<text fill=\"#000000\" font-family=\"Times,serif\" font-size=\"14.00\" text-anchor=\"middle\" x=\"500.5\" y=\"-87.8\">MLM-Sim</text>\n<polyline fill=\"none\" points=\"540,-73.5 540,-109.5 \" stroke=\"#000000\"/>\n<text fill=\"#000000\" font-family=\"Times,serif\" font-size=\"14.00\" text-anchor=\"middle\" x=\"610\" y=\"-87.8\">EmbeddingSimilarity</text>\n</g>\n<!-- 140441765016272&#45;&gt;140441745736784 -->\n<g class=\"edge\" id=\"edge132\">\n<title>140441765016272-&gt;140441745736784</title>\n<path d=\"M570.5,-7592.062C570.5,-7564.3663 570.5,-7510.3785 570.5,-7464.5 570.5,-7464.5 570.5,-7464.5 570.5,-237.5 570.5,-196.8187 570.5,-149.7612 570.5,-120.3124\" fill=\"none\" stroke=\"#000000\"/>\n<polygon fill=\"#000000\" points=\"574.0001,-119.9379 570.5,-109.938 567.0001,-119.938 574.0001,-119.9379\" stroke=\"#000000\"/>\n</g>\n<!-- 140441765233616&#45;&gt;140441765236432 -->\n<g class=\"edge\" id=\"edge4\">\n<title>140441765233616-&gt;140441765236432</title>\n<path d=\"M322.1966,-7592.4551C324.3205,-7584.2951 326.8789,-7574.4652 329.2413,-7565.3887\" fill=\"none\" stroke=\"#000000\"/>\n<polygon fill=\"#000000\" points=\"332.6598,-7566.1496 331.7916,-7555.5904 325.8855,-7564.3863 332.6598,-7566.1496\" stroke=\"#000000\"/>\n</g>\n<!-- 140441765467920 -->\n<g class=\"node\" id=\"node6\">\n<title>140441765467920</title>\n<polygon fill=\"none\" points=\"203,-7446.5 203,-7482.5 470,-7482.5 470,-7446.5 203,-7446.5\" stroke=\"#000000\"/>\n<text fill=\"#000000\" font-family=\"Times,serif\" font-size=\"14.00\" text-anchor=\"middle\" x=\"271\" y=\"-7460.8\">Embedding-Position</text>\n<polyline fill=\"none\" points=\"339,-7446.5 339,-7482.5 \" stroke=\"#000000\"/>\n<text fill=\"#000000\" font-family=\"Times,serif\" font-size=\"14.00\" text-anchor=\"middle\" x=\"404.5\" y=\"-7460.8\">PositionEmbedding</text>\n</g>\n<!-- 140441765236432&#45;&gt;140441765467920 -->\n<g class=\"edge\" id=\"edge5\">\n<title>140441765236432-&gt;140441765467920</title>\n<path d=\"M336.5,-7519.4551C336.5,-7511.3828 336.5,-7501.6764 336.5,-7492.6817\" fill=\"none\" stroke=\"#000000\"/>\n<polygon fill=\"#000000\" points=\"340.0001,-7492.5903 336.5,-7482.5904 333.0001,-7492.5904 340.0001,-7492.5903\" stroke=\"#000000\"/>\n</g>\n<!-- 140441755722384 -->\n<g class=\"node\" id=\"node7\">\n<title>140441755722384</title>\n<polygon fill=\"none\" points=\"235.5,-7373.5 235.5,-7409.5 437.5,-7409.5 437.5,-7373.5 235.5,-7373.5\" stroke=\"#000000\"/>\n<text fill=\"#000000\" font-family=\"Times,serif\" font-size=\"14.00\" text-anchor=\"middle\" x=\"304\" y=\"-7387.8\">Embedding-Dropout</text>\n<polyline fill=\"none\" points=\"372.5,-7373.5 372.5,-7409.5 \" stroke=\"#000000\"/>\n<text fill=\"#000000\" font-family=\"Times,serif\" font-size=\"14.00\" text-anchor=\"middle\" x=\"405\" y=\"-7387.8\">Dropout</text>\n</g>\n<!-- 140441765467920&#45;&gt;140441755722384 -->\n<g class=\"edge\" id=\"edge6\">\n<title>140441765467920-&gt;140441755722384</title>\n<path d=\"M336.5,-7446.4551C336.5,-7438.3828 336.5,-7428.6764 336.5,-7419.6817\" fill=\"none\" stroke=\"#000000\"/>\n<polygon fill=\"#000000\" points=\"340.0001,-7419.5903 336.5,-7409.5904 333.0001,-7419.5904 340.0001,-7419.5903\" stroke=\"#000000\"/>\n</g>\n<!-- 140444397925072 -->\n<g class=\"node\" id=\"node8\">\n<title>140444397925072</title>\n<polygon fill=\"none\" points=\"210,-7300.5 210,-7336.5 463,-7336.5 463,-7300.5 210,-7300.5\" stroke=\"#000000\"/>\n<text fill=\"#000000\" font-family=\"Times,serif\" font-size=\"14.00\" text-anchor=\"middle\" x=\"271\" y=\"-7314.8\">Embedding-Norm</text>\n<polyline fill=\"none\" points=\"332,-7300.5 332,-7336.5 \" stroke=\"#000000\"/>\n<text fill=\"#000000\" font-family=\"Times,serif\" font-size=\"14.00\" text-anchor=\"middle\" x=\"397.5\" y=\"-7314.8\">LayerNormalization</text>\n</g>\n<!-- 140441755722384&#45;&gt;140444397925072 -->\n<g class=\"edge\" id=\"edge7\">\n<title>140441755722384-&gt;140444397925072</title>\n<path d=\"M336.5,-7373.4551C336.5,-7365.3828 336.5,-7355.6764 336.5,-7346.6817\" fill=\"none\" stroke=\"#000000\"/>\n<polygon fill=\"#000000\" points=\"340.0001,-7346.5903 336.5,-7336.5904 333.0001,-7346.5904 340.0001,-7346.5903\" stroke=\"#000000\"/>\n</g>\n<!-- 140441755663888 -->\n<g class=\"node\" id=\"node9\">\n<title>140441755663888</title>\n<polygon fill=\"none\" points=\"170,-7227.5 170,-7263.5 521,-7263.5 521,-7227.5 170,-7227.5\" stroke=\"#000000\"/>\n<text fill=\"#000000\" font-family=\"Times,serif\" font-size=\"14.00\" text-anchor=\"middle\" x=\"279.5\" y=\"-7241.8\">Encoder-1-MultiHeadSelfAttention</text>\n<polyline fill=\"none\" points=\"389,-7227.5 389,-7263.5 \" stroke=\"#000000\"/>\n<text fill=\"#000000\" font-family=\"Times,serif\" font-size=\"14.00\" text-anchor=\"middle\" x=\"455\" y=\"-7241.8\">MultiHeadAttention</text>\n</g>\n<!-- 140444397925072&#45;&gt;140441755663888 -->\n<g class=\"edge\" id=\"edge8\">\n<title>140444397925072-&gt;140441755663888</title>\n<path d=\"M338.7247,-7300.4551C339.7199,-7292.3828 340.9166,-7282.6764 342.0255,-7273.6817\" fill=\"none\" stroke=\"#000000\"/>\n<polygon fill=\"#000000\" points=\"345.5197,-7273.9435 343.2697,-7263.5904 338.5723,-7273.0869 345.5197,-7273.9435\" stroke=\"#000000\"/>\n</g>\n<!-- 140441755662288 -->\n<g class=\"node\" id=\"node11\">\n<title>140441755662288</title>\n<polygon fill=\"none\" points=\"146,-7081.5 146,-7117.5 437,-7117.5 437,-7081.5 146,-7081.5\" stroke=\"#000000\"/>\n<text fill=\"#000000\" font-family=\"Times,serif\" font-size=\"14.00\" text-anchor=\"middle\" x=\"270.5\" y=\"-7095.8\">Encoder-1-MultiHeadSelfAttention-Add</text>\n<polyline fill=\"none\" points=\"395,-7081.5 395,-7117.5 \" stroke=\"#000000\"/>\n<text fill=\"#000000\" font-family=\"Times,serif\" font-size=\"14.00\" text-anchor=\"middle\" x=\"416\" y=\"-7095.8\">Add</text>\n</g>\n<!-- 140444397925072&#45;&gt;140441755662288 -->\n<g class=\"edge\" id=\"edge10\">\n<title>140444397925072-&gt;140441755662288</title>\n<path d=\"M244.5892,-7300.465C207.7205,-7291.1974 171.3663,-7278.7402 160.5,-7264 150.649,-7250.637 148.723,-7175.3846 163.5,-7154 173.1988,-7139.9643 187.2905,-7129.5249 202.6126,-7121.7658\" fill=\"none\" stroke=\"#000000\"/>\n<polygon fill=\"#000000\" points=\"204.1708,-7124.901 211.7522,-7117.5001 201.2103,-7118.5578 204.1708,-7124.901\" stroke=\"#000000\"/>\n</g>\n<!-- 140441755247184 -->\n<g class=\"node\" id=\"node10\">\n<title>140441755247184</title>\n<polygon fill=\"none\" points=\"173,-7154.5 173,-7190.5 510,-7190.5 510,-7154.5 173,-7154.5\" stroke=\"#000000\"/>\n<text fill=\"#000000\" font-family=\"Times,serif\" font-size=\"14.00\" text-anchor=\"middle\" x=\"309\" y=\"-7168.8\">Encoder-1-MultiHeadSelfAttention-Dropout</text>\n<polyline fill=\"none\" points=\"445,-7154.5 445,-7190.5 \" stroke=\"#000000\"/>\n<text fill=\"#000000\" font-family=\"Times,serif\" font-size=\"14.00\" text-anchor=\"middle\" x=\"477.5\" y=\"-7168.8\">Dropout</text>\n</g>\n<!-- 140441755663888&#45;&gt;140441755247184 -->\n<g class=\"edge\" id=\"edge9\">\n<title>140441755663888-&gt;140441755247184</title>\n<path d=\"M344.5112,-7227.4551C344.0689,-7219.3828 343.5371,-7209.6764 343.0442,-7200.6817\" fill=\"none\" stroke=\"#000000\"/>\n<polygon fill=\"#000000\" points=\"346.5332,-7200.3839 342.4913,-7190.5904 339.5437,-7200.7669 346.5332,-7200.3839\" stroke=\"#000000\"/>\n</g>\n<!-- 140441755247184&#45;&gt;140441755662288 -->\n<g class=\"edge\" id=\"edge11\">\n<title>140441755247184-&gt;140441755662288</title>\n<path d=\"M329.1404,-7154.4551C323.2509,-7145.8564 316.0913,-7135.4034 309.6039,-7125.9316\" fill=\"none\" stroke=\"#000000\"/>\n<polygon fill=\"#000000\" points=\"312.4292,-7123.8628 303.8907,-7117.5904 306.654,-7127.8185 312.4292,-7123.8628\" stroke=\"#000000\"/>\n</g>\n<!-- 140441755807824 -->\n<g class=\"node\" id=\"node12\">\n<title>140441755807824</title>\n<polygon fill=\"none\" points=\"97.5,-7008.5 97.5,-7044.5 485.5,-7044.5 485.5,-7008.5 97.5,-7008.5\" stroke=\"#000000\"/>\n<text fill=\"#000000\" font-family=\"Times,serif\" font-size=\"14.00\" text-anchor=\"middle\" x=\"226\" y=\"-7022.8\">Encoder-1-MultiHeadSelfAttention-Norm</text>\n<polyline fill=\"none\" points=\"354.5,-7008.5 354.5,-7044.5 \" stroke=\"#000000\"/>\n<text fill=\"#000000\" font-family=\"Times,serif\" font-size=\"14.00\" text-anchor=\"middle\" x=\"420\" y=\"-7022.8\">LayerNormalization</text>\n</g>\n<!-- 140441755662288&#45;&gt;140441755807824 -->\n<g class=\"edge\" id=\"edge12\">\n<title>140441755662288-&gt;140441755807824</title>\n<path d=\"M291.5,-7081.4551C291.5,-7073.3828 291.5,-7063.6764 291.5,-7054.6817\" fill=\"none\" stroke=\"#000000\"/>\n<polygon fill=\"#000000\" points=\"295.0001,-7054.5903 291.5,-7044.5904 288.0001,-7054.5904 295.0001,-7054.5903\" stroke=\"#000000\"/>\n</g>\n<!-- 140441755662032 -->\n<g class=\"node\" id=\"node13\">\n<title>140441755662032</title>\n<polygon fill=\"none\" points=\"215,-6935.5 215,-6971.5 466,-6971.5 466,-6935.5 215,-6935.5\" stroke=\"#000000\"/>\n<text fill=\"#000000\" font-family=\"Times,serif\" font-size=\"14.00\" text-anchor=\"middle\" x=\"294\" y=\"-6949.8\">Encoder-1-FeedForward</text>\n<polyline fill=\"none\" points=\"373,-6935.5 373,-6971.5 \" stroke=\"#000000\"/>\n<text fill=\"#000000\" font-family=\"Times,serif\" font-size=\"14.00\" text-anchor=\"middle\" x=\"419.5\" y=\"-6949.8\">FeedForward</text>\n</g>\n<!-- 140441755807824&#45;&gt;140441755662032 -->\n<g class=\"edge\" id=\"edge13\">\n<title>140441755807824-&gt;140441755662032</title>\n<path d=\"M303.6124,-7008.4551C309.3841,-6999.8564 316.4005,-6989.4034 322.7582,-6979.9316\" fill=\"none\" stroke=\"#000000\"/>\n<polygon fill=\"#000000\" points=\"325.6899,-6981.844 328.3572,-6971.5904 319.8778,-6977.9427 325.6899,-6981.844\" stroke=\"#000000\"/>\n</g>\n<!-- 140441765017680 -->\n<g class=\"node\" id=\"node15\">\n<title>140441765017680</title>\n<polygon fill=\"none\" points=\"155.5,-6789.5 155.5,-6825.5 385.5,-6825.5 385.5,-6789.5 155.5,-6789.5\" stroke=\"#000000\"/>\n<text fill=\"#000000\" font-family=\"Times,serif\" font-size=\"14.00\" text-anchor=\"middle\" x=\"249.5\" y=\"-6803.8\">Encoder-1-FeedForward-Add</text>\n<polyline fill=\"none\" points=\"343.5,-6789.5 343.5,-6825.5 \" stroke=\"#000000\"/>\n<text fill=\"#000000\" font-family=\"Times,serif\" font-size=\"14.00\" text-anchor=\"middle\" x=\"364.5\" y=\"-6803.8\">Add</text>\n</g>\n<!-- 140441755807824&#45;&gt;140441765017680 -->\n<g class=\"edge\" id=\"edge15\">\n<title>140441755807824-&gt;140441765017680</title>\n<path d=\"M246.6103,-7008.3118C230.9914,-6999.6737 215.0141,-6987.7297 205.5,-6972 180.1602,-6930.1057 177.8487,-6905.9142 199.5,-6862 205.5234,-6849.7831 215.7461,-6839.5428 226.5862,-6831.3578\" fill=\"none\" stroke=\"#000000\"/>\n<polygon fill=\"#000000\" points=\"228.7596,-6834.1085 234.9367,-6825.5007 224.7399,-6828.3777 228.7596,-6834.1085\" stroke=\"#000000\"/>\n</g>\n<!-- 140441755169168 -->\n<g class=\"node\" id=\"node14\">\n<title>140441755169168</title>\n<polygon fill=\"none\" points=\"208.5,-6862.5 208.5,-6898.5 484.5,-6898.5 484.5,-6862.5 208.5,-6862.5\" stroke=\"#000000\"/>\n<text fill=\"#000000\" font-family=\"Times,serif\" font-size=\"14.00\" text-anchor=\"middle\" x=\"314\" y=\"-6876.8\">Encoder-1-FeedForward-Dropout</text>\n<polyline fill=\"none\" points=\"419.5,-6862.5 419.5,-6898.5 \" stroke=\"#000000\"/>\n<text fill=\"#000000\" font-family=\"Times,serif\" font-size=\"14.00\" text-anchor=\"middle\" x=\"452\" y=\"-6876.8\">Dropout</text>\n</g>\n<!-- 140441755662032&#45;&gt;140441755169168 -->\n<g class=\"edge\" id=\"edge14\">\n<title>140441755662032-&gt;140441755169168</title>\n<path d=\"M341.9831,-6935.4551C342.6466,-6927.3828 343.4444,-6917.6764 344.1837,-6908.6817\" fill=\"none\" stroke=\"#000000\"/>\n<polygon fill=\"#000000\" points=\"347.6821,-6908.8435 345.0131,-6898.5904 340.7056,-6908.27 347.6821,-6908.8435\" stroke=\"#000000\"/>\n</g>\n<!-- 140441755169168&#45;&gt;140441765017680 -->\n<g class=\"edge\" id=\"edge16\">\n<title>140441755169168-&gt;140441765017680</title>\n<path d=\"M327.7135,-6862.4551C318.3961,-6853.5054 306.9873,-6842.547 296.8157,-6832.7769\" fill=\"none\" stroke=\"#000000\"/>\n<polygon fill=\"#000000\" points=\"298.9704,-6829.9935 289.3338,-6825.5904 294.1212,-6835.0419 298.9704,-6829.9935\" stroke=\"#000000\"/>\n</g>\n<!-- 140441753826064 -->\n<g class=\"node\" id=\"node16\">\n<title>140441753826064</title>\n<polygon fill=\"none\" points=\"107,-6716.5 107,-6752.5 434,-6752.5 434,-6716.5 107,-6716.5\" stroke=\"#000000\"/>\n<text fill=\"#000000\" font-family=\"Times,serif\" font-size=\"14.00\" text-anchor=\"middle\" x=\"205\" y=\"-6730.8\">Encoder-1-FeedForward-Norm</text>\n<polyline fill=\"none\" points=\"303,-6716.5 303,-6752.5 \" stroke=\"#000000\"/>\n<text fill=\"#000000\" font-family=\"Times,serif\" font-size=\"14.00\" text-anchor=\"middle\" x=\"368.5\" y=\"-6730.8\">LayerNormalization</text>\n</g>\n<!-- 140441765017680&#45;&gt;140441753826064 -->\n<g class=\"edge\" id=\"edge17\">\n<title>140441765017680-&gt;140441753826064</title>\n<path d=\"M270.5,-6789.4551C270.5,-6781.3828 270.5,-6771.6764 270.5,-6762.6817\" fill=\"none\" stroke=\"#000000\"/>\n<polygon fill=\"#000000\" points=\"274.0001,-6762.5903 270.5,-6752.5904 267.0001,-6762.5904 274.0001,-6762.5903\" stroke=\"#000000\"/>\n</g>\n<!-- 140441755628432 -->\n<g class=\"node\" id=\"node17\">\n<title>140441755628432</title>\n<polygon fill=\"none\" points=\"159,-6643.5 159,-6679.5 510,-6679.5 510,-6643.5 159,-6643.5\" stroke=\"#000000\"/>\n<text fill=\"#000000\" font-family=\"Times,serif\" font-size=\"14.00\" text-anchor=\"middle\" x=\"268.5\" y=\"-6657.8\">Encoder-2-MultiHeadSelfAttention</text>\n<polyline fill=\"none\" points=\"378,-6643.5 378,-6679.5 \" stroke=\"#000000\"/>\n<text fill=\"#000000\" font-family=\"Times,serif\" font-size=\"14.00\" text-anchor=\"middle\" x=\"444\" y=\"-6657.8\">MultiHeadAttention</text>\n</g>\n<!-- 140441753826064&#45;&gt;140441755628432 -->\n<g class=\"edge\" id=\"edge18\">\n<title>140441753826064-&gt;140441755628432</title>\n<path d=\"M286.3202,-6716.4551C294.0126,-6707.6809 303.3978,-6696.9759 311.8344,-6687.353\" fill=\"none\" stroke=\"#000000\"/>\n<polygon fill=\"#000000\" points=\"314.6794,-6689.4171 318.64,-6679.5904 309.4158,-6684.8024 314.6794,-6689.4171\" stroke=\"#000000\"/>\n</g>\n<!-- 140441765996944 -->\n<g class=\"node\" id=\"node19\">\n<title>140441765996944</title>\n<polygon fill=\"none\" points=\"134,-6497.5 134,-6533.5 425,-6533.5 425,-6497.5 134,-6497.5\" stroke=\"#000000\"/>\n<text fill=\"#000000\" font-family=\"Times,serif\" font-size=\"14.00\" text-anchor=\"middle\" x=\"258.5\" y=\"-6511.8\">Encoder-2-MultiHeadSelfAttention-Add</text>\n<polyline fill=\"none\" points=\"383,-6497.5 383,-6533.5 \" stroke=\"#000000\"/>\n<text fill=\"#000000\" font-family=\"Times,serif\" font-size=\"14.00\" text-anchor=\"middle\" x=\"404\" y=\"-6511.8\">Add</text>\n</g>\n<!-- 140441753826064&#45;&gt;140441765996944 -->\n<g class=\"edge\" id=\"edge20\">\n<title>140441753826064-&gt;140441765996944</title>\n<path d=\"M195.8357,-6716.4744C177.6401,-6708.3862 160.3181,-6696.7374 149.5,-6680 140.2863,-6665.7448 138.9814,-6589.6228 152.5,-6570 162.1149,-6556.0435 176.0929,-6545.6395 191.2942,-6537.8902\" fill=\"none\" stroke=\"#000000\"/>\n<polygon fill=\"#000000\" points=\"192.8012,-6541.0493 200.3622,-6533.6275 189.8232,-6534.7143 192.8012,-6541.0493\" stroke=\"#000000\"/>\n</g>\n<!-- 140441753919376 -->\n<g class=\"node\" id=\"node18\">\n<title>140441753919376</title>\n<polygon fill=\"none\" points=\"162,-6570.5 162,-6606.5 499,-6606.5 499,-6570.5 162,-6570.5\" stroke=\"#000000\"/>\n<text fill=\"#000000\" font-family=\"Times,serif\" font-size=\"14.00\" text-anchor=\"middle\" x=\"298\" y=\"-6584.8\">Encoder-2-MultiHeadSelfAttention-Dropout</text>\n<polyline fill=\"none\" points=\"434,-6570.5 434,-6606.5 \" stroke=\"#000000\"/>\n<text fill=\"#000000\" font-family=\"Times,serif\" font-size=\"14.00\" text-anchor=\"middle\" x=\"466.5\" y=\"-6584.8\">Dropout</text>\n</g>\n<!-- 140441755628432&#45;&gt;140441753919376 -->\n<g class=\"edge\" id=\"edge19\">\n<title>140441755628432-&gt;140441753919376</title>\n<path d=\"M333.5112,-6643.4551C333.0689,-6635.3828 332.5371,-6625.6764 332.0442,-6616.6817\" fill=\"none\" stroke=\"#000000\"/>\n<polygon fill=\"#000000\" points=\"335.5332,-6616.3839 331.4913,-6606.5904 328.5437,-6616.7669 335.5332,-6616.3839\" stroke=\"#000000\"/>\n</g>\n<!-- 140441753919376&#45;&gt;140441765996944 -->\n<g class=\"edge\" id=\"edge21\">\n<title>140441753919376-&gt;140441765996944</title>\n<path d=\"M317.8933,-6570.4551C311.886,-6561.8564 304.5832,-6551.4034 297.9659,-6541.9316\" fill=\"none\" stroke=\"#000000\"/>\n<polygon fill=\"#000000\" points=\"300.7348,-6539.7835 292.1385,-6533.5904 294.9964,-6543.7925 300.7348,-6539.7835\" stroke=\"#000000\"/>\n</g>\n<!-- 140441755992336 -->\n<g class=\"node\" id=\"node20\">\n<title>140441755992336</title>\n<polygon fill=\"none\" points=\"85.5,-6424.5 85.5,-6460.5 473.5,-6460.5 473.5,-6424.5 85.5,-6424.5\" stroke=\"#000000\"/>\n<text fill=\"#000000\" font-family=\"Times,serif\" font-size=\"14.00\" text-anchor=\"middle\" x=\"214\" y=\"-6438.8\">Encoder-2-MultiHeadSelfAttention-Norm</text>\n<polyline fill=\"none\" points=\"342.5,-6424.5 342.5,-6460.5 \" stroke=\"#000000\"/>\n<text fill=\"#000000\" font-family=\"Times,serif\" font-size=\"14.00\" text-anchor=\"middle\" x=\"408\" y=\"-6438.8\">LayerNormalization</text>\n</g>\n<!-- 140441765996944&#45;&gt;140441755992336 -->\n<g class=\"edge\" id=\"edge22\">\n<title>140441765996944-&gt;140441755992336</title>\n<path d=\"M279.5,-6497.4551C279.5,-6489.3828 279.5,-6479.6764 279.5,-6470.6817\" fill=\"none\" stroke=\"#000000\"/>\n<polygon fill=\"#000000\" points=\"283.0001,-6470.5903 279.5,-6460.5904 276.0001,-6470.5904 283.0001,-6470.5903\" stroke=\"#000000\"/>\n</g>\n<!-- 140441753651344 -->\n<g class=\"node\" id=\"node21\">\n<title>140441753651344</title>\n<polygon fill=\"none\" points=\"245,-6351.5 245,-6387.5 496,-6387.5 496,-6351.5 245,-6351.5\" stroke=\"#000000\"/>\n<text fill=\"#000000\" font-family=\"Times,serif\" font-size=\"14.00\" text-anchor=\"middle\" x=\"324\" y=\"-6365.8\">Encoder-2-FeedForward</text>\n<polyline fill=\"none\" points=\"403,-6351.5 403,-6387.5 \" stroke=\"#000000\"/>\n<text fill=\"#000000\" font-family=\"Times,serif\" font-size=\"14.00\" text-anchor=\"middle\" x=\"449.5\" y=\"-6365.8\">FeedForward</text>\n</g>\n<!-- 140441755992336&#45;&gt;140441753651344 -->\n<g class=\"edge\" id=\"edge23\">\n<title>140441755992336-&gt;140441753651344</title>\n<path d=\"M301.9944,-6424.4551C313.4789,-6415.2422 327.617,-6403.9006 340.0611,-6393.918\" fill=\"none\" stroke=\"#000000\"/>\n<polygon fill=\"#000000\" points=\"342.3388,-6396.5779 347.949,-6387.5904 337.9586,-6391.1177 342.3388,-6396.5779\" stroke=\"#000000\"/>\n</g>\n<!-- 140441756004560 -->\n<g class=\"node\" id=\"node23\">\n<title>140441756004560</title>\n<polygon fill=\"none\" points=\"155.5,-6205.5 155.5,-6241.5 385.5,-6241.5 385.5,-6205.5 155.5,-6205.5\" stroke=\"#000000\"/>\n<text fill=\"#000000\" font-family=\"Times,serif\" font-size=\"14.00\" text-anchor=\"middle\" x=\"249.5\" y=\"-6219.8\">Encoder-2-FeedForward-Add</text>\n<polyline fill=\"none\" points=\"343.5,-6205.5 343.5,-6241.5 \" stroke=\"#000000\"/>\n<text fill=\"#000000\" font-family=\"Times,serif\" font-size=\"14.00\" text-anchor=\"middle\" x=\"364.5\" y=\"-6219.8\">Add</text>\n</g>\n<!-- 140441755992336&#45;&gt;140441756004560 -->\n<g class=\"edge\" id=\"edge25\">\n<title>140441755992336-&gt;140441756004560</title>\n<path d=\"M260.0299,-6424.1698C250.9277,-6414.3703 240.9209,-6401.5484 235.5,-6388 223.4069,-6357.7757 230.8345,-6347.5265 229.5,-6315 228.8259,-6298.5694 224.2884,-6293.5968 229.5,-6278 232.8772,-6267.8931 238.9473,-6258.1566 245.3994,-6249.7792\" fill=\"none\" stroke=\"#000000\"/>\n<polygon fill=\"#000000\" points=\"248.2393,-6251.8364 251.8932,-6241.8916 242.8351,-6247.3872 248.2393,-6251.8364\" stroke=\"#000000\"/>\n</g>\n<!-- 140441754100944 -->\n<g class=\"node\" id=\"node22\">\n<title>140441754100944</title>\n<polygon fill=\"none\" points=\"238.5,-6278.5 238.5,-6314.5 514.5,-6314.5 514.5,-6278.5 238.5,-6278.5\" stroke=\"#000000\"/>\n<text fill=\"#000000\" font-family=\"Times,serif\" font-size=\"14.00\" text-anchor=\"middle\" x=\"344\" y=\"-6292.8\">Encoder-2-FeedForward-Dropout</text>\n<polyline fill=\"none\" points=\"449.5,-6278.5 449.5,-6314.5 \" stroke=\"#000000\"/>\n<text fill=\"#000000\" font-family=\"Times,serif\" font-size=\"14.00\" text-anchor=\"middle\" x=\"482\" y=\"-6292.8\">Dropout</text>\n</g>\n<!-- 140441753651344&#45;&gt;140441754100944 -->\n<g class=\"edge\" id=\"edge24\">\n<title>140441753651344-&gt;140441754100944</title>\n<path d=\"M371.9831,-6351.4551C372.6466,-6343.3828 373.4444,-6333.6764 374.1837,-6324.6817\" fill=\"none\" stroke=\"#000000\"/>\n<polygon fill=\"#000000\" points=\"377.6821,-6324.8435 375.0131,-6314.5904 370.7056,-6324.27 377.6821,-6324.8435\" stroke=\"#000000\"/>\n</g>\n<!-- 140441754100944&#45;&gt;140441756004560 -->\n<g class=\"edge\" id=\"edge26\">\n<title>140441754100944-&gt;140441756004560</title>\n<path d=\"M350.2977,-6278.4551C336.6654,-6269.0667 319.8231,-6257.4678 305.1302,-6247.3491\" fill=\"none\" stroke=\"#000000\"/>\n<polygon fill=\"#000000\" points=\"306.9893,-6244.3797 296.7682,-6241.5904 303.0189,-6250.1448 306.9893,-6244.3797\" stroke=\"#000000\"/>\n</g>\n<!-- 140441754248656 -->\n<g class=\"node\" id=\"node24\">\n<title>140441754248656</title>\n<polygon fill=\"none\" points=\"107,-6132.5 107,-6168.5 434,-6168.5 434,-6132.5 107,-6132.5\" stroke=\"#000000\"/>\n<text fill=\"#000000\" font-family=\"Times,serif\" font-size=\"14.00\" text-anchor=\"middle\" x=\"205\" y=\"-6146.8\">Encoder-2-FeedForward-Norm</text>\n<polyline fill=\"none\" points=\"303,-6132.5 303,-6168.5 \" stroke=\"#000000\"/>\n<text fill=\"#000000\" font-family=\"Times,serif\" font-size=\"14.00\" text-anchor=\"middle\" x=\"368.5\" y=\"-6146.8\">LayerNormalization</text>\n</g>\n<!-- 140441756004560&#45;&gt;140441754248656 -->\n<g class=\"edge\" id=\"edge27\">\n<title>140441756004560-&gt;140441754248656</title>\n<path d=\"M270.5,-6205.4551C270.5,-6197.3828 270.5,-6187.6764 270.5,-6178.6817\" fill=\"none\" stroke=\"#000000\"/>\n<polygon fill=\"#000000\" points=\"274.0001,-6178.5903 270.5,-6168.5904 267.0001,-6178.5904 274.0001,-6178.5903\" stroke=\"#000000\"/>\n</g>\n<!-- 140441754725200 -->\n<g class=\"node\" id=\"node25\">\n<title>140441754725200</title>\n<polygon fill=\"none\" points=\"159,-6059.5 159,-6095.5 510,-6095.5 510,-6059.5 159,-6059.5\" stroke=\"#000000\"/>\n<text fill=\"#000000\" font-family=\"Times,serif\" font-size=\"14.00\" text-anchor=\"middle\" x=\"268.5\" y=\"-6073.8\">Encoder-3-MultiHeadSelfAttention</text>\n<polyline fill=\"none\" points=\"378,-6059.5 378,-6095.5 \" stroke=\"#000000\"/>\n<text fill=\"#000000\" font-family=\"Times,serif\" font-size=\"14.00\" text-anchor=\"middle\" x=\"444\" y=\"-6073.8\">MultiHeadAttention</text>\n</g>\n<!-- 140441754248656&#45;&gt;140441754725200 -->\n<g class=\"edge\" id=\"edge28\">\n<title>140441754248656-&gt;140441754725200</title>\n<path d=\"M286.3202,-6132.4551C294.0126,-6123.6809 303.3978,-6112.9759 311.8344,-6103.353\" fill=\"none\" stroke=\"#000000\"/>\n<polygon fill=\"#000000\" points=\"314.6794,-6105.4171 318.64,-6095.5904 309.4158,-6100.8024 314.6794,-6105.4171\" stroke=\"#000000\"/>\n</g>\n<!-- 140441753962064 -->\n<g class=\"node\" id=\"node27\">\n<title>140441753962064</title>\n<polygon fill=\"none\" points=\"134,-5913.5 134,-5949.5 425,-5949.5 425,-5913.5 134,-5913.5\" stroke=\"#000000\"/>\n<text fill=\"#000000\" font-family=\"Times,serif\" font-size=\"14.00\" text-anchor=\"middle\" x=\"258.5\" y=\"-5927.8\">Encoder-3-MultiHeadSelfAttention-Add</text>\n<polyline fill=\"none\" points=\"383,-5913.5 383,-5949.5 \" stroke=\"#000000\"/>\n<text fill=\"#000000\" font-family=\"Times,serif\" font-size=\"14.00\" text-anchor=\"middle\" x=\"404\" y=\"-5927.8\">Add</text>\n</g>\n<!-- 140441754248656&#45;&gt;140441753962064 -->\n<g class=\"edge\" id=\"edge30\">\n<title>140441754248656-&gt;140441753962064</title>\n<path d=\"M195.8357,-6132.4744C177.6401,-6124.3862 160.3181,-6112.7374 149.5,-6096 140.5735,-6082.1892 149.05,-6075.4383 149.5,-6059 150.3892,-6026.5191 134.9218,-6012.6581 153.5,-5986 163.2396,-5972.0245 177.3622,-5961.6045 192.6612,-5953.8441\" fill=\"none\" stroke=\"#000000\"/>\n<polygon fill=\"#000000\" points=\"194.2075,-5956.9848 201.7806,-5949.5754 191.2399,-5950.6449 194.2075,-5956.9848\" stroke=\"#000000\"/>\n</g>\n<!-- 140441754406352 -->\n<g class=\"node\" id=\"node26\">\n<title>140441754406352</title>\n<polygon fill=\"none\" points=\"163,-5986.5 163,-6022.5 500,-6022.5 500,-5986.5 163,-5986.5\" stroke=\"#000000\"/>\n<text fill=\"#000000\" font-family=\"Times,serif\" font-size=\"14.00\" text-anchor=\"middle\" x=\"299\" y=\"-6000.8\">Encoder-3-MultiHeadSelfAttention-Dropout</text>\n<polyline fill=\"none\" points=\"435,-5986.5 435,-6022.5 \" stroke=\"#000000\"/>\n<text fill=\"#000000\" font-family=\"Times,serif\" font-size=\"14.00\" text-anchor=\"middle\" x=\"467.5\" y=\"-6000.8\">Dropout</text>\n</g>\n<!-- 140441754725200&#45;&gt;140441754406352 -->\n<g class=\"edge\" id=\"edge29\">\n<title>140441754725200-&gt;140441754406352</title>\n<path d=\"M333.7584,-6059.4551C333.4267,-6051.3828 333.0278,-6041.6764 332.6582,-6032.6817\" fill=\"none\" stroke=\"#000000\"/>\n<polygon fill=\"#000000\" points=\"336.1512,-6032.4382 332.2434,-6022.5904 329.1571,-6032.7257 336.1512,-6032.4382\" stroke=\"#000000\"/>\n</g>\n<!-- 140441754406352&#45;&gt;140441753962064 -->\n<g class=\"edge\" id=\"edge31\">\n<title>140441754406352-&gt;140441753962064</title>\n<path d=\"M318.6461,-5986.4551C312.521,-5977.8564 305.075,-5967.4034 298.328,-5957.9316\" fill=\"none\" stroke=\"#000000\"/>\n<polygon fill=\"#000000\" points=\"301.0389,-5955.7046 292.3863,-5949.5904 295.3374,-5959.7659 301.0389,-5955.7046\" stroke=\"#000000\"/>\n</g>\n<!-- 140441752640784 -->\n<g class=\"node\" id=\"node28\">\n<title>140441752640784</title>\n<polygon fill=\"none\" points=\"85.5,-5840.5 85.5,-5876.5 473.5,-5876.5 473.5,-5840.5 85.5,-5840.5\" stroke=\"#000000\"/>\n<text fill=\"#000000\" font-family=\"Times,serif\" font-size=\"14.00\" text-anchor=\"middle\" x=\"214\" y=\"-5854.8\">Encoder-3-MultiHeadSelfAttention-Norm</text>\n<polyline fill=\"none\" points=\"342.5,-5840.5 342.5,-5876.5 \" stroke=\"#000000\"/>\n<text fill=\"#000000\" font-family=\"Times,serif\" font-size=\"14.00\" text-anchor=\"middle\" x=\"408\" y=\"-5854.8\">LayerNormalization</text>\n</g>\n<!-- 140441753962064&#45;&gt;140441752640784 -->\n<g class=\"edge\" id=\"edge32\">\n<title>140441753962064-&gt;140441752640784</title>\n<path d=\"M279.5,-5913.4551C279.5,-5905.3828 279.5,-5895.6764 279.5,-5886.6817\" fill=\"none\" stroke=\"#000000\"/>\n<polygon fill=\"#000000\" points=\"283.0001,-5886.5903 279.5,-5876.5904 276.0001,-5886.5904 283.0001,-5886.5903\" stroke=\"#000000\"/>\n</g>\n<!-- 140441756334992 -->\n<g class=\"node\" id=\"node29\">\n<title>140441756334992</title>\n<polygon fill=\"none\" points=\"245,-5767.5 245,-5803.5 496,-5803.5 496,-5767.5 245,-5767.5\" stroke=\"#000000\"/>\n<text fill=\"#000000\" font-family=\"Times,serif\" font-size=\"14.00\" text-anchor=\"middle\" x=\"324\" y=\"-5781.8\">Encoder-3-FeedForward</text>\n<polyline fill=\"none\" points=\"403,-5767.5 403,-5803.5 \" stroke=\"#000000\"/>\n<text fill=\"#000000\" font-family=\"Times,serif\" font-size=\"14.00\" text-anchor=\"middle\" x=\"449.5\" y=\"-5781.8\">FeedForward</text>\n</g>\n<!-- 140441752640784&#45;&gt;140441756334992 -->\n<g class=\"edge\" id=\"edge33\">\n<title>140441752640784-&gt;140441756334992</title>\n<path d=\"M301.9944,-5840.4551C313.4789,-5831.2422 327.617,-5819.9006 340.0611,-5809.918\" fill=\"none\" stroke=\"#000000\"/>\n<polygon fill=\"#000000\" points=\"342.3388,-5812.5779 347.949,-5803.5904 337.9586,-5807.1177 342.3388,-5812.5779\" stroke=\"#000000\"/>\n</g>\n<!-- 140441754910224 -->\n<g class=\"node\" id=\"node31\">\n<title>140441754910224</title>\n<polygon fill=\"none\" points=\"155.5,-5621.5 155.5,-5657.5 385.5,-5657.5 385.5,-5621.5 155.5,-5621.5\" stroke=\"#000000\"/>\n<text fill=\"#000000\" font-family=\"Times,serif\" font-size=\"14.00\" text-anchor=\"middle\" x=\"249.5\" y=\"-5635.8\">Encoder-3-FeedForward-Add</text>\n<polyline fill=\"none\" points=\"343.5,-5621.5 343.5,-5657.5 \" stroke=\"#000000\"/>\n<text fill=\"#000000\" font-family=\"Times,serif\" font-size=\"14.00\" text-anchor=\"middle\" x=\"364.5\" y=\"-5635.8\">Add</text>\n</g>\n<!-- 140441752640784&#45;&gt;140441754910224 -->\n<g class=\"edge\" id=\"edge35\">\n<title>140441752640784-&gt;140441754910224</title>\n<path d=\"M260.0299,-5840.1698C250.9277,-5830.3703 240.9209,-5817.5484 235.5,-5804 223.4069,-5773.7757 230.8345,-5763.5265 229.5,-5731 228.8259,-5714.5694 224.2884,-5709.5968 229.5,-5694 232.8772,-5683.8931 238.9473,-5674.1566 245.3994,-5665.7792\" fill=\"none\" stroke=\"#000000\"/>\n<polygon fill=\"#000000\" points=\"248.2393,-5667.8364 251.8932,-5657.8916 242.8351,-5663.3872 248.2393,-5667.8364\" stroke=\"#000000\"/>\n</g>\n<!-- 140441752337296 -->\n<g class=\"node\" id=\"node30\">\n<title>140441752337296</title>\n<polygon fill=\"none\" points=\"238.5,-5694.5 238.5,-5730.5 514.5,-5730.5 514.5,-5694.5 238.5,-5694.5\" stroke=\"#000000\"/>\n<text fill=\"#000000\" font-family=\"Times,serif\" font-size=\"14.00\" text-anchor=\"middle\" x=\"344\" y=\"-5708.8\">Encoder-3-FeedForward-Dropout</text>\n<polyline fill=\"none\" points=\"449.5,-5694.5 449.5,-5730.5 \" stroke=\"#000000\"/>\n<text fill=\"#000000\" font-family=\"Times,serif\" font-size=\"14.00\" text-anchor=\"middle\" x=\"482\" y=\"-5708.8\">Dropout</text>\n</g>\n<!-- 140441756334992&#45;&gt;140441752337296 -->\n<g class=\"edge\" id=\"edge34\">\n<title>140441756334992-&gt;140441752337296</title>\n<path d=\"M371.9831,-5767.4551C372.6466,-5759.3828 373.4444,-5749.6764 374.1837,-5740.6817\" fill=\"none\" stroke=\"#000000\"/>\n<polygon fill=\"#000000\" points=\"377.6821,-5740.8435 375.0131,-5730.5904 370.7056,-5740.27 377.6821,-5740.8435\" stroke=\"#000000\"/>\n</g>\n<!-- 140441752337296&#45;&gt;140441754910224 -->\n<g class=\"edge\" id=\"edge36\">\n<title>140441752337296-&gt;140441754910224</title>\n<path d=\"M350.2977,-5694.4551C336.6654,-5685.0667 319.8231,-5673.4678 305.1302,-5663.3491\" fill=\"none\" stroke=\"#000000\"/>\n<polygon fill=\"#000000\" points=\"306.9893,-5660.3797 296.7682,-5657.5904 303.0189,-5666.1448 306.9893,-5660.3797\" stroke=\"#000000\"/>\n</g>\n<!-- 140441753760144 -->\n<g class=\"node\" id=\"node32\">\n<title>140441753760144</title>\n<polygon fill=\"none\" points=\"107,-5548.5 107,-5584.5 434,-5584.5 434,-5548.5 107,-5548.5\" stroke=\"#000000\"/>\n<text fill=\"#000000\" font-family=\"Times,serif\" font-size=\"14.00\" text-anchor=\"middle\" x=\"205\" y=\"-5562.8\">Encoder-3-FeedForward-Norm</text>\n<polyline fill=\"none\" points=\"303,-5548.5 303,-5584.5 \" stroke=\"#000000\"/>\n<text fill=\"#000000\" font-family=\"Times,serif\" font-size=\"14.00\" text-anchor=\"middle\" x=\"368.5\" y=\"-5562.8\">LayerNormalization</text>\n</g>\n<!-- 140441754910224&#45;&gt;140441753760144 -->\n<g class=\"edge\" id=\"edge37\">\n<title>140441754910224-&gt;140441753760144</title>\n<path d=\"M270.5,-5621.4551C270.5,-5613.3828 270.5,-5603.6764 270.5,-5594.6817\" fill=\"none\" stroke=\"#000000\"/>\n<polygon fill=\"#000000\" points=\"274.0001,-5594.5903 270.5,-5584.5904 267.0001,-5594.5904 274.0001,-5594.5903\" stroke=\"#000000\"/>\n</g>\n<!-- 140441753126480 -->\n<g class=\"node\" id=\"node33\">\n<title>140441753126480</title>\n<polygon fill=\"none\" points=\"159,-5475.5 159,-5511.5 510,-5511.5 510,-5475.5 159,-5475.5\" stroke=\"#000000\"/>\n<text fill=\"#000000\" font-family=\"Times,serif\" font-size=\"14.00\" text-anchor=\"middle\" x=\"268.5\" y=\"-5489.8\">Encoder-4-MultiHeadSelfAttention</text>\n<polyline fill=\"none\" points=\"378,-5475.5 378,-5511.5 \" stroke=\"#000000\"/>\n<text fill=\"#000000\" font-family=\"Times,serif\" font-size=\"14.00\" text-anchor=\"middle\" x=\"444\" y=\"-5489.8\">MultiHeadAttention</text>\n</g>\n<!-- 140441753760144&#45;&gt;140441753126480 -->\n<g class=\"edge\" id=\"edge38\">\n<title>140441753760144-&gt;140441753126480</title>\n<path d=\"M286.3202,-5548.4551C294.0126,-5539.6809 303.3978,-5528.9759 311.8344,-5519.353\" fill=\"none\" stroke=\"#000000\"/>\n<polygon fill=\"#000000\" points=\"314.6794,-5521.4171 318.64,-5511.5904 309.4158,-5516.8024 314.6794,-5521.4171\" stroke=\"#000000\"/>\n</g>\n<!-- 140441754907600 -->\n<g class=\"node\" id=\"node35\">\n<title>140441754907600</title>\n<polygon fill=\"none\" points=\"137,-5329.5 137,-5365.5 428,-5365.5 428,-5329.5 137,-5329.5\" stroke=\"#000000\"/>\n<text fill=\"#000000\" font-family=\"Times,serif\" font-size=\"14.00\" text-anchor=\"middle\" x=\"261.5\" y=\"-5343.8\">Encoder-4-MultiHeadSelfAttention-Add</text>\n<polyline fill=\"none\" points=\"386,-5329.5 386,-5365.5 \" stroke=\"#000000\"/>\n<text fill=\"#000000\" font-family=\"Times,serif\" font-size=\"14.00\" text-anchor=\"middle\" x=\"407\" y=\"-5343.8\">Add</text>\n</g>\n<!-- 140441753760144&#45;&gt;140441754907600 -->\n<g class=\"edge\" id=\"edge40\">\n<title>140441753760144-&gt;140441754907600</title>\n<path d=\"M195.8357,-5548.4744C177.6401,-5540.3862 160.3181,-5528.7374 149.5,-5512 140.5735,-5498.1892 149.05,-5491.4383 149.5,-5475 150.3892,-5442.5191 134.8086,-5428.5788 153.5,-5402 163.3205,-5388.0354 177.4591,-5377.6312 192.8081,-5369.8849\" fill=\"none\" stroke=\"#000000\"/>\n<polygon fill=\"#000000\" points=\"194.3727,-5373.0173 201.9617,-5365.6243 191.4187,-5366.6711 194.3727,-5373.0173\" stroke=\"#000000\"/>\n</g>\n<!-- 140441753286864 -->\n<g class=\"node\" id=\"node34\">\n<title>140441753286864</title>\n<polygon fill=\"none\" points=\"163,-5402.5 163,-5438.5 500,-5438.5 500,-5402.5 163,-5402.5\" stroke=\"#000000\"/>\n<text fill=\"#000000\" font-family=\"Times,serif\" font-size=\"14.00\" text-anchor=\"middle\" x=\"299\" y=\"-5416.8\">Encoder-4-MultiHeadSelfAttention-Dropout</text>\n<polyline fill=\"none\" points=\"435,-5402.5 435,-5438.5 \" stroke=\"#000000\"/>\n<text fill=\"#000000\" font-family=\"Times,serif\" font-size=\"14.00\" text-anchor=\"middle\" x=\"467.5\" y=\"-5416.8\">Dropout</text>\n</g>\n<!-- 140441753126480&#45;&gt;140441753286864 -->\n<g class=\"edge\" id=\"edge39\">\n<title>140441753126480-&gt;140441753286864</title>\n<path d=\"M333.7584,-5475.4551C333.4267,-5467.3828 333.0278,-5457.6764 332.6582,-5448.6817\" fill=\"none\" stroke=\"#000000\"/>\n<polygon fill=\"#000000\" points=\"336.1512,-5448.4382 332.2434,-5438.5904 329.1571,-5448.7257 336.1512,-5448.4382\" stroke=\"#000000\"/>\n</g>\n<!-- 140441753286864&#45;&gt;140441754907600 -->\n<g class=\"edge\" id=\"edge41\">\n<title>140441753286864-&gt;140441754907600</title>\n<path d=\"M319.3876,-5402.4551C313.6159,-5393.8564 306.5995,-5383.4034 300.2418,-5373.9316\" fill=\"none\" stroke=\"#000000\"/>\n<polygon fill=\"#000000\" points=\"303.1222,-5371.9427 294.6428,-5365.5904 297.3101,-5375.844 303.1222,-5371.9427\" stroke=\"#000000\"/>\n</g>\n<!-- 140441756190928 -->\n<g class=\"node\" id=\"node36\">\n<title>140441756190928</title>\n<polygon fill=\"none\" points=\"88.5,-5256.5 88.5,-5292.5 476.5,-5292.5 476.5,-5256.5 88.5,-5256.5\" stroke=\"#000000\"/>\n<text fill=\"#000000\" font-family=\"Times,serif\" font-size=\"14.00\" text-anchor=\"middle\" x=\"217\" y=\"-5270.8\">Encoder-4-MultiHeadSelfAttention-Norm</text>\n<polyline fill=\"none\" points=\"345.5,-5256.5 345.5,-5292.5 \" stroke=\"#000000\"/>\n<text fill=\"#000000\" font-family=\"Times,serif\" font-size=\"14.00\" text-anchor=\"middle\" x=\"411\" y=\"-5270.8\">LayerNormalization</text>\n</g>\n<!-- 140441754907600&#45;&gt;140441756190928 -->\n<g class=\"edge\" id=\"edge42\">\n<title>140441754907600-&gt;140441756190928</title>\n<path d=\"M282.5,-5329.4551C282.5,-5321.3828 282.5,-5311.6764 282.5,-5302.6817\" fill=\"none\" stroke=\"#000000\"/>\n<polygon fill=\"#000000\" points=\"286.0001,-5302.5903 282.5,-5292.5904 279.0001,-5302.5904 286.0001,-5302.5903\" stroke=\"#000000\"/>\n</g>\n<!-- 140441755313296 -->\n<g class=\"node\" id=\"node37\">\n<title>140441755313296</title>\n<polygon fill=\"none\" points=\"251,-5183.5 251,-5219.5 502,-5219.5 502,-5183.5 251,-5183.5\" stroke=\"#000000\"/>\n<text fill=\"#000000\" font-family=\"Times,serif\" font-size=\"14.00\" text-anchor=\"middle\" x=\"330\" y=\"-5197.8\">Encoder-4-FeedForward</text>\n<polyline fill=\"none\" points=\"409,-5183.5 409,-5219.5 \" stroke=\"#000000\"/>\n<text fill=\"#000000\" font-family=\"Times,serif\" font-size=\"14.00\" text-anchor=\"middle\" x=\"455.5\" y=\"-5197.8\">FeedForward</text>\n</g>\n<!-- 140441756190928&#45;&gt;140441755313296 -->\n<g class=\"edge\" id=\"edge43\">\n<title>140441756190928-&gt;140441755313296</title>\n<path d=\"M305.736,-5256.4551C317.5991,-5247.2422 332.2033,-5235.9006 345.0576,-5225.918\" fill=\"none\" stroke=\"#000000\"/>\n<polygon fill=\"#000000\" points=\"347.4543,-5228.4883 353.2056,-5219.5904 343.1607,-5222.9597 347.4543,-5228.4883\" stroke=\"#000000\"/>\n</g>\n<!-- 140441751590480 -->\n<g class=\"node\" id=\"node39\">\n<title>140441751590480</title>\n<polygon fill=\"none\" points=\"155.5,-5037.5 155.5,-5073.5 385.5,-5073.5 385.5,-5037.5 155.5,-5037.5\" stroke=\"#000000\"/>\n<text fill=\"#000000\" font-family=\"Times,serif\" font-size=\"14.00\" text-anchor=\"middle\" x=\"249.5\" y=\"-5051.8\">Encoder-4-FeedForward-Add</text>\n<polyline fill=\"none\" points=\"343.5,-5037.5 343.5,-5073.5 \" stroke=\"#000000\"/>\n<text fill=\"#000000\" font-family=\"Times,serif\" font-size=\"14.00\" text-anchor=\"middle\" x=\"364.5\" y=\"-5051.8\">Add</text>\n</g>\n<!-- 140441756190928&#45;&gt;140441751590480 -->\n<g class=\"edge\" id=\"edge45\">\n<title>140441756190928-&gt;140441751590480</title>\n<path d=\"M264.7811,-5256.433C256.1881,-5246.5118 246.6358,-5233.5013 241.5,-5220 224.0924,-5174.2375 221.7136,-5156.9805 235.5,-5110 238.367,-5100.23 243.5845,-5090.5532 249.1311,-5082.1259\" fill=\"none\" stroke=\"#000000\"/>\n<polygon fill=\"#000000\" points=\"252.0637,-5084.0399 254.9456,-5073.8446 246.3348,-5080.0175 252.0637,-5084.0399\" stroke=\"#000000\"/>\n</g>\n<!-- 140441751147152 -->\n<g class=\"node\" id=\"node38\">\n<title>140441751147152</title>\n<polygon fill=\"none\" points=\"244.5,-5110.5 244.5,-5146.5 520.5,-5146.5 520.5,-5110.5 244.5,-5110.5\" stroke=\"#000000\"/>\n<text fill=\"#000000\" font-family=\"Times,serif\" font-size=\"14.00\" text-anchor=\"middle\" x=\"350\" y=\"-5124.8\">Encoder-4-FeedForward-Dropout</text>\n<polyline fill=\"none\" points=\"455.5,-5110.5 455.5,-5146.5 \" stroke=\"#000000\"/>\n<text fill=\"#000000\" font-family=\"Times,serif\" font-size=\"14.00\" text-anchor=\"middle\" x=\"488\" y=\"-5124.8\">Dropout</text>\n</g>\n<!-- 140441755313296&#45;&gt;140441751147152 -->\n<g class=\"edge\" id=\"edge44\">\n<title>140441755313296-&gt;140441751147152</title>\n<path d=\"M377.9831,-5183.4551C378.6466,-5175.3828 379.4444,-5165.6764 380.1837,-5156.6817\" fill=\"none\" stroke=\"#000000\"/>\n<polygon fill=\"#000000\" points=\"383.6821,-5156.8435 381.0131,-5146.5904 376.7056,-5156.27 383.6821,-5156.8435\" stroke=\"#000000\"/>\n</g>\n<!-- 140441751147152&#45;&gt;140441751590480 -->\n<g class=\"edge\" id=\"edge46\">\n<title>140441751147152-&gt;140441751590480</title>\n<path d=\"M354.8146,-5110.4551C340.276,-5100.979 322.282,-5089.2508 306.6558,-5079.0658\" fill=\"none\" stroke=\"#000000\"/>\n<polygon fill=\"#000000\" points=\"308.5438,-5076.1186 298.2551,-5073.5904 304.7215,-5081.983 308.5438,-5076.1186\" stroke=\"#000000\"/>\n</g>\n<!-- 140441751178640 -->\n<g class=\"node\" id=\"node40\">\n<title>140441751178640</title>\n<polygon fill=\"none\" points=\"107,-4964.5 107,-5000.5 434,-5000.5 434,-4964.5 107,-4964.5\" stroke=\"#000000\"/>\n<text fill=\"#000000\" font-family=\"Times,serif\" font-size=\"14.00\" text-anchor=\"middle\" x=\"205\" y=\"-4978.8\">Encoder-4-FeedForward-Norm</text>\n<polyline fill=\"none\" points=\"303,-4964.5 303,-5000.5 \" stroke=\"#000000\"/>\n<text fill=\"#000000\" font-family=\"Times,serif\" font-size=\"14.00\" text-anchor=\"middle\" x=\"368.5\" y=\"-4978.8\">LayerNormalization</text>\n</g>\n<!-- 140441751590480&#45;&gt;140441751178640 -->\n<g class=\"edge\" id=\"edge47\">\n<title>140441751590480-&gt;140441751178640</title>\n<path d=\"M270.5,-5037.4551C270.5,-5029.3828 270.5,-5019.6764 270.5,-5010.6817\" fill=\"none\" stroke=\"#000000\"/>\n<polygon fill=\"#000000\" points=\"274.0001,-5010.5903 270.5,-5000.5904 267.0001,-5010.5904 274.0001,-5010.5903\" stroke=\"#000000\"/>\n</g>\n<!-- 140441753658960 -->\n<g class=\"node\" id=\"node41\">\n<title>140441753658960</title>\n<polygon fill=\"none\" points=\"159,-4891.5 159,-4927.5 510,-4927.5 510,-4891.5 159,-4891.5\" stroke=\"#000000\"/>\n<text fill=\"#000000\" font-family=\"Times,serif\" font-size=\"14.00\" text-anchor=\"middle\" x=\"268.5\" y=\"-4905.8\">Encoder-5-MultiHeadSelfAttention</text>\n<polyline fill=\"none\" points=\"378,-4891.5 378,-4927.5 \" stroke=\"#000000\"/>\n<text fill=\"#000000\" font-family=\"Times,serif\" font-size=\"14.00\" text-anchor=\"middle\" x=\"444\" y=\"-4905.8\">MultiHeadAttention</text>\n</g>\n<!-- 140441751178640&#45;&gt;140441753658960 -->\n<g class=\"edge\" id=\"edge48\">\n<title>140441751178640-&gt;140441753658960</title>\n<path d=\"M286.3202,-4964.4551C294.0126,-4955.6809 303.3978,-4944.9759 311.8344,-4935.353\" fill=\"none\" stroke=\"#000000\"/>\n<polygon fill=\"#000000\" points=\"314.6794,-4937.4171 318.64,-4927.5904 309.4158,-4932.8024 314.6794,-4937.4171\" stroke=\"#000000\"/>\n</g>\n<!-- 140441753501328 -->\n<g class=\"node\" id=\"node43\">\n<title>140441753501328</title>\n<polygon fill=\"none\" points=\"134,-4745.5 134,-4781.5 425,-4781.5 425,-4745.5 134,-4745.5\" stroke=\"#000000\"/>\n<text fill=\"#000000\" font-family=\"Times,serif\" font-size=\"14.00\" text-anchor=\"middle\" x=\"258.5\" y=\"-4759.8\">Encoder-5-MultiHeadSelfAttention-Add</text>\n<polyline fill=\"none\" points=\"383,-4745.5 383,-4781.5 \" stroke=\"#000000\"/>\n<text fill=\"#000000\" font-family=\"Times,serif\" font-size=\"14.00\" text-anchor=\"middle\" x=\"404\" y=\"-4759.8\">Add</text>\n</g>\n<!-- 140441751178640&#45;&gt;140441753501328 -->\n<g class=\"edge\" id=\"edge50\">\n<title>140441751178640-&gt;140441753501328</title>\n<path d=\"M195.8357,-4964.4744C177.6401,-4956.3862 160.3181,-4944.7374 149.5,-4928 140.2863,-4913.7448 138.9814,-4837.6228 152.5,-4818 162.1149,-4804.0435 176.0929,-4793.6395 191.2942,-4785.8902\" fill=\"none\" stroke=\"#000000\"/>\n<polygon fill=\"#000000\" points=\"192.8012,-4789.0493 200.3622,-4781.6275 189.8232,-4782.7143 192.8012,-4789.0493\" stroke=\"#000000\"/>\n</g>\n<!-- 140441755576144 -->\n<g class=\"node\" id=\"node42\">\n<title>140441755576144</title>\n<polygon fill=\"none\" points=\"162,-4818.5 162,-4854.5 499,-4854.5 499,-4818.5 162,-4818.5\" stroke=\"#000000\"/>\n<text fill=\"#000000\" font-family=\"Times,serif\" font-size=\"14.00\" text-anchor=\"middle\" x=\"298\" y=\"-4832.8\">Encoder-5-MultiHeadSelfAttention-Dropout</text>\n<polyline fill=\"none\" points=\"434,-4818.5 434,-4854.5 \" stroke=\"#000000\"/>\n<text fill=\"#000000\" font-family=\"Times,serif\" font-size=\"14.00\" text-anchor=\"middle\" x=\"466.5\" y=\"-4832.8\">Dropout</text>\n</g>\n<!-- 140441753658960&#45;&gt;140441755576144 -->\n<g class=\"edge\" id=\"edge49\">\n<title>140441753658960-&gt;140441755576144</title>\n<path d=\"M333.5112,-4891.4551C333.0689,-4883.3828 332.5371,-4873.6764 332.0442,-4864.6817\" fill=\"none\" stroke=\"#000000\"/>\n<polygon fill=\"#000000\" points=\"335.5332,-4864.3839 331.4913,-4854.5904 328.5437,-4864.7669 335.5332,-4864.3839\" stroke=\"#000000\"/>\n</g>\n<!-- 140441755576144&#45;&gt;140441753501328 -->\n<g class=\"edge\" id=\"edge51\">\n<title>140441755576144-&gt;140441753501328</title>\n<path d=\"M317.8933,-4818.4551C311.886,-4809.8564 304.5832,-4799.4034 297.9659,-4789.9316\" fill=\"none\" stroke=\"#000000\"/>\n<polygon fill=\"#000000\" points=\"300.7348,-4787.7835 292.1385,-4781.5904 294.9964,-4791.7925 300.7348,-4787.7835\" stroke=\"#000000\"/>\n</g>\n<!-- 140441750862416 -->\n<g class=\"node\" id=\"node44\">\n<title>140441750862416</title>\n<polygon fill=\"none\" points=\"85.5,-4672.5 85.5,-4708.5 473.5,-4708.5 473.5,-4672.5 85.5,-4672.5\" stroke=\"#000000\"/>\n<text fill=\"#000000\" font-family=\"Times,serif\" font-size=\"14.00\" text-anchor=\"middle\" x=\"214\" y=\"-4686.8\">Encoder-5-MultiHeadSelfAttention-Norm</text>\n<polyline fill=\"none\" points=\"342.5,-4672.5 342.5,-4708.5 \" stroke=\"#000000\"/>\n<text fill=\"#000000\" font-family=\"Times,serif\" font-size=\"14.00\" text-anchor=\"middle\" x=\"408\" y=\"-4686.8\">LayerNormalization</text>\n</g>\n<!-- 140441753501328&#45;&gt;140441750862416 -->\n<g class=\"edge\" id=\"edge52\">\n<title>140441753501328-&gt;140441750862416</title>\n<path d=\"M279.5,-4745.4551C279.5,-4737.3828 279.5,-4727.6764 279.5,-4718.6817\" fill=\"none\" stroke=\"#000000\"/>\n<polygon fill=\"#000000\" points=\"283.0001,-4718.5903 279.5,-4708.5904 276.0001,-4718.5904 283.0001,-4718.5903\" stroke=\"#000000\"/>\n</g>\n<!-- 140441753918224 -->\n<g class=\"node\" id=\"node45\">\n<title>140441753918224</title>\n<polygon fill=\"none\" points=\"245,-4599.5 245,-4635.5 496,-4635.5 496,-4599.5 245,-4599.5\" stroke=\"#000000\"/>\n<text fill=\"#000000\" font-family=\"Times,serif\" font-size=\"14.00\" text-anchor=\"middle\" x=\"324\" y=\"-4613.8\">Encoder-5-FeedForward</text>\n<polyline fill=\"none\" points=\"403,-4599.5 403,-4635.5 \" stroke=\"#000000\"/>\n<text fill=\"#000000\" font-family=\"Times,serif\" font-size=\"14.00\" text-anchor=\"middle\" x=\"449.5\" y=\"-4613.8\">FeedForward</text>\n</g>\n<!-- 140441750862416&#45;&gt;140441753918224 -->\n<g class=\"edge\" id=\"edge53\">\n<title>140441750862416-&gt;140441753918224</title>\n<path d=\"M301.9944,-4672.4551C313.4789,-4663.2422 327.617,-4651.9006 340.0611,-4641.918\" fill=\"none\" stroke=\"#000000\"/>\n<polygon fill=\"#000000\" points=\"342.3388,-4644.5779 347.949,-4635.5904 337.9586,-4639.1177 342.3388,-4644.5779\" stroke=\"#000000\"/>\n</g>\n<!-- 140441753242064 -->\n<g class=\"node\" id=\"node47\">\n<title>140441753242064</title>\n<polygon fill=\"none\" points=\"155.5,-4453.5 155.5,-4489.5 385.5,-4489.5 385.5,-4453.5 155.5,-4453.5\" stroke=\"#000000\"/>\n<text fill=\"#000000\" font-family=\"Times,serif\" font-size=\"14.00\" text-anchor=\"middle\" x=\"249.5\" y=\"-4467.8\">Encoder-5-FeedForward-Add</text>\n<polyline fill=\"none\" points=\"343.5,-4453.5 343.5,-4489.5 \" stroke=\"#000000\"/>\n<text fill=\"#000000\" font-family=\"Times,serif\" font-size=\"14.00\" text-anchor=\"middle\" x=\"364.5\" y=\"-4467.8\">Add</text>\n</g>\n<!-- 140441750862416&#45;&gt;140441753242064 -->\n<g class=\"edge\" id=\"edge55\">\n<title>140441750862416-&gt;140441753242064</title>\n<path d=\"M260.0299,-4672.1698C250.9277,-4662.3703 240.9209,-4649.5484 235.5,-4636 223.4069,-4605.7757 230.8345,-4595.5265 229.5,-4563 228.8259,-4546.5694 224.2884,-4541.5968 229.5,-4526 232.8772,-4515.8931 238.9473,-4506.1566 245.3994,-4497.7792\" fill=\"none\" stroke=\"#000000\"/>\n<polygon fill=\"#000000\" points=\"248.2393,-4499.8364 251.8932,-4489.8916 242.8351,-4495.3872 248.2393,-4499.8364\" stroke=\"#000000\"/>\n</g>\n<!-- 140441756189904 -->\n<g class=\"node\" id=\"node46\">\n<title>140441756189904</title>\n<polygon fill=\"none\" points=\"238.5,-4526.5 238.5,-4562.5 514.5,-4562.5 514.5,-4526.5 238.5,-4526.5\" stroke=\"#000000\"/>\n<text fill=\"#000000\" font-family=\"Times,serif\" font-size=\"14.00\" text-anchor=\"middle\" x=\"344\" y=\"-4540.8\">Encoder-5-FeedForward-Dropout</text>\n<polyline fill=\"none\" points=\"449.5,-4526.5 449.5,-4562.5 \" stroke=\"#000000\"/>\n<text fill=\"#000000\" font-family=\"Times,serif\" font-size=\"14.00\" text-anchor=\"middle\" x=\"482\" y=\"-4540.8\">Dropout</text>\n</g>\n<!-- 140441753918224&#45;&gt;140441756189904 -->\n<g class=\"edge\" id=\"edge54\">\n<title>140441753918224-&gt;140441756189904</title>\n<path d=\"M371.9831,-4599.4551C372.6466,-4591.3828 373.4444,-4581.6764 374.1837,-4572.6817\" fill=\"none\" stroke=\"#000000\"/>\n<polygon fill=\"#000000\" points=\"377.6821,-4572.8435 375.0131,-4562.5904 370.7056,-4572.27 377.6821,-4572.8435\" stroke=\"#000000\"/>\n</g>\n<!-- 140441756189904&#45;&gt;140441753242064 -->\n<g class=\"edge\" id=\"edge56\">\n<title>140441756189904-&gt;140441753242064</title>\n<path d=\"M350.2977,-4526.4551C336.6654,-4517.0667 319.8231,-4505.4678 305.1302,-4495.3491\" fill=\"none\" stroke=\"#000000\"/>\n<polygon fill=\"#000000\" points=\"306.9893,-4492.3797 296.7682,-4489.5904 303.0189,-4498.1448 306.9893,-4492.3797\" stroke=\"#000000\"/>\n</g>\n<!-- 140441750084688 -->\n<g class=\"node\" id=\"node48\">\n<title>140441750084688</title>\n<polygon fill=\"none\" points=\"107,-4380.5 107,-4416.5 434,-4416.5 434,-4380.5 107,-4380.5\" stroke=\"#000000\"/>\n<text fill=\"#000000\" font-family=\"Times,serif\" font-size=\"14.00\" text-anchor=\"middle\" x=\"205\" y=\"-4394.8\">Encoder-5-FeedForward-Norm</text>\n<polyline fill=\"none\" points=\"303,-4380.5 303,-4416.5 \" stroke=\"#000000\"/>\n<text fill=\"#000000\" font-family=\"Times,serif\" font-size=\"14.00\" text-anchor=\"middle\" x=\"368.5\" y=\"-4394.8\">LayerNormalization</text>\n</g>\n<!-- 140441753242064&#45;&gt;140441750084688 -->\n<g class=\"edge\" id=\"edge57\">\n<title>140441753242064-&gt;140441750084688</title>\n<path d=\"M270.5,-4453.4551C270.5,-4445.3828 270.5,-4435.6764 270.5,-4426.6817\" fill=\"none\" stroke=\"#000000\"/>\n<polygon fill=\"#000000\" points=\"274.0001,-4426.5903 270.5,-4416.5904 267.0001,-4426.5904 274.0001,-4426.5903\" stroke=\"#000000\"/>\n</g>\n<!-- 140441753649296 -->\n<g class=\"node\" id=\"node49\">\n<title>140441753649296</title>\n<polygon fill=\"none\" points=\"159,-4307.5 159,-4343.5 510,-4343.5 510,-4307.5 159,-4307.5\" stroke=\"#000000\"/>\n<text fill=\"#000000\" font-family=\"Times,serif\" font-size=\"14.00\" text-anchor=\"middle\" x=\"268.5\" y=\"-4321.8\">Encoder-6-MultiHeadSelfAttention</text>\n<polyline fill=\"none\" points=\"378,-4307.5 378,-4343.5 \" stroke=\"#000000\"/>\n<text fill=\"#000000\" font-family=\"Times,serif\" font-size=\"14.00\" text-anchor=\"middle\" x=\"444\" y=\"-4321.8\">MultiHeadAttention</text>\n</g>\n<!-- 140441750084688&#45;&gt;140441753649296 -->\n<g class=\"edge\" id=\"edge58\">\n<title>140441750084688-&gt;140441753649296</title>\n<path d=\"M286.3202,-4380.4551C294.0126,-4371.6809 303.3978,-4360.9759 311.8344,-4351.353\" fill=\"none\" stroke=\"#000000\"/>\n<polygon fill=\"#000000\" points=\"314.6794,-4353.4171 318.64,-4343.5904 309.4158,-4348.8024 314.6794,-4353.4171\" stroke=\"#000000\"/>\n</g>\n<!-- 140441750019664 -->\n<g class=\"node\" id=\"node51\">\n<title>140441750019664</title>\n<polygon fill=\"none\" points=\"134,-4161.5 134,-4197.5 425,-4197.5 425,-4161.5 134,-4161.5\" stroke=\"#000000\"/>\n<text fill=\"#000000\" font-family=\"Times,serif\" font-size=\"14.00\" text-anchor=\"middle\" x=\"258.5\" y=\"-4175.8\">Encoder-6-MultiHeadSelfAttention-Add</text>\n<polyline fill=\"none\" points=\"383,-4161.5 383,-4197.5 \" stroke=\"#000000\"/>\n<text fill=\"#000000\" font-family=\"Times,serif\" font-size=\"14.00\" text-anchor=\"middle\" x=\"404\" y=\"-4175.8\">Add</text>\n</g>\n<!-- 140441750084688&#45;&gt;140441750019664 -->\n<g class=\"edge\" id=\"edge60\">\n<title>140441750084688-&gt;140441750019664</title>\n<path d=\"M195.8357,-4380.4744C177.6401,-4372.3862 160.3181,-4360.7374 149.5,-4344 140.5735,-4330.1892 149.05,-4323.4383 149.5,-4307 150.3892,-4274.5191 134.9218,-4260.6581 153.5,-4234 163.2396,-4220.0245 177.3622,-4209.6045 192.6612,-4201.8441\" fill=\"none\" stroke=\"#000000\"/>\n<polygon fill=\"#000000\" points=\"194.2075,-4204.9848 201.7806,-4197.5754 191.2399,-4198.6449 194.2075,-4204.9848\" stroke=\"#000000\"/>\n</g>\n<!-- 140441753962128 -->\n<g class=\"node\" id=\"node50\">\n<title>140441753962128</title>\n<polygon fill=\"none\" points=\"163,-4234.5 163,-4270.5 500,-4270.5 500,-4234.5 163,-4234.5\" stroke=\"#000000\"/>\n<text fill=\"#000000\" font-family=\"Times,serif\" font-size=\"14.00\" text-anchor=\"middle\" x=\"299\" y=\"-4248.8\">Encoder-6-MultiHeadSelfAttention-Dropout</text>\n<polyline fill=\"none\" points=\"435,-4234.5 435,-4270.5 \" stroke=\"#000000\"/>\n<text fill=\"#000000\" font-family=\"Times,serif\" font-size=\"14.00\" text-anchor=\"middle\" x=\"467.5\" y=\"-4248.8\">Dropout</text>\n</g>\n<!-- 140441753649296&#45;&gt;140441753962128 -->\n<g class=\"edge\" id=\"edge59\">\n<title>140441753649296-&gt;140441753962128</title>\n<path d=\"M333.7584,-4307.4551C333.4267,-4299.3828 333.0278,-4289.6764 332.6582,-4280.6817\" fill=\"none\" stroke=\"#000000\"/>\n<polygon fill=\"#000000\" points=\"336.1512,-4280.4382 332.2434,-4270.5904 329.1571,-4280.7257 336.1512,-4280.4382\" stroke=\"#000000\"/>\n</g>\n<!-- 140441753962128&#45;&gt;140441750019664 -->\n<g class=\"edge\" id=\"edge61\">\n<title>140441753962128-&gt;140441750019664</title>\n<path d=\"M318.6461,-4234.4551C312.521,-4225.8564 305.075,-4215.4034 298.328,-4205.9316\" fill=\"none\" stroke=\"#000000\"/>\n<polygon fill=\"#000000\" points=\"301.0389,-4203.7046 292.3863,-4197.5904 295.3374,-4207.7659 301.0389,-4203.7046\" stroke=\"#000000\"/>\n</g>\n<!-- 140441756040912 -->\n<g class=\"node\" id=\"node52\">\n<title>140441756040912</title>\n<polygon fill=\"none\" points=\"85.5,-4088.5 85.5,-4124.5 473.5,-4124.5 473.5,-4088.5 85.5,-4088.5\" stroke=\"#000000\"/>\n<text fill=\"#000000\" font-family=\"Times,serif\" font-size=\"14.00\" text-anchor=\"middle\" x=\"214\" y=\"-4102.8\">Encoder-6-MultiHeadSelfAttention-Norm</text>\n<polyline fill=\"none\" points=\"342.5,-4088.5 342.5,-4124.5 \" stroke=\"#000000\"/>\n<text fill=\"#000000\" font-family=\"Times,serif\" font-size=\"14.00\" text-anchor=\"middle\" x=\"408\" y=\"-4102.8\">LayerNormalization</text>\n</g>\n<!-- 140441750019664&#45;&gt;140441756040912 -->\n<g class=\"edge\" id=\"edge62\">\n<title>140441750019664-&gt;140441756040912</title>\n<path d=\"M279.5,-4161.4551C279.5,-4153.3828 279.5,-4143.6764 279.5,-4134.6817\" fill=\"none\" stroke=\"#000000\"/>\n<polygon fill=\"#000000\" points=\"283.0001,-4134.5903 279.5,-4124.5904 276.0001,-4134.5904 283.0001,-4134.5903\" stroke=\"#000000\"/>\n</g>\n<!-- 140441754145744 -->\n<g class=\"node\" id=\"node53\">\n<title>140441754145744</title>\n<polygon fill=\"none\" points=\"245,-4015.5 245,-4051.5 496,-4051.5 496,-4015.5 245,-4015.5\" stroke=\"#000000\"/>\n<text fill=\"#000000\" font-family=\"Times,serif\" font-size=\"14.00\" text-anchor=\"middle\" x=\"324\" y=\"-4029.8\">Encoder-6-FeedForward</text>\n<polyline fill=\"none\" points=\"403,-4015.5 403,-4051.5 \" stroke=\"#000000\"/>\n<text fill=\"#000000\" font-family=\"Times,serif\" font-size=\"14.00\" text-anchor=\"middle\" x=\"449.5\" y=\"-4029.8\">FeedForward</text>\n</g>\n<!-- 140441756040912&#45;&gt;140441754145744 -->\n<g class=\"edge\" id=\"edge63\">\n<title>140441756040912-&gt;140441754145744</title>\n<path d=\"M301.9944,-4088.4551C313.4789,-4079.2422 327.617,-4067.9006 340.0611,-4057.918\" fill=\"none\" stroke=\"#000000\"/>\n<polygon fill=\"#000000\" points=\"342.3388,-4060.5779 347.949,-4051.5904 337.9586,-4055.1177 342.3388,-4060.5779\" stroke=\"#000000\"/>\n</g>\n<!-- 140441754271888 -->\n<g class=\"node\" id=\"node55\">\n<title>140441754271888</title>\n<polygon fill=\"none\" points=\"159.5,-3869.5 159.5,-3905.5 389.5,-3905.5 389.5,-3869.5 159.5,-3869.5\" stroke=\"#000000\"/>\n<text fill=\"#000000\" font-family=\"Times,serif\" font-size=\"14.00\" text-anchor=\"middle\" x=\"253.5\" y=\"-3883.8\">Encoder-6-FeedForward-Add</text>\n<polyline fill=\"none\" points=\"347.5,-3869.5 347.5,-3905.5 \" stroke=\"#000000\"/>\n<text fill=\"#000000\" font-family=\"Times,serif\" font-size=\"14.00\" text-anchor=\"middle\" x=\"368.5\" y=\"-3883.8\">Add</text>\n</g>\n<!-- 140441756040912&#45;&gt;140441754271888 -->\n<g class=\"edge\" id=\"edge65\">\n<title>140441756040912-&gt;140441754271888</title>\n<path d=\"M260.0299,-4088.1698C250.9277,-4078.3703 240.9209,-4065.5484 235.5,-4052 217.3117,-4006.5421 212.9365,-3988.0748 229.5,-3942 233.2748,-3931.4996 240.0461,-3921.5821 247.2087,-3913.1584\" fill=\"none\" stroke=\"#000000\"/>\n<polygon fill=\"#000000\" points=\"249.9717,-3915.3224 254.1108,-3905.5696 244.7931,-3910.6125 249.9717,-3915.3224\" stroke=\"#000000\"/>\n</g>\n<!-- 140441749155024 -->\n<g class=\"node\" id=\"node54\">\n<title>140441749155024</title>\n<polygon fill=\"none\" points=\"238.5,-3942.5 238.5,-3978.5 514.5,-3978.5 514.5,-3942.5 238.5,-3942.5\" stroke=\"#000000\"/>\n<text fill=\"#000000\" font-family=\"Times,serif\" font-size=\"14.00\" text-anchor=\"middle\" x=\"344\" y=\"-3956.8\">Encoder-6-FeedForward-Dropout</text>\n<polyline fill=\"none\" points=\"449.5,-3942.5 449.5,-3978.5 \" stroke=\"#000000\"/>\n<text fill=\"#000000\" font-family=\"Times,serif\" font-size=\"14.00\" text-anchor=\"middle\" x=\"482\" y=\"-3956.8\">Dropout</text>\n</g>\n<!-- 140441754145744&#45;&gt;140441749155024 -->\n<g class=\"edge\" id=\"edge64\">\n<title>140441754145744-&gt;140441749155024</title>\n<path d=\"M371.9831,-4015.4551C372.6466,-4007.3828 373.4444,-3997.6764 374.1837,-3988.6817\" fill=\"none\" stroke=\"#000000\"/>\n<polygon fill=\"#000000\" points=\"377.6821,-3988.8435 375.0131,-3978.5904 370.7056,-3988.27 377.6821,-3988.8435\" stroke=\"#000000\"/>\n</g>\n<!-- 140441749155024&#45;&gt;140441754271888 -->\n<g class=\"edge\" id=\"edge66\">\n<title>140441749155024-&gt;140441754271888</title>\n<path d=\"M351.2865,-3942.4551C338.2912,-3933.1545 322.2645,-3921.6844 308.2204,-3911.6332\" fill=\"none\" stroke=\"#000000\"/>\n<polygon fill=\"#000000\" points=\"309.9459,-3908.5641 299.7769,-3905.5904 305.8719,-3914.2565 309.9459,-3908.5641\" stroke=\"#000000\"/>\n</g>\n<!-- 140441765393296 -->\n<g class=\"node\" id=\"node56\">\n<title>140441765393296</title>\n<polygon fill=\"none\" points=\"111,-3796.5 111,-3832.5 438,-3832.5 438,-3796.5 111,-3796.5\" stroke=\"#000000\"/>\n<text fill=\"#000000\" font-family=\"Times,serif\" font-size=\"14.00\" text-anchor=\"middle\" x=\"209\" y=\"-3810.8\">Encoder-6-FeedForward-Norm</text>\n<polyline fill=\"none\" points=\"307,-3796.5 307,-3832.5 \" stroke=\"#000000\"/>\n<text fill=\"#000000\" font-family=\"Times,serif\" font-size=\"14.00\" text-anchor=\"middle\" x=\"372.5\" y=\"-3810.8\">LayerNormalization</text>\n</g>\n<!-- 140441754271888&#45;&gt;140441765393296 -->\n<g class=\"edge\" id=\"edge67\">\n<title>140441754271888-&gt;140441765393296</title>\n<path d=\"M274.5,-3869.4551C274.5,-3861.3828 274.5,-3851.6764 274.5,-3842.6817\" fill=\"none\" stroke=\"#000000\"/>\n<polygon fill=\"#000000\" points=\"278.0001,-3842.5903 274.5,-3832.5904 271.0001,-3842.5904 278.0001,-3842.5903\" stroke=\"#000000\"/>\n</g>\n<!-- 140441756083280 -->\n<g class=\"node\" id=\"node57\">\n<title>140441756083280</title>\n<polygon fill=\"none\" points=\"159,-3723.5 159,-3759.5 510,-3759.5 510,-3723.5 159,-3723.5\" stroke=\"#000000\"/>\n<text fill=\"#000000\" font-family=\"Times,serif\" font-size=\"14.00\" text-anchor=\"middle\" x=\"268.5\" y=\"-3737.8\">Encoder-7-MultiHeadSelfAttention</text>\n<polyline fill=\"none\" points=\"378,-3723.5 378,-3759.5 \" stroke=\"#000000\"/>\n<text fill=\"#000000\" font-family=\"Times,serif\" font-size=\"14.00\" text-anchor=\"middle\" x=\"444\" y=\"-3737.8\">MultiHeadAttention</text>\n</g>\n<!-- 140441765393296&#45;&gt;140441756083280 -->\n<g class=\"edge\" id=\"edge68\">\n<title>140441765393296-&gt;140441756083280</title>\n<path d=\"M289.3315,-3796.4551C296.5431,-3787.6809 305.3417,-3776.9759 313.251,-3767.353\" fill=\"none\" stroke=\"#000000\"/>\n<polygon fill=\"#000000\" points=\"315.9854,-3769.5382 319.6312,-3759.5904 310.5776,-3765.0934 315.9854,-3769.5382\" stroke=\"#000000\"/>\n</g>\n<!-- 140441749233168 -->\n<g class=\"node\" id=\"node59\">\n<title>140441749233168</title>\n<polygon fill=\"none\" points=\"134,-3577.5 134,-3613.5 425,-3613.5 425,-3577.5 134,-3577.5\" stroke=\"#000000\"/>\n<text fill=\"#000000\" font-family=\"Times,serif\" font-size=\"14.00\" text-anchor=\"middle\" x=\"258.5\" y=\"-3591.8\">Encoder-7-MultiHeadSelfAttention-Add</text>\n<polyline fill=\"none\" points=\"383,-3577.5 383,-3613.5 \" stroke=\"#000000\"/>\n<text fill=\"#000000\" font-family=\"Times,serif\" font-size=\"14.00\" text-anchor=\"middle\" x=\"404\" y=\"-3591.8\">Add</text>\n</g>\n<!-- 140441765393296&#45;&gt;140441749233168 -->\n<g class=\"edge\" id=\"edge70\">\n<title>140441765393296-&gt;140441749233168</title>\n<path d=\"M196.1228,-3796.4258C177.8039,-3788.3605 160.4602,-3776.7352 149.5,-3760 140.4905,-3746.2432 149.05,-3739.4383 149.5,-3723 150.3892,-3690.5191 134.9218,-3676.6581 153.5,-3650 163.2396,-3636.0245 177.3622,-3625.6045 192.6612,-3617.8441\" fill=\"none\" stroke=\"#000000\"/>\n<polygon fill=\"#000000\" points=\"194.2075,-3620.9848 201.7806,-3613.5754 191.2399,-3614.6449 194.2075,-3620.9848\" stroke=\"#000000\"/>\n</g>\n<!-- 140441748519888 -->\n<g class=\"node\" id=\"node58\">\n<title>140441748519888</title>\n<polygon fill=\"none\" points=\"163,-3650.5 163,-3686.5 500,-3686.5 500,-3650.5 163,-3650.5\" stroke=\"#000000\"/>\n<text fill=\"#000000\" font-family=\"Times,serif\" font-size=\"14.00\" text-anchor=\"middle\" x=\"299\" y=\"-3664.8\">Encoder-7-MultiHeadSelfAttention-Dropout</text>\n<polyline fill=\"none\" points=\"435,-3650.5 435,-3686.5 \" stroke=\"#000000\"/>\n<text fill=\"#000000\" font-family=\"Times,serif\" font-size=\"14.00\" text-anchor=\"middle\" x=\"467.5\" y=\"-3664.8\">Dropout</text>\n</g>\n<!-- 140441756083280&#45;&gt;140441748519888 -->\n<g class=\"edge\" id=\"edge69\">\n<title>140441756083280-&gt;140441748519888</title>\n<path d=\"M333.7584,-3723.4551C333.4267,-3715.3828 333.0278,-3705.6764 332.6582,-3696.6817\" fill=\"none\" stroke=\"#000000\"/>\n<polygon fill=\"#000000\" points=\"336.1512,-3696.4382 332.2434,-3686.5904 329.1571,-3696.7257 336.1512,-3696.4382\" stroke=\"#000000\"/>\n</g>\n<!-- 140441748519888&#45;&gt;140441749233168 -->\n<g class=\"edge\" id=\"edge71\">\n<title>140441748519888-&gt;140441749233168</title>\n<path d=\"M318.6461,-3650.4551C312.521,-3641.8564 305.075,-3631.4034 298.328,-3621.9316\" fill=\"none\" stroke=\"#000000\"/>\n<polygon fill=\"#000000\" points=\"301.0389,-3619.7046 292.3863,-3613.5904 295.3374,-3623.7659 301.0389,-3619.7046\" stroke=\"#000000\"/>\n</g>\n<!-- 140441750977552 -->\n<g class=\"node\" id=\"node60\">\n<title>140441750977552</title>\n<polygon fill=\"none\" points=\"85.5,-3504.5 85.5,-3540.5 473.5,-3540.5 473.5,-3504.5 85.5,-3504.5\" stroke=\"#000000\"/>\n<text fill=\"#000000\" font-family=\"Times,serif\" font-size=\"14.00\" text-anchor=\"middle\" x=\"214\" y=\"-3518.8\">Encoder-7-MultiHeadSelfAttention-Norm</text>\n<polyline fill=\"none\" points=\"342.5,-3504.5 342.5,-3540.5 \" stroke=\"#000000\"/>\n<text fill=\"#000000\" font-family=\"Times,serif\" font-size=\"14.00\" text-anchor=\"middle\" x=\"408\" y=\"-3518.8\">LayerNormalization</text>\n</g>\n<!-- 140441749233168&#45;&gt;140441750977552 -->\n<g class=\"edge\" id=\"edge72\">\n<title>140441749233168-&gt;140441750977552</title>\n<path d=\"M279.5,-3577.4551C279.5,-3569.3828 279.5,-3559.6764 279.5,-3550.6817\" fill=\"none\" stroke=\"#000000\"/>\n<polygon fill=\"#000000\" points=\"283.0001,-3550.5903 279.5,-3540.5904 276.0001,-3550.5904 283.0001,-3550.5903\" stroke=\"#000000\"/>\n</g>\n<!-- 140441753961872 -->\n<g class=\"node\" id=\"node61\">\n<title>140441753961872</title>\n<polygon fill=\"none\" points=\"245,-3431.5 245,-3467.5 496,-3467.5 496,-3431.5 245,-3431.5\" stroke=\"#000000\"/>\n<text fill=\"#000000\" font-family=\"Times,serif\" font-size=\"14.00\" text-anchor=\"middle\" x=\"324\" y=\"-3445.8\">Encoder-7-FeedForward</text>\n<polyline fill=\"none\" points=\"403,-3431.5 403,-3467.5 \" stroke=\"#000000\"/>\n<text fill=\"#000000\" font-family=\"Times,serif\" font-size=\"14.00\" text-anchor=\"middle\" x=\"449.5\" y=\"-3445.8\">FeedForward</text>\n</g>\n<!-- 140441750977552&#45;&gt;140441753961872 -->\n<g class=\"edge\" id=\"edge73\">\n<title>140441750977552-&gt;140441753961872</title>\n<path d=\"M301.9944,-3504.4551C313.4789,-3495.2422 327.617,-3483.9006 340.0611,-3473.918\" fill=\"none\" stroke=\"#000000\"/>\n<polygon fill=\"#000000\" points=\"342.3388,-3476.5779 347.949,-3467.5904 337.9586,-3471.1177 342.3388,-3476.5779\" stroke=\"#000000\"/>\n</g>\n<!-- 140441748318864 -->\n<g class=\"node\" id=\"node63\">\n<title>140441748318864</title>\n<polygon fill=\"none\" points=\"155.5,-3285.5 155.5,-3321.5 385.5,-3321.5 385.5,-3285.5 155.5,-3285.5\" stroke=\"#000000\"/>\n<text fill=\"#000000\" font-family=\"Times,serif\" font-size=\"14.00\" text-anchor=\"middle\" x=\"249.5\" y=\"-3299.8\">Encoder-7-FeedForward-Add</text>\n<polyline fill=\"none\" points=\"343.5,-3285.5 343.5,-3321.5 \" stroke=\"#000000\"/>\n<text fill=\"#000000\" font-family=\"Times,serif\" font-size=\"14.00\" text-anchor=\"middle\" x=\"364.5\" y=\"-3299.8\">Add</text>\n</g>\n<!-- 140441750977552&#45;&gt;140441748318864 -->\n<g class=\"edge\" id=\"edge75\">\n<title>140441750977552-&gt;140441748318864</title>\n<path d=\"M260.0299,-3504.1698C250.9277,-3494.3703 240.9209,-3481.5484 235.5,-3468 223.4069,-3437.7757 230.8345,-3427.5265 229.5,-3395 228.8259,-3378.5694 224.2884,-3373.5968 229.5,-3358 232.8772,-3347.8931 238.9473,-3338.1566 245.3994,-3329.7792\" fill=\"none\" stroke=\"#000000\"/>\n<polygon fill=\"#000000\" points=\"248.2393,-3331.8364 251.8932,-3321.8916 242.8351,-3327.3872 248.2393,-3331.8364\" stroke=\"#000000\"/>\n</g>\n<!-- 140441748197968 -->\n<g class=\"node\" id=\"node62\">\n<title>140441748197968</title>\n<polygon fill=\"none\" points=\"238.5,-3358.5 238.5,-3394.5 514.5,-3394.5 514.5,-3358.5 238.5,-3358.5\" stroke=\"#000000\"/>\n<text fill=\"#000000\" font-family=\"Times,serif\" font-size=\"14.00\" text-anchor=\"middle\" x=\"344\" y=\"-3372.8\">Encoder-7-FeedForward-Dropout</text>\n<polyline fill=\"none\" points=\"449.5,-3358.5 449.5,-3394.5 \" stroke=\"#000000\"/>\n<text fill=\"#000000\" font-family=\"Times,serif\" font-size=\"14.00\" text-anchor=\"middle\" x=\"482\" y=\"-3372.8\">Dropout</text>\n</g>\n<!-- 140441753961872&#45;&gt;140441748197968 -->\n<g class=\"edge\" id=\"edge74\">\n<title>140441753961872-&gt;140441748197968</title>\n<path d=\"M371.9831,-3431.4551C372.6466,-3423.3828 373.4444,-3413.6764 374.1837,-3404.6817\" fill=\"none\" stroke=\"#000000\"/>\n<polygon fill=\"#000000\" points=\"377.6821,-3404.8435 375.0131,-3394.5904 370.7056,-3404.27 377.6821,-3404.8435\" stroke=\"#000000\"/>\n</g>\n<!-- 140441748197968&#45;&gt;140441748318864 -->\n<g class=\"edge\" id=\"edge76\">\n<title>140441748197968-&gt;140441748318864</title>\n<path d=\"M350.2977,-3358.4551C336.6654,-3349.0667 319.8231,-3337.4678 305.1302,-3327.3491\" fill=\"none\" stroke=\"#000000\"/>\n<polygon fill=\"#000000\" points=\"306.9893,-3324.3797 296.7682,-3321.5904 303.0189,-3330.1448 306.9893,-3324.3797\" stroke=\"#000000\"/>\n</g>\n<!-- 140441748275856 -->\n<g class=\"node\" id=\"node64\">\n<title>140441748275856</title>\n<polygon fill=\"none\" points=\"107,-3212.5 107,-3248.5 434,-3248.5 434,-3212.5 107,-3212.5\" stroke=\"#000000\"/>\n<text fill=\"#000000\" font-family=\"Times,serif\" font-size=\"14.00\" text-anchor=\"middle\" x=\"205\" y=\"-3226.8\">Encoder-7-FeedForward-Norm</text>\n<polyline fill=\"none\" points=\"303,-3212.5 303,-3248.5 \" stroke=\"#000000\"/>\n<text fill=\"#000000\" font-family=\"Times,serif\" font-size=\"14.00\" text-anchor=\"middle\" x=\"368.5\" y=\"-3226.8\">LayerNormalization</text>\n</g>\n<!-- 140441748318864&#45;&gt;140441748275856 -->\n<g class=\"edge\" id=\"edge77\">\n<title>140441748318864-&gt;140441748275856</title>\n<path d=\"M270.5,-3285.4551C270.5,-3277.3828 270.5,-3267.6764 270.5,-3258.6817\" fill=\"none\" stroke=\"#000000\"/>\n<polygon fill=\"#000000\" points=\"274.0001,-3258.5903 270.5,-3248.5904 267.0001,-3258.5904 274.0001,-3258.5903\" stroke=\"#000000\"/>\n</g>\n<!-- 140441754437328 -->\n<g class=\"node\" id=\"node65\">\n<title>140441754437328</title>\n<polygon fill=\"none\" points=\"159,-3139.5 159,-3175.5 510,-3175.5 510,-3139.5 159,-3139.5\" stroke=\"#000000\"/>\n<text fill=\"#000000\" font-family=\"Times,serif\" font-size=\"14.00\" text-anchor=\"middle\" x=\"268.5\" y=\"-3153.8\">Encoder-8-MultiHeadSelfAttention</text>\n<polyline fill=\"none\" points=\"378,-3139.5 378,-3175.5 \" stroke=\"#000000\"/>\n<text fill=\"#000000\" font-family=\"Times,serif\" font-size=\"14.00\" text-anchor=\"middle\" x=\"444\" y=\"-3153.8\">MultiHeadAttention</text>\n</g>\n<!-- 140441748275856&#45;&gt;140441754437328 -->\n<g class=\"edge\" id=\"edge78\">\n<title>140441748275856-&gt;140441754437328</title>\n<path d=\"M286.3202,-3212.4551C294.0126,-3203.6809 303.3978,-3192.9759 311.8344,-3183.353\" fill=\"none\" stroke=\"#000000\"/>\n<polygon fill=\"#000000\" points=\"314.6794,-3185.4171 318.64,-3175.5904 309.4158,-3180.8024 314.6794,-3185.4171\" stroke=\"#000000\"/>\n</g>\n<!-- 140441748237776 -->\n<g class=\"node\" id=\"node67\">\n<title>140441748237776</title>\n<polygon fill=\"none\" points=\"137,-2993.5 137,-3029.5 428,-3029.5 428,-2993.5 137,-2993.5\" stroke=\"#000000\"/>\n<text fill=\"#000000\" font-family=\"Times,serif\" font-size=\"14.00\" text-anchor=\"middle\" x=\"261.5\" y=\"-3007.8\">Encoder-8-MultiHeadSelfAttention-Add</text>\n<polyline fill=\"none\" points=\"386,-2993.5 386,-3029.5 \" stroke=\"#000000\"/>\n<text fill=\"#000000\" font-family=\"Times,serif\" font-size=\"14.00\" text-anchor=\"middle\" x=\"407\" y=\"-3007.8\">Add</text>\n</g>\n<!-- 140441748275856&#45;&gt;140441748237776 -->\n<g class=\"edge\" id=\"edge80\">\n<title>140441748275856-&gt;140441748237776</title>\n<path d=\"M195.8357,-3212.4744C177.6401,-3204.3862 160.3181,-3192.7374 149.5,-3176 140.5735,-3162.1892 149.05,-3155.4383 149.5,-3139 150.3892,-3106.5191 134.8086,-3092.5788 153.5,-3066 163.3205,-3052.0354 177.4591,-3041.6312 192.8081,-3033.8849\" fill=\"none\" stroke=\"#000000\"/>\n<polygon fill=\"#000000\" points=\"194.3727,-3037.0173 201.9617,-3029.6243 191.4187,-3030.6711 194.3727,-3037.0173\" stroke=\"#000000\"/>\n</g>\n<!-- 140441747445840 -->\n<g class=\"node\" id=\"node66\">\n<title>140441747445840</title>\n<polygon fill=\"none\" points=\"163,-3066.5 163,-3102.5 500,-3102.5 500,-3066.5 163,-3066.5\" stroke=\"#000000\"/>\n<text fill=\"#000000\" font-family=\"Times,serif\" font-size=\"14.00\" text-anchor=\"middle\" x=\"299\" y=\"-3080.8\">Encoder-8-MultiHeadSelfAttention-Dropout</text>\n<polyline fill=\"none\" points=\"435,-3066.5 435,-3102.5 \" stroke=\"#000000\"/>\n<text fill=\"#000000\" font-family=\"Times,serif\" font-size=\"14.00\" text-anchor=\"middle\" x=\"467.5\" y=\"-3080.8\">Dropout</text>\n</g>\n<!-- 140441754437328&#45;&gt;140441747445840 -->\n<g class=\"edge\" id=\"edge79\">\n<title>140441754437328-&gt;140441747445840</title>\n<path d=\"M333.7584,-3139.4551C333.4267,-3131.3828 333.0278,-3121.6764 332.6582,-3112.6817\" fill=\"none\" stroke=\"#000000\"/>\n<polygon fill=\"#000000\" points=\"336.1512,-3112.4382 332.2434,-3102.5904 329.1571,-3112.7257 336.1512,-3112.4382\" stroke=\"#000000\"/>\n</g>\n<!-- 140441747445840&#45;&gt;140441748237776 -->\n<g class=\"edge\" id=\"edge81\">\n<title>140441747445840-&gt;140441748237776</title>\n<path d=\"M319.3876,-3066.4551C313.6159,-3057.8564 306.5995,-3047.4034 300.2418,-3037.9316\" fill=\"none\" stroke=\"#000000\"/>\n<polygon fill=\"#000000\" points=\"303.1222,-3035.9427 294.6428,-3029.5904 297.3101,-3039.844 303.1222,-3035.9427\" stroke=\"#000000\"/>\n</g>\n<!-- 140441748199504 -->\n<g class=\"node\" id=\"node68\">\n<title>140441748199504</title>\n<polygon fill=\"none\" points=\"88.5,-2920.5 88.5,-2956.5 476.5,-2956.5 476.5,-2920.5 88.5,-2920.5\" stroke=\"#000000\"/>\n<text fill=\"#000000\" font-family=\"Times,serif\" font-size=\"14.00\" text-anchor=\"middle\" x=\"217\" y=\"-2934.8\">Encoder-8-MultiHeadSelfAttention-Norm</text>\n<polyline fill=\"none\" points=\"345.5,-2920.5 345.5,-2956.5 \" stroke=\"#000000\"/>\n<text fill=\"#000000\" font-family=\"Times,serif\" font-size=\"14.00\" text-anchor=\"middle\" x=\"411\" y=\"-2934.8\">LayerNormalization</text>\n</g>\n<!-- 140441748237776&#45;&gt;140441748199504 -->\n<g class=\"edge\" id=\"edge82\">\n<title>140441748237776-&gt;140441748199504</title>\n<path d=\"M282.5,-2993.4551C282.5,-2985.3828 282.5,-2975.6764 282.5,-2966.6817\" fill=\"none\" stroke=\"#000000\"/>\n<polygon fill=\"#000000\" points=\"286.0001,-2966.5903 282.5,-2956.5904 279.0001,-2966.5904 286.0001,-2966.5903\" stroke=\"#000000\"/>\n</g>\n<!-- 140441747750416 -->\n<g class=\"node\" id=\"node69\">\n<title>140441747750416</title>\n<polygon fill=\"none\" points=\"251,-2847.5 251,-2883.5 502,-2883.5 502,-2847.5 251,-2847.5\" stroke=\"#000000\"/>\n<text fill=\"#000000\" font-family=\"Times,serif\" font-size=\"14.00\" text-anchor=\"middle\" x=\"330\" y=\"-2861.8\">Encoder-8-FeedForward</text>\n<polyline fill=\"none\" points=\"409,-2847.5 409,-2883.5 \" stroke=\"#000000\"/>\n<text fill=\"#000000\" font-family=\"Times,serif\" font-size=\"14.00\" text-anchor=\"middle\" x=\"455.5\" y=\"-2861.8\">FeedForward</text>\n</g>\n<!-- 140441748199504&#45;&gt;140441747750416 -->\n<g class=\"edge\" id=\"edge83\">\n<title>140441748199504-&gt;140441747750416</title>\n<path d=\"M305.736,-2920.4551C317.5991,-2911.2422 332.2033,-2899.9006 345.0576,-2889.918\" fill=\"none\" stroke=\"#000000\"/>\n<polygon fill=\"#000000\" points=\"347.4543,-2892.4883 353.2056,-2883.5904 343.1607,-2886.9597 347.4543,-2892.4883\" stroke=\"#000000\"/>\n</g>\n<!-- 140441747393424 -->\n<g class=\"node\" id=\"node71\">\n<title>140441747393424</title>\n<polygon fill=\"none\" points=\"155.5,-2701.5 155.5,-2737.5 385.5,-2737.5 385.5,-2701.5 155.5,-2701.5\" stroke=\"#000000\"/>\n<text fill=\"#000000\" font-family=\"Times,serif\" font-size=\"14.00\" text-anchor=\"middle\" x=\"249.5\" y=\"-2715.8\">Encoder-8-FeedForward-Add</text>\n<polyline fill=\"none\" points=\"343.5,-2701.5 343.5,-2737.5 \" stroke=\"#000000\"/>\n<text fill=\"#000000\" font-family=\"Times,serif\" font-size=\"14.00\" text-anchor=\"middle\" x=\"364.5\" y=\"-2715.8\">Add</text>\n</g>\n<!-- 140441748199504&#45;&gt;140441747393424 -->\n<g class=\"edge\" id=\"edge85\">\n<title>140441748199504-&gt;140441747393424</title>\n<path d=\"M264.7811,-2920.433C256.1881,-2910.5118 246.6358,-2897.5013 241.5,-2884 224.0924,-2838.2375 221.7136,-2820.9805 235.5,-2774 238.367,-2764.23 243.5845,-2754.5532 249.1311,-2746.1259\" fill=\"none\" stroke=\"#000000\"/>\n<polygon fill=\"#000000\" points=\"252.0637,-2748.0399 254.9456,-2737.8446 246.3348,-2744.0175 252.0637,-2748.0399\" stroke=\"#000000\"/>\n</g>\n<!-- 140441746695568 -->\n<g class=\"node\" id=\"node70\">\n<title>140441746695568</title>\n<polygon fill=\"none\" points=\"244.5,-2774.5 244.5,-2810.5 520.5,-2810.5 520.5,-2774.5 244.5,-2774.5\" stroke=\"#000000\"/>\n<text fill=\"#000000\" font-family=\"Times,serif\" font-size=\"14.00\" text-anchor=\"middle\" x=\"350\" y=\"-2788.8\">Encoder-8-FeedForward-Dropout</text>\n<polyline fill=\"none\" points=\"455.5,-2774.5 455.5,-2810.5 \" stroke=\"#000000\"/>\n<text fill=\"#000000\" font-family=\"Times,serif\" font-size=\"14.00\" text-anchor=\"middle\" x=\"488\" y=\"-2788.8\">Dropout</text>\n</g>\n<!-- 140441747750416&#45;&gt;140441746695568 -->\n<g class=\"edge\" id=\"edge84\">\n<title>140441747750416-&gt;140441746695568</title>\n<path d=\"M377.9831,-2847.4551C378.6466,-2839.3828 379.4444,-2829.6764 380.1837,-2820.6817\" fill=\"none\" stroke=\"#000000\"/>\n<polygon fill=\"#000000\" points=\"383.6821,-2820.8435 381.0131,-2810.5904 376.7056,-2820.27 383.6821,-2820.8435\" stroke=\"#000000\"/>\n</g>\n<!-- 140441746695568&#45;&gt;140441747393424 -->\n<g class=\"edge\" id=\"edge86\">\n<title>140441746695568-&gt;140441747393424</title>\n<path d=\"M354.8146,-2774.4551C340.276,-2764.979 322.282,-2753.2508 306.6558,-2743.0658\" fill=\"none\" stroke=\"#000000\"/>\n<polygon fill=\"#000000\" points=\"308.5438,-2740.1186 298.2551,-2737.5904 304.7215,-2745.983 308.5438,-2740.1186\" stroke=\"#000000\"/>\n</g>\n<!-- 140441747831056 -->\n<g class=\"node\" id=\"node72\">\n<title>140441747831056</title>\n<polygon fill=\"none\" points=\"107,-2628.5 107,-2664.5 434,-2664.5 434,-2628.5 107,-2628.5\" stroke=\"#000000\"/>\n<text fill=\"#000000\" font-family=\"Times,serif\" font-size=\"14.00\" text-anchor=\"middle\" x=\"205\" y=\"-2642.8\">Encoder-8-FeedForward-Norm</text>\n<polyline fill=\"none\" points=\"303,-2628.5 303,-2664.5 \" stroke=\"#000000\"/>\n<text fill=\"#000000\" font-family=\"Times,serif\" font-size=\"14.00\" text-anchor=\"middle\" x=\"368.5\" y=\"-2642.8\">LayerNormalization</text>\n</g>\n<!-- 140441747393424&#45;&gt;140441747831056 -->\n<g class=\"edge\" id=\"edge87\">\n<title>140441747393424-&gt;140441747831056</title>\n<path d=\"M270.5,-2701.4551C270.5,-2693.3828 270.5,-2683.6764 270.5,-2674.6817\" fill=\"none\" stroke=\"#000000\"/>\n<polygon fill=\"#000000\" points=\"274.0001,-2674.5903 270.5,-2664.5904 267.0001,-2674.5904 274.0001,-2674.5903\" stroke=\"#000000\"/>\n</g>\n<!-- 140441765336400 -->\n<g class=\"node\" id=\"node73\">\n<title>140441765336400</title>\n<polygon fill=\"none\" points=\"159,-2555.5 159,-2591.5 510,-2591.5 510,-2555.5 159,-2555.5\" stroke=\"#000000\"/>\n<text fill=\"#000000\" font-family=\"Times,serif\" font-size=\"14.00\" text-anchor=\"middle\" x=\"268.5\" y=\"-2569.8\">Encoder-9-MultiHeadSelfAttention</text>\n<polyline fill=\"none\" points=\"378,-2555.5 378,-2591.5 \" stroke=\"#000000\"/>\n<text fill=\"#000000\" font-family=\"Times,serif\" font-size=\"14.00\" text-anchor=\"middle\" x=\"444\" y=\"-2569.8\">MultiHeadAttention</text>\n</g>\n<!-- 140441747831056&#45;&gt;140441765336400 -->\n<g class=\"edge\" id=\"edge88\">\n<title>140441747831056-&gt;140441765336400</title>\n<path d=\"M286.3202,-2628.4551C294.0126,-2619.6809 303.3978,-2608.9759 311.8344,-2599.353\" fill=\"none\" stroke=\"#000000\"/>\n<polygon fill=\"#000000\" points=\"314.6794,-2601.4171 318.64,-2591.5904 309.4158,-2596.8024 314.6794,-2601.4171\" stroke=\"#000000\"/>\n</g>\n<!-- 140441748234960 -->\n<g class=\"node\" id=\"node75\">\n<title>140441748234960</title>\n<polygon fill=\"none\" points=\"134,-2409.5 134,-2445.5 425,-2445.5 425,-2409.5 134,-2409.5\" stroke=\"#000000\"/>\n<text fill=\"#000000\" font-family=\"Times,serif\" font-size=\"14.00\" text-anchor=\"middle\" x=\"258.5\" y=\"-2423.8\">Encoder-9-MultiHeadSelfAttention-Add</text>\n<polyline fill=\"none\" points=\"383,-2409.5 383,-2445.5 \" stroke=\"#000000\"/>\n<text fill=\"#000000\" font-family=\"Times,serif\" font-size=\"14.00\" text-anchor=\"middle\" x=\"404\" y=\"-2423.8\">Add</text>\n</g>\n<!-- 140441747831056&#45;&gt;140441748234960 -->\n<g class=\"edge\" id=\"edge90\">\n<title>140441747831056-&gt;140441748234960</title>\n<path d=\"M195.8357,-2628.4744C177.6401,-2620.3862 160.3181,-2608.7374 149.5,-2592 140.2863,-2577.7448 138.9814,-2501.6228 152.5,-2482 162.1149,-2468.0435 176.0929,-2457.6395 191.2942,-2449.8902\" fill=\"none\" stroke=\"#000000\"/>\n<polygon fill=\"#000000\" points=\"192.8012,-2453.0493 200.3622,-2445.6275 189.8232,-2446.7143 192.8012,-2453.0493\" stroke=\"#000000\"/>\n</g>\n<!-- 140441746958096 -->\n<g class=\"node\" id=\"node74\">\n<title>140441746958096</title>\n<polygon fill=\"none\" points=\"162,-2482.5 162,-2518.5 499,-2518.5 499,-2482.5 162,-2482.5\" stroke=\"#000000\"/>\n<text fill=\"#000000\" font-family=\"Times,serif\" font-size=\"14.00\" text-anchor=\"middle\" x=\"298\" y=\"-2496.8\">Encoder-9-MultiHeadSelfAttention-Dropout</text>\n<polyline fill=\"none\" points=\"434,-2482.5 434,-2518.5 \" stroke=\"#000000\"/>\n<text fill=\"#000000\" font-family=\"Times,serif\" font-size=\"14.00\" text-anchor=\"middle\" x=\"466.5\" y=\"-2496.8\">Dropout</text>\n</g>\n<!-- 140441765336400&#45;&gt;140441746958096 -->\n<g class=\"edge\" id=\"edge89\">\n<title>140441765336400-&gt;140441746958096</title>\n<path d=\"M333.5112,-2555.4551C333.0689,-2547.3828 332.5371,-2537.6764 332.0442,-2528.6817\" fill=\"none\" stroke=\"#000000\"/>\n<polygon fill=\"#000000\" points=\"335.5332,-2528.3839 331.4913,-2518.5904 328.5437,-2528.7669 335.5332,-2528.3839\" stroke=\"#000000\"/>\n</g>\n<!-- 140441746958096&#45;&gt;140441748234960 -->\n<g class=\"edge\" id=\"edge91\">\n<title>140441746958096-&gt;140441748234960</title>\n<path d=\"M317.8933,-2482.4551C311.886,-2473.8564 304.5832,-2463.4034 297.9659,-2453.9316\" fill=\"none\" stroke=\"#000000\"/>\n<polygon fill=\"#000000\" points=\"300.7348,-2451.7835 292.1385,-2445.5904 294.9964,-2455.7925 300.7348,-2451.7835\" stroke=\"#000000\"/>\n</g>\n<!-- 140441746652752 -->\n<g class=\"node\" id=\"node76\">\n<title>140441746652752</title>\n<polygon fill=\"none\" points=\"85.5,-2336.5 85.5,-2372.5 473.5,-2372.5 473.5,-2336.5 85.5,-2336.5\" stroke=\"#000000\"/>\n<text fill=\"#000000\" font-family=\"Times,serif\" font-size=\"14.00\" text-anchor=\"middle\" x=\"214\" y=\"-2350.8\">Encoder-9-MultiHeadSelfAttention-Norm</text>\n<polyline fill=\"none\" points=\"342.5,-2336.5 342.5,-2372.5 \" stroke=\"#000000\"/>\n<text fill=\"#000000\" font-family=\"Times,serif\" font-size=\"14.00\" text-anchor=\"middle\" x=\"408\" y=\"-2350.8\">LayerNormalization</text>\n</g>\n<!-- 140441748234960&#45;&gt;140441746652752 -->\n<g class=\"edge\" id=\"edge92\">\n<title>140441748234960-&gt;140441746652752</title>\n<path d=\"M279.5,-2409.4551C279.5,-2401.3828 279.5,-2391.6764 279.5,-2382.6817\" fill=\"none\" stroke=\"#000000\"/>\n<polygon fill=\"#000000\" points=\"283.0001,-2382.5903 279.5,-2372.5904 276.0001,-2382.5904 283.0001,-2382.5903\" stroke=\"#000000\"/>\n</g>\n<!-- 140441746718608 -->\n<g class=\"node\" id=\"node77\">\n<title>140441746718608</title>\n<polygon fill=\"none\" points=\"245,-2263.5 245,-2299.5 496,-2299.5 496,-2263.5 245,-2263.5\" stroke=\"#000000\"/>\n<text fill=\"#000000\" font-family=\"Times,serif\" font-size=\"14.00\" text-anchor=\"middle\" x=\"324\" y=\"-2277.8\">Encoder-9-FeedForward</text>\n<polyline fill=\"none\" points=\"403,-2263.5 403,-2299.5 \" stroke=\"#000000\"/>\n<text fill=\"#000000\" font-family=\"Times,serif\" font-size=\"14.00\" text-anchor=\"middle\" x=\"449.5\" y=\"-2277.8\">FeedForward</text>\n</g>\n<!-- 140441746652752&#45;&gt;140441746718608 -->\n<g class=\"edge\" id=\"edge93\">\n<title>140441746652752-&gt;140441746718608</title>\n<path d=\"M301.9944,-2336.4551C313.4789,-2327.2422 327.617,-2315.9006 340.0611,-2305.918\" fill=\"none\" stroke=\"#000000\"/>\n<polygon fill=\"#000000\" points=\"342.3388,-2308.5779 347.949,-2299.5904 337.9586,-2303.1177 342.3388,-2308.5779\" stroke=\"#000000\"/>\n</g>\n<!-- 140441746017936 -->\n<g class=\"node\" id=\"node79\">\n<title>140441746017936</title>\n<polygon fill=\"none\" points=\"126.5,-2117.5 126.5,-2153.5 356.5,-2153.5 356.5,-2117.5 126.5,-2117.5\" stroke=\"#000000\"/>\n<text fill=\"#000000\" font-family=\"Times,serif\" font-size=\"14.00\" text-anchor=\"middle\" x=\"220.5\" y=\"-2131.8\">Encoder-9-FeedForward-Add</text>\n<polyline fill=\"none\" points=\"314.5,-2117.5 314.5,-2153.5 \" stroke=\"#000000\"/>\n<text fill=\"#000000\" font-family=\"Times,serif\" font-size=\"14.00\" text-anchor=\"middle\" x=\"335.5\" y=\"-2131.8\">Add</text>\n</g>\n<!-- 140441746652752&#45;&gt;140441746017936 -->\n<g class=\"edge\" id=\"edge95\">\n<title>140441746652752-&gt;140441746017936</title>\n<path d=\"M260.0299,-2336.1698C250.9277,-2326.3703 240.9209,-2313.5484 235.5,-2300 217.4906,-2254.9893 225.9841,-2197.3974 233.7639,-2163.6633\" fill=\"none\" stroke=\"#000000\"/>\n<polygon fill=\"#000000\" points=\"237.2504,-2164.1408 236.2303,-2153.5952 230.4514,-2162.4752 237.2504,-2164.1408\" stroke=\"#000000\"/>\n</g>\n<!-- 140441745702288 -->\n<g class=\"node\" id=\"node78\">\n<title>140441745702288</title>\n<polygon fill=\"none\" points=\"238.5,-2190.5 238.5,-2226.5 514.5,-2226.5 514.5,-2190.5 238.5,-2190.5\" stroke=\"#000000\"/>\n<text fill=\"#000000\" font-family=\"Times,serif\" font-size=\"14.00\" text-anchor=\"middle\" x=\"344\" y=\"-2204.8\">Encoder-9-FeedForward-Dropout</text>\n<polyline fill=\"none\" points=\"449.5,-2190.5 449.5,-2226.5 \" stroke=\"#000000\"/>\n<text fill=\"#000000\" font-family=\"Times,serif\" font-size=\"14.00\" text-anchor=\"middle\" x=\"482\" y=\"-2204.8\">Dropout</text>\n</g>\n<!-- 140441746718608&#45;&gt;140441745702288 -->\n<g class=\"edge\" id=\"edge94\">\n<title>140441746718608-&gt;140441745702288</title>\n<path d=\"M371.9831,-2263.4551C372.6466,-2255.3828 373.4444,-2245.6764 374.1837,-2236.6817\" fill=\"none\" stroke=\"#000000\"/>\n<polygon fill=\"#000000\" points=\"377.6821,-2236.8435 375.0131,-2226.5904 370.7056,-2236.27 377.6821,-2236.8435\" stroke=\"#000000\"/>\n</g>\n<!-- 140441745702288&#45;&gt;140441746017936 -->\n<g class=\"edge\" id=\"edge96\">\n<title>140441745702288-&gt;140441746017936</title>\n<path d=\"M343.1292,-2190.4551C325.1993,-2180.7596 302.9095,-2168.7066 283.7773,-2158.361\" fill=\"none\" stroke=\"#000000\"/>\n<polygon fill=\"#000000\" points=\"285.4159,-2155.2682 274.9548,-2153.5904 282.0863,-2161.4257 285.4159,-2155.2682\" stroke=\"#000000\"/>\n</g>\n<!-- 140441746803920 -->\n<g class=\"node\" id=\"node80\">\n<title>140441746803920</title>\n<polygon fill=\"none\" points=\"78,-2044.5 78,-2080.5 405,-2080.5 405,-2044.5 78,-2044.5\" stroke=\"#000000\"/>\n<text fill=\"#000000\" font-family=\"Times,serif\" font-size=\"14.00\" text-anchor=\"middle\" x=\"176\" y=\"-2058.8\">Encoder-9-FeedForward-Norm</text>\n<polyline fill=\"none\" points=\"274,-2044.5 274,-2080.5 \" stroke=\"#000000\"/>\n<text fill=\"#000000\" font-family=\"Times,serif\" font-size=\"14.00\" text-anchor=\"middle\" x=\"339.5\" y=\"-2058.8\">LayerNormalization</text>\n</g>\n<!-- 140441746017936&#45;&gt;140441746803920 -->\n<g class=\"edge\" id=\"edge97\">\n<title>140441746017936-&gt;140441746803920</title>\n<path d=\"M241.5,-2117.4551C241.5,-2109.3828 241.5,-2099.6764 241.5,-2090.6817\" fill=\"none\" stroke=\"#000000\"/>\n<polygon fill=\"#000000\" points=\"245.0001,-2090.5903 241.5,-2080.5904 238.0001,-2090.5904 245.0001,-2090.5903\" stroke=\"#000000\"/>\n</g>\n<!-- 140441746616848 -->\n<g class=\"node\" id=\"node81\">\n<title>140441746616848</title>\n<polygon fill=\"none\" points=\"121,-1971.5 121,-2007.5 480,-2007.5 480,-1971.5 121,-1971.5\" stroke=\"#000000\"/>\n<text fill=\"#000000\" font-family=\"Times,serif\" font-size=\"14.00\" text-anchor=\"middle\" x=\"234.5\" y=\"-1985.8\">Encoder-10-MultiHeadSelfAttention</text>\n<polyline fill=\"none\" points=\"348,-1971.5 348,-2007.5 \" stroke=\"#000000\"/>\n<text fill=\"#000000\" font-family=\"Times,serif\" font-size=\"14.00\" text-anchor=\"middle\" x=\"414\" y=\"-1985.8\">MultiHeadAttention</text>\n</g>\n<!-- 140441746803920&#45;&gt;140441746616848 -->\n<g class=\"edge\" id=\"edge98\">\n<title>140441746803920-&gt;140441746616848</title>\n<path d=\"M256.0843,-2044.4551C263.1048,-2035.7686 271.6548,-2025.1898 279.3715,-2015.642\" fill=\"none\" stroke=\"#000000\"/>\n<polygon fill=\"#000000\" points=\"282.3152,-2017.5678 285.879,-2007.5904 276.871,-2013.1677 282.3152,-2017.5678\" stroke=\"#000000\"/>\n</g>\n<!-- 140441747641296 -->\n<g class=\"node\" id=\"node83\">\n<title>140441747641296</title>\n<polygon fill=\"none\" points=\"64,-1825.5 64,-1861.5 363,-1861.5 363,-1825.5 64,-1825.5\" stroke=\"#000000\"/>\n<text fill=\"#000000\" font-family=\"Times,serif\" font-size=\"14.00\" text-anchor=\"middle\" x=\"192.5\" y=\"-1839.8\">Encoder-10-MultiHeadSelfAttention-Add</text>\n<polyline fill=\"none\" points=\"321,-1825.5 321,-1861.5 \" stroke=\"#000000\"/>\n<text fill=\"#000000\" font-family=\"Times,serif\" font-size=\"14.00\" text-anchor=\"middle\" x=\"342\" y=\"-1839.8\">Add</text>\n</g>\n<!-- 140441746803920&#45;&gt;140441747641296 -->\n<g class=\"edge\" id=\"edge100\">\n<title>140441746803920-&gt;140441747641296</title>\n<path d=\"M158.7086,-2044.4975C140.1566,-2036.4471 122.681,-2024.8112 111.5,-2008 102.517,-1994.4935 101.437,-1919.1013 114.5,-1898 122.7597,-1884.6577 135.5216,-1874.3327 149.1663,-1866.4419\" fill=\"none\" stroke=\"#000000\"/>\n<polygon fill=\"#000000\" points=\"151.0531,-1869.402 158.2218,-1861.6007 147.7528,-1863.2288 151.0531,-1869.402\" stroke=\"#000000\"/>\n</g>\n<!-- 140441745437968 -->\n<g class=\"node\" id=\"node82\">\n<title>140441745437968</title>\n<polygon fill=\"none\" points=\"124,-1898.5 124,-1934.5 469,-1934.5 469,-1898.5 124,-1898.5\" stroke=\"#000000\"/>\n<text fill=\"#000000\" font-family=\"Times,serif\" font-size=\"14.00\" text-anchor=\"middle\" x=\"264\" y=\"-1912.8\">Encoder-10-MultiHeadSelfAttention-Dropout</text>\n<polyline fill=\"none\" points=\"404,-1898.5 404,-1934.5 \" stroke=\"#000000\"/>\n<text fill=\"#000000\" font-family=\"Times,serif\" font-size=\"14.00\" text-anchor=\"middle\" x=\"436.5\" y=\"-1912.8\">Dropout</text>\n</g>\n<!-- 140441746616848&#45;&gt;140441745437968 -->\n<g class=\"edge\" id=\"edge99\">\n<title>140441746616848-&gt;140441745437968</title>\n<path d=\"M299.5112,-1971.4551C299.0689,-1963.3828 298.5371,-1953.6764 298.0442,-1944.6817\" fill=\"none\" stroke=\"#000000\"/>\n<polygon fill=\"#000000\" points=\"301.5332,-1944.3839 297.4913,-1934.5904 294.5437,-1944.7669 301.5332,-1944.3839\" stroke=\"#000000\"/>\n</g>\n<!-- 140441745437968&#45;&gt;140441747641296 -->\n<g class=\"edge\" id=\"edge101\">\n<title>140441745437968-&gt;140441747641296</title>\n<path d=\"M275.9831,-1898.4551C265.608,-1889.3299 252.8584,-1878.1165 241.5877,-1868.2036\" fill=\"none\" stroke=\"#000000\"/>\n<polygon fill=\"#000000\" points=\"243.8889,-1865.5665 234.0685,-1861.5904 239.2659,-1870.8228 243.8889,-1865.5665\" stroke=\"#000000\"/>\n</g>\n<!-- 140441745667536 -->\n<g class=\"node\" id=\"node84\">\n<title>140441745667536</title>\n<polygon fill=\"none\" points=\"15.5,-1752.5 15.5,-1788.5 411.5,-1788.5 411.5,-1752.5 15.5,-1752.5\" stroke=\"#000000\"/>\n<text fill=\"#000000\" font-family=\"Times,serif\" font-size=\"14.00\" text-anchor=\"middle\" x=\"148\" y=\"-1766.8\">Encoder-10-MultiHeadSelfAttention-Norm</text>\n<polyline fill=\"none\" points=\"280.5,-1752.5 280.5,-1788.5 \" stroke=\"#000000\"/>\n<text fill=\"#000000\" font-family=\"Times,serif\" font-size=\"14.00\" text-anchor=\"middle\" x=\"346\" y=\"-1766.8\">LayerNormalization</text>\n</g>\n<!-- 140441747641296&#45;&gt;140441745667536 -->\n<g class=\"edge\" id=\"edge102\">\n<title>140441747641296-&gt;140441745667536</title>\n<path d=\"M213.5,-1825.4551C213.5,-1817.3828 213.5,-1807.6764 213.5,-1798.6817\" fill=\"none\" stroke=\"#000000\"/>\n<polygon fill=\"#000000\" points=\"217.0001,-1798.5903 213.5,-1788.5904 210.0001,-1798.5904 217.0001,-1798.5903\" stroke=\"#000000\"/>\n</g>\n<!-- 140441744661968 -->\n<g class=\"node\" id=\"node85\">\n<title>140441744661968</title>\n<polygon fill=\"none\" points=\"163.5,-1679.5 163.5,-1715.5 421.5,-1715.5 421.5,-1679.5 163.5,-1679.5\" stroke=\"#000000\"/>\n<text fill=\"#000000\" font-family=\"Times,serif\" font-size=\"14.00\" text-anchor=\"middle\" x=\"246\" y=\"-1693.8\">Encoder-10-FeedForward</text>\n<polyline fill=\"none\" points=\"328.5,-1679.5 328.5,-1715.5 \" stroke=\"#000000\"/>\n<text fill=\"#000000\" font-family=\"Times,serif\" font-size=\"14.00\" text-anchor=\"middle\" x=\"375\" y=\"-1693.8\">FeedForward</text>\n</g>\n<!-- 140441745667536&#45;&gt;140441744661968 -->\n<g class=\"edge\" id=\"edge103\">\n<title>140441745667536-&gt;140441744661968</title>\n<path d=\"M233.0281,-1752.4551C242.8083,-1743.4177 254.8052,-1732.3319 265.4561,-1722.4899\" fill=\"none\" stroke=\"#000000\"/>\n<polygon fill=\"#000000\" points=\"267.9536,-1724.9476 272.9228,-1715.5904 263.2029,-1719.8065 267.9536,-1724.9476\" stroke=\"#000000\"/>\n</g>\n<!-- 140441754427536 -->\n<g class=\"node\" id=\"node87\">\n<title>140441754427536</title>\n<polygon fill=\"none\" points=\"53,-1533.5 53,-1569.5 290,-1569.5 290,-1533.5 53,-1533.5\" stroke=\"#000000\"/>\n<text fill=\"#000000\" font-family=\"Times,serif\" font-size=\"14.00\" text-anchor=\"middle\" x=\"150.5\" y=\"-1547.8\">Encoder-10-FeedForward-Add</text>\n<polyline fill=\"none\" points=\"248,-1533.5 248,-1569.5 \" stroke=\"#000000\"/>\n<text fill=\"#000000\" font-family=\"Times,serif\" font-size=\"14.00\" text-anchor=\"middle\" x=\"269\" y=\"-1547.8\">Add</text>\n</g>\n<!-- 140441745667536&#45;&gt;140441754427536 -->\n<g class=\"edge\" id=\"edge105\">\n<title>140441745667536-&gt;140441754427536</title>\n<path d=\"M186.3108,-1752.4315C174.4733,-1743.0405 161.6856,-1730.4919 154.5,-1716 132.7383,-1672.1112 137.4123,-1653.9379 147.5,-1606 149.449,-1596.7382 153.0732,-1587.131 156.9253,-1578.6098\" fill=\"none\" stroke=\"#000000\"/>\n<polygon fill=\"#000000\" points=\"160.1135,-1580.0558 161.294,-1569.5269 153.8053,-1577.0216 160.1135,-1580.0558\" stroke=\"#000000\"/>\n</g>\n<!-- 140441755660368 -->\n<g class=\"node\" id=\"node86\">\n<title>140441755660368</title>\n<polygon fill=\"none\" points=\"157,-1606.5 157,-1642.5 440,-1642.5 440,-1606.5 157,-1606.5\" stroke=\"#000000\"/>\n<text fill=\"#000000\" font-family=\"Times,serif\" font-size=\"14.00\" text-anchor=\"middle\" x=\"266\" y=\"-1620.8\">Encoder-10-FeedForward-Dropout</text>\n<polyline fill=\"none\" points=\"375,-1606.5 375,-1642.5 \" stroke=\"#000000\"/>\n<text fill=\"#000000\" font-family=\"Times,serif\" font-size=\"14.00\" text-anchor=\"middle\" x=\"407.5\" y=\"-1620.8\">Dropout</text>\n</g>\n<!-- 140441744661968&#45;&gt;140441755660368 -->\n<g class=\"edge\" id=\"edge104\">\n<title>140441744661968-&gt;140441755660368</title>\n<path d=\"M293.9831,-1679.4551C294.6466,-1671.3828 295.4444,-1661.6764 296.1837,-1652.6817\" fill=\"none\" stroke=\"#000000\"/>\n<polygon fill=\"#000000\" points=\"299.6821,-1652.8435 297.0131,-1642.5904 292.7056,-1652.27 299.6821,-1652.8435\" stroke=\"#000000\"/>\n</g>\n<!-- 140441755660368&#45;&gt;140441754427536 -->\n<g class=\"edge\" id=\"edge106\">\n<title>140441755660368-&gt;140441754427536</title>\n<path d=\"M267.1067,-1606.4551C250.4683,-1596.8912 229.8389,-1585.0334 212.0066,-1574.7833\" fill=\"none\" stroke=\"#000000\"/>\n<polygon fill=\"#000000\" points=\"213.3863,-1571.5394 202.9723,-1569.5904 209.8979,-1577.6083 213.3863,-1571.5394\" stroke=\"#000000\"/>\n</g>\n<!-- 140441756494224 -->\n<g class=\"node\" id=\"node88\">\n<title>140441756494224</title>\n<polygon fill=\"none\" points=\"4.5,-1460.5 4.5,-1496.5 338.5,-1496.5 338.5,-1460.5 4.5,-1460.5\" stroke=\"#000000\"/>\n<text fill=\"#000000\" font-family=\"Times,serif\" font-size=\"14.00\" text-anchor=\"middle\" x=\"106\" y=\"-1474.8\">Encoder-10-FeedForward-Norm</text>\n<polyline fill=\"none\" points=\"207.5,-1460.5 207.5,-1496.5 \" stroke=\"#000000\"/>\n<text fill=\"#000000\" font-family=\"Times,serif\" font-size=\"14.00\" text-anchor=\"middle\" x=\"273\" y=\"-1474.8\">LayerNormalization</text>\n</g>\n<!-- 140441754427536&#45;&gt;140441756494224 -->\n<g class=\"edge\" id=\"edge107\">\n<title>140441754427536-&gt;140441756494224</title>\n<path d=\"M171.5,-1533.4551C171.5,-1525.3828 171.5,-1515.6764 171.5,-1506.6817\" fill=\"none\" stroke=\"#000000\"/>\n<polygon fill=\"#000000\" points=\"175.0001,-1506.5903 171.5,-1496.5904 168.0001,-1506.5904 175.0001,-1506.5903\" stroke=\"#000000\"/>\n</g>\n<!-- 140441754245264 -->\n<g class=\"node\" id=\"node89\">\n<title>140441754245264</title>\n<polygon fill=\"none\" points=\"141.5,-1387.5 141.5,-1423.5 499.5,-1423.5 499.5,-1387.5 141.5,-1387.5\" stroke=\"#000000\"/>\n<text fill=\"#000000\" font-family=\"Times,serif\" font-size=\"14.00\" text-anchor=\"middle\" x=\"254.5\" y=\"-1401.8\">Encoder-11-MultiHeadSelfAttention</text>\n<polyline fill=\"none\" points=\"367.5,-1387.5 367.5,-1423.5 \" stroke=\"#000000\"/>\n<text fill=\"#000000\" font-family=\"Times,serif\" font-size=\"14.00\" text-anchor=\"middle\" x=\"433.5\" y=\"-1401.8\">MultiHeadAttention</text>\n</g>\n<!-- 140441756494224&#45;&gt;140441754245264 -->\n<g class=\"edge\" id=\"edge108\">\n<title>140441756494224-&gt;140441754245264</title>\n<path d=\"M208.3315,-1460.4551C228.2999,-1450.6719 253.1678,-1438.4883 274.4108,-1428.0806\" fill=\"none\" stroke=\"#000000\"/>\n<polygon fill=\"#000000\" points=\"276.1356,-1431.1331 283.5758,-1423.5904 273.0558,-1424.847 276.1356,-1431.1331\" stroke=\"#000000\"/>\n</g>\n<!-- 140441756246544 -->\n<g class=\"node\" id=\"node91\">\n<title>140441756246544</title>\n<polygon fill=\"none\" points=\"48.5,-1241.5 48.5,-1277.5 346.5,-1277.5 346.5,-1241.5 48.5,-1241.5\" stroke=\"#000000\"/>\n<text fill=\"#000000\" font-family=\"Times,serif\" font-size=\"14.00\" text-anchor=\"middle\" x=\"176.5\" y=\"-1255.8\">Encoder-11-MultiHeadSelfAttention-Add</text>\n<polyline fill=\"none\" points=\"304.5,-1241.5 304.5,-1277.5 \" stroke=\"#000000\"/>\n<text fill=\"#000000\" font-family=\"Times,serif\" font-size=\"14.00\" text-anchor=\"middle\" x=\"325.5\" y=\"-1255.8\">Add</text>\n</g>\n<!-- 140441756494224&#45;&gt;140441756246544 -->\n<g class=\"edge\" id=\"edge110\">\n<title>140441756494224-&gt;140441756246544</title>\n<path d=\"M154.1953,-1460.4446C145.8984,-1450.5266 136.8377,-1437.5155 132.5,-1424 126.5685,-1405.5186 131.0128,-1325.4124 136.5,-1314 141.9807,-1302.601 151.0311,-1292.5371 160.504,-1284.2589\" fill=\"none\" stroke=\"#000000\"/>\n<polygon fill=\"#000000\" points=\"162.9604,-1286.7717 168.4915,-1277.7352 158.5324,-1281.3501 162.9604,-1286.7717\" stroke=\"#000000\"/>\n</g>\n<!-- 140441750755856 -->\n<g class=\"node\" id=\"node90\">\n<title>140441750755856</title>\n<polygon fill=\"none\" points=\"145.5,-1314.5 145.5,-1350.5 489.5,-1350.5 489.5,-1314.5 145.5,-1314.5\" stroke=\"#000000\"/>\n<text fill=\"#000000\" font-family=\"Times,serif\" font-size=\"14.00\" text-anchor=\"middle\" x=\"285\" y=\"-1328.8\">Encoder-11-MultiHeadSelfAttention-Dropout</text>\n<polyline fill=\"none\" points=\"424.5,-1314.5 424.5,-1350.5 \" stroke=\"#000000\"/>\n<text fill=\"#000000\" font-family=\"Times,serif\" font-size=\"14.00\" text-anchor=\"middle\" x=\"457\" y=\"-1328.8\">Dropout</text>\n</g>\n<!-- 140441754245264&#45;&gt;140441750755856 -->\n<g class=\"edge\" id=\"edge109\">\n<title>140441754245264-&gt;140441750755856</title>\n<path d=\"M319.7584,-1387.4551C319.4267,-1379.3828 319.0278,-1369.6764 318.6582,-1360.6817\" fill=\"none\" stroke=\"#000000\"/>\n<polygon fill=\"#000000\" points=\"322.1512,-1360.4382 318.2434,-1350.5904 315.1571,-1360.7257 322.1512,-1360.4382\" stroke=\"#000000\"/>\n</g>\n<!-- 140441750755856&#45;&gt;140441756246544 -->\n<g class=\"edge\" id=\"edge111\">\n<title>140441750755856-&gt;140441756246544</title>\n<path d=\"M287.8371,-1314.4551C272.26,-1304.979 252.9807,-1293.2508 236.2383,-1283.0658\" fill=\"none\" stroke=\"#000000\"/>\n<polygon fill=\"#000000\" points=\"237.6,-1279.7974 227.2376,-1277.5904 233.9619,-1285.7778 237.6,-1279.7974\" stroke=\"#000000\"/>\n</g>\n<!-- 140441753960976 -->\n<g class=\"node\" id=\"node92\">\n<title>140441753960976</title>\n<polygon fill=\"none\" points=\"0,-1168.5 0,-1204.5 395,-1204.5 395,-1168.5 0,-1168.5\" stroke=\"#000000\"/>\n<text fill=\"#000000\" font-family=\"Times,serif\" font-size=\"14.00\" text-anchor=\"middle\" x=\"132\" y=\"-1182.8\">Encoder-11-MultiHeadSelfAttention-Norm</text>\n<polyline fill=\"none\" points=\"264,-1168.5 264,-1204.5 \" stroke=\"#000000\"/>\n<text fill=\"#000000\" font-family=\"Times,serif\" font-size=\"14.00\" text-anchor=\"middle\" x=\"329.5\" y=\"-1182.8\">LayerNormalization</text>\n</g>\n<!-- 140441756246544&#45;&gt;140441753960976 -->\n<g class=\"edge\" id=\"edge112\">\n<title>140441756246544-&gt;140441753960976</title>\n<path d=\"M197.5,-1241.4551C197.5,-1233.3828 197.5,-1223.6764 197.5,-1214.6817\" fill=\"none\" stroke=\"#000000\"/>\n<polygon fill=\"#000000\" points=\"201.0001,-1214.5903 197.5,-1204.5904 194.0001,-1214.5904 201.0001,-1214.5903\" stroke=\"#000000\"/>\n</g>\n<!-- 140441754267792 -->\n<g class=\"node\" id=\"node93\">\n<title>140441754267792</title>\n<polygon fill=\"none\" points=\"146,-1095.5 146,-1131.5 403,-1131.5 403,-1095.5 146,-1095.5\" stroke=\"#000000\"/>\n<text fill=\"#000000\" font-family=\"Times,serif\" font-size=\"14.00\" text-anchor=\"middle\" x=\"228\" y=\"-1109.8\">Encoder-11-FeedForward</text>\n<polyline fill=\"none\" points=\"310,-1095.5 310,-1131.5 \" stroke=\"#000000\"/>\n<text fill=\"#000000\" font-family=\"Times,serif\" font-size=\"14.00\" text-anchor=\"middle\" x=\"356.5\" y=\"-1109.8\">FeedForward</text>\n</g>\n<!-- 140441753960976&#45;&gt;140441754267792 -->\n<g class=\"edge\" id=\"edge113\">\n<title>140441753960976-&gt;140441754267792</title>\n<path d=\"M216.5337,-1168.4551C226.0663,-1159.4177 237.7595,-1148.3319 248.1408,-1138.4899\" fill=\"none\" stroke=\"#000000\"/>\n<polygon fill=\"#000000\" points=\"250.5693,-1141.0104 255.4184,-1131.5904 245.7533,-1135.9305 250.5693,-1141.0104\" stroke=\"#000000\"/>\n</g>\n<!-- 140441743932688 -->\n<g class=\"node\" id=\"node95\">\n<title>140441743932688</title>\n<polygon fill=\"none\" points=\"55.5,-949.5 55.5,-985.5 291.5,-985.5 291.5,-949.5 55.5,-949.5\" stroke=\"#000000\"/>\n<text fill=\"#000000\" font-family=\"Times,serif\" font-size=\"14.00\" text-anchor=\"middle\" x=\"152.5\" y=\"-963.8\">Encoder-11-FeedForward-Add</text>\n<polyline fill=\"none\" points=\"249.5,-949.5 249.5,-985.5 \" stroke=\"#000000\"/>\n<text fill=\"#000000\" font-family=\"Times,serif\" font-size=\"14.00\" text-anchor=\"middle\" x=\"270.5\" y=\"-963.8\">Add</text>\n</g>\n<!-- 140441753960976&#45;&gt;140441743932688 -->\n<g class=\"edge\" id=\"edge115\">\n<title>140441753960976-&gt;140441743932688</title>\n<path d=\"M169.0823,-1168.3737C156.9349,-1159.0489 143.8761,-1146.571 136.5,-1132 114.375,-1088.2932 113.1817,-1068.19 129.5,-1022 133.1837,-1011.5731 139.8024,-1001.6769 146.8062,-993.2501\" fill=\"none\" stroke=\"#000000\"/>\n<polygon fill=\"#000000\" points=\"149.5313,-995.4524 153.5559,-985.6517 144.2979,-990.8036 149.5313,-995.4524\" stroke=\"#000000\"/>\n</g>\n<!-- 140441743871440 -->\n<g class=\"node\" id=\"node94\">\n<title>140441743871440</title>\n<polygon fill=\"none\" points=\"139,-1022.5 139,-1058.5 422,-1058.5 422,-1022.5 139,-1022.5\" stroke=\"#000000\"/>\n<text fill=\"#000000\" font-family=\"Times,serif\" font-size=\"14.00\" text-anchor=\"middle\" x=\"248\" y=\"-1036.8\">Encoder-11-FeedForward-Dropout</text>\n<polyline fill=\"none\" points=\"357,-1022.5 357,-1058.5 \" stroke=\"#000000\"/>\n<text fill=\"#000000\" font-family=\"Times,serif\" font-size=\"14.00\" text-anchor=\"middle\" x=\"389.5\" y=\"-1036.8\">Dropout</text>\n</g>\n<!-- 140441754267792&#45;&gt;140441743871440 -->\n<g class=\"edge\" id=\"edge114\">\n<title>140441754267792-&gt;140441743871440</title>\n<path d=\"M275.9831,-1095.4551C276.6466,-1087.3828 277.4444,-1077.6764 278.1837,-1068.6817\" fill=\"none\" stroke=\"#000000\"/>\n<polygon fill=\"#000000\" points=\"281.6821,-1068.8435 279.0131,-1058.5904 274.7056,-1068.27 281.6821,-1068.8435\" stroke=\"#000000\"/>\n</g>\n<!-- 140441743871440&#45;&gt;140441743932688 -->\n<g class=\"edge\" id=\"edge116\">\n<title>140441743871440-&gt;140441743932688</title>\n<path d=\"M254.0506,-1022.4551C240.2896,-1013.0667 223.2884,-1001.4678 208.4569,-991.3491\" fill=\"none\" stroke=\"#000000\"/>\n<polygon fill=\"#000000\" points=\"210.2492,-988.3349 200.016,-985.5904 206.3041,-994.1174 210.2492,-988.3349\" stroke=\"#000000\"/>\n</g>\n<!-- 140441743932880 -->\n<g class=\"node\" id=\"node96\">\n<title>140441743932880</title>\n<polygon fill=\"none\" points=\"6.5,-876.5 6.5,-912.5 340.5,-912.5 340.5,-876.5 6.5,-876.5\" stroke=\"#000000\"/>\n<text fill=\"#000000\" font-family=\"Times,serif\" font-size=\"14.00\" text-anchor=\"middle\" x=\"108\" y=\"-890.8\">Encoder-11-FeedForward-Norm</text>\n<polyline fill=\"none\" points=\"209.5,-876.5 209.5,-912.5 \" stroke=\"#000000\"/>\n<text fill=\"#000000\" font-family=\"Times,serif\" font-size=\"14.00\" text-anchor=\"middle\" x=\"275\" y=\"-890.8\">LayerNormalization</text>\n</g>\n<!-- 140441743932688&#45;&gt;140441743932880 -->\n<g class=\"edge\" id=\"edge117\">\n<title>140441743932688-&gt;140441743932880</title>\n<path d=\"M173.5,-949.4551C173.5,-941.3828 173.5,-931.6764 173.5,-922.6817\" fill=\"none\" stroke=\"#000000\"/>\n<polygon fill=\"#000000\" points=\"177.0001,-922.5903 173.5,-912.5904 170.0001,-922.5904 177.0001,-922.5903\" stroke=\"#000000\"/>\n</g>\n<!-- 140441743848976 -->\n<g class=\"node\" id=\"node97\">\n<title>140441743848976</title>\n<polygon fill=\"none\" points=\"149,-803.5 149,-839.5 508,-839.5 508,-803.5 149,-803.5\" stroke=\"#000000\"/>\n<text fill=\"#000000\" font-family=\"Times,serif\" font-size=\"14.00\" text-anchor=\"middle\" x=\"262.5\" y=\"-817.8\">Encoder-12-MultiHeadSelfAttention</text>\n<polyline fill=\"none\" points=\"376,-803.5 376,-839.5 \" stroke=\"#000000\"/>\n<text fill=\"#000000\" font-family=\"Times,serif\" font-size=\"14.00\" text-anchor=\"middle\" x=\"442\" y=\"-817.8\">MultiHeadAttention</text>\n</g>\n<!-- 140441743932880&#45;&gt;140441743848976 -->\n<g class=\"edge\" id=\"edge118\">\n<title>140441743932880-&gt;140441743848976</title>\n<path d=\"M211.8146,-876.4551C232.6803,-866.628 258.6885,-854.3789 280.852,-843.9407\" fill=\"none\" stroke=\"#000000\"/>\n<polygon fill=\"#000000\" points=\"282.5334,-847.0176 290.089,-839.5904 279.5508,-840.6848 282.5334,-847.0176\" stroke=\"#000000\"/>\n</g>\n<!-- 140441743584080 -->\n<g class=\"node\" id=\"node99\">\n<title>140441743584080</title>\n<polygon fill=\"none\" points=\"141,-657.5 141,-693.5 440,-693.5 440,-657.5 141,-657.5\" stroke=\"#000000\"/>\n<text fill=\"#000000\" font-family=\"Times,serif\" font-size=\"14.00\" text-anchor=\"middle\" x=\"269.5\" y=\"-671.8\">Encoder-12-MultiHeadSelfAttention-Add</text>\n<polyline fill=\"none\" points=\"398,-657.5 398,-693.5 \" stroke=\"#000000\"/>\n<text fill=\"#000000\" font-family=\"Times,serif\" font-size=\"14.00\" text-anchor=\"middle\" x=\"419\" y=\"-671.8\">Add</text>\n</g>\n<!-- 140441743932880&#45;&gt;140441743584080 -->\n<g class=\"edge\" id=\"edge120\">\n<title>140441743932880-&gt;140441743584080</title>\n<path d=\"M158.3841,-876.0865C151.1428,-866.0705 143.2454,-853.0798 139.5,-840 133.8592,-820.3011 136.0367,-738.8735 142.5,-730 151.3734,-717.8176 179.9834,-706.0345 209.7148,-696.56\" fill=\"none\" stroke=\"#000000\"/>\n<polygon fill=\"#000000\" points=\"210.8656,-699.8677 219.3836,-693.5674 208.7958,-693.1807 210.8656,-699.8677\" stroke=\"#000000\"/>\n</g>\n<!-- 140441753877008 -->\n<g class=\"node\" id=\"node98\">\n<title>140441753877008</title>\n<polygon fill=\"none\" points=\"152,-730.5 152,-766.5 497,-766.5 497,-730.5 152,-730.5\" stroke=\"#000000\"/>\n<text fill=\"#000000\" font-family=\"Times,serif\" font-size=\"14.00\" text-anchor=\"middle\" x=\"292\" y=\"-744.8\">Encoder-12-MultiHeadSelfAttention-Dropout</text>\n<polyline fill=\"none\" points=\"432,-730.5 432,-766.5 \" stroke=\"#000000\"/>\n<text fill=\"#000000\" font-family=\"Times,serif\" font-size=\"14.00\" text-anchor=\"middle\" x=\"464.5\" y=\"-744.8\">Dropout</text>\n</g>\n<!-- 140441743848976&#45;&gt;140441753877008 -->\n<g class=\"edge\" id=\"edge119\">\n<title>140441743848976-&gt;140441753877008</title>\n<path d=\"M327.5112,-803.4551C327.0689,-795.3828 326.5371,-785.6764 326.0442,-776.6817\" fill=\"none\" stroke=\"#000000\"/>\n<polygon fill=\"#000000\" points=\"329.5332,-776.3839 325.4913,-766.5904 322.5437,-776.7669 329.5332,-776.3839\" stroke=\"#000000\"/>\n</g>\n<!-- 140441753877008&#45;&gt;140441743584080 -->\n<g class=\"edge\" id=\"edge121\">\n<title>140441753877008-&gt;140441743584080</title>\n<path d=\"M316.0955,-730.4551C312.2132,-722.1196 307.5194,-712.0416 303.217,-702.8042\" fill=\"none\" stroke=\"#000000\"/>\n<polygon fill=\"#000000\" points=\"306.3205,-701.1776 298.9256,-693.5904 299.975,-704.1331 306.3205,-701.1776\" stroke=\"#000000\"/>\n</g>\n<!-- 140441743759952 -->\n<g class=\"node\" id=\"node100\">\n<title>140441743759952</title>\n<polygon fill=\"none\" points=\"92.5,-584.5 92.5,-620.5 488.5,-620.5 488.5,-584.5 92.5,-584.5\" stroke=\"#000000\"/>\n<text fill=\"#000000\" font-family=\"Times,serif\" font-size=\"14.00\" text-anchor=\"middle\" x=\"225\" y=\"-598.8\">Encoder-12-MultiHeadSelfAttention-Norm</text>\n<polyline fill=\"none\" points=\"357.5,-584.5 357.5,-620.5 \" stroke=\"#000000\"/>\n<text fill=\"#000000\" font-family=\"Times,serif\" font-size=\"14.00\" text-anchor=\"middle\" x=\"423\" y=\"-598.8\">LayerNormalization</text>\n</g>\n<!-- 140441743584080&#45;&gt;140441743759952 -->\n<g class=\"edge\" id=\"edge122\">\n<title>140441743584080-&gt;140441743759952</title>\n<path d=\"M290.5,-657.4551C290.5,-649.3828 290.5,-639.6764 290.5,-630.6817\" fill=\"none\" stroke=\"#000000\"/>\n<polygon fill=\"#000000\" points=\"294.0001,-630.5903 290.5,-620.5904 287.0001,-630.5904 294.0001,-630.5903\" stroke=\"#000000\"/>\n</g>\n<!-- 140441744006416 -->\n<g class=\"node\" id=\"node101\">\n<title>140441744006416</title>\n<polygon fill=\"none\" points=\"253.5,-511.5 253.5,-547.5 511.5,-547.5 511.5,-511.5 253.5,-511.5\" stroke=\"#000000\"/>\n<text fill=\"#000000\" font-family=\"Times,serif\" font-size=\"14.00\" text-anchor=\"middle\" x=\"336\" y=\"-525.8\">Encoder-12-FeedForward</text>\n<polyline fill=\"none\" points=\"418.5,-511.5 418.5,-547.5 \" stroke=\"#000000\"/>\n<text fill=\"#000000\" font-family=\"Times,serif\" font-size=\"14.00\" text-anchor=\"middle\" x=\"465\" y=\"-525.8\">FeedForward</text>\n</g>\n<!-- 140441743759952&#45;&gt;140441744006416 -->\n<g class=\"edge\" id=\"edge123\">\n<title>140441743759952-&gt;140441744006416</title>\n<path d=\"M313.2416,-584.4551C324.8523,-575.2422 339.1458,-563.9006 351.7266,-553.918\" fill=\"none\" stroke=\"#000000\"/>\n<polygon fill=\"#000000\" points=\"354.0431,-556.5479 359.7012,-547.5904 349.6921,-551.0644 354.0431,-556.5479\" stroke=\"#000000\"/>\n</g>\n<!-- 140441742901072 -->\n<g class=\"node\" id=\"node103\">\n<title>140441742901072</title>\n<polygon fill=\"none\" points=\"158,-365.5 158,-401.5 395,-401.5 395,-365.5 158,-365.5\" stroke=\"#000000\"/>\n<text fill=\"#000000\" font-family=\"Times,serif\" font-size=\"14.00\" text-anchor=\"middle\" x=\"255.5\" y=\"-379.8\">Encoder-12-FeedForward-Add</text>\n<polyline fill=\"none\" points=\"353,-365.5 353,-401.5 \" stroke=\"#000000\"/>\n<text fill=\"#000000\" font-family=\"Times,serif\" font-size=\"14.00\" text-anchor=\"middle\" x=\"374\" y=\"-379.8\">Add</text>\n</g>\n<!-- 140441743759952&#45;&gt;140441742901072 -->\n<g class=\"edge\" id=\"edge125\">\n<title>140441743759952-&gt;140441742901072</title>\n<path d=\"M270.2258,-584.2937C260.7304,-574.5258 250.2628,-561.6948 244.5,-548 231.8583,-517.9582 239.0573,-507.556 237.5,-475 236.7143,-458.5743 232.4747,-453.6578 237.5,-438 240.7533,-427.8634 246.6632,-418.0105 252.9152,-409.5334\" fill=\"none\" stroke=\"#000000\"/>\n<polygon fill=\"#000000\" points=\"255.7601,-411.5779 259.1953,-401.5554 250.2598,-407.2481 255.7601,-411.5779\" stroke=\"#000000\"/>\n</g>\n<!-- 140441743281872 -->\n<g class=\"node\" id=\"node102\">\n<title>140441743281872</title>\n<polygon fill=\"none\" points=\"247,-438.5 247,-474.5 530,-474.5 530,-438.5 247,-438.5\" stroke=\"#000000\"/>\n<text fill=\"#000000\" font-family=\"Times,serif\" font-size=\"14.00\" text-anchor=\"middle\" x=\"356\" y=\"-452.8\">Encoder-12-FeedForward-Dropout</text>\n<polyline fill=\"none\" points=\"465,-438.5 465,-474.5 \" stroke=\"#000000\"/>\n<text fill=\"#000000\" font-family=\"Times,serif\" font-size=\"14.00\" text-anchor=\"middle\" x=\"497.5\" y=\"-452.8\">Dropout</text>\n</g>\n<!-- 140441744006416&#45;&gt;140441743281872 -->\n<g class=\"edge\" id=\"edge124\">\n<title>140441744006416-&gt;140441743281872</title>\n<path d=\"M383.9831,-511.4551C384.6466,-503.3828 385.4444,-493.6764 386.1837,-484.6817\" fill=\"none\" stroke=\"#000000\"/>\n<polygon fill=\"#000000\" points=\"389.6821,-484.8435 387.0131,-474.5904 382.7056,-484.27 389.6821,-484.8435\" stroke=\"#000000\"/>\n</g>\n<!-- 140441743281872&#45;&gt;140441742901072 -->\n<g class=\"edge\" id=\"edge126\">\n<title>140441743281872-&gt;140441742901072</title>\n<path d=\"M360.8146,-438.4551C346.276,-428.979 328.282,-417.2508 312.6558,-407.0658\" fill=\"none\" stroke=\"#000000\"/>\n<polygon fill=\"#000000\" points=\"314.5438,-404.1186 304.2551,-401.5904 310.7215,-409.983 314.5438,-404.1186\" stroke=\"#000000\"/>\n</g>\n<!-- 140441742944336 -->\n<g class=\"node\" id=\"node104\">\n<title>140441742944336</title>\n<polygon fill=\"none\" points=\"109.5,-292.5 109.5,-328.5 443.5,-328.5 443.5,-292.5 109.5,-292.5\" stroke=\"#000000\"/>\n<text fill=\"#000000\" font-family=\"Times,serif\" font-size=\"14.00\" text-anchor=\"middle\" x=\"211\" y=\"-306.8\">Encoder-12-FeedForward-Norm</text>\n<polyline fill=\"none\" points=\"312.5,-292.5 312.5,-328.5 \" stroke=\"#000000\"/>\n<text fill=\"#000000\" font-family=\"Times,serif\" font-size=\"14.00\" text-anchor=\"middle\" x=\"378\" y=\"-306.8\">LayerNormalization</text>\n</g>\n<!-- 140441742901072&#45;&gt;140441742944336 -->\n<g class=\"edge\" id=\"edge127\">\n<title>140441742901072-&gt;140441742944336</title>\n<path d=\"M276.5,-365.4551C276.5,-357.3828 276.5,-347.6764 276.5,-338.6817\" fill=\"none\" stroke=\"#000000\"/>\n<polygon fill=\"#000000\" points=\"280.0001,-338.5903 276.5,-328.5904 273.0001,-338.5904 280.0001,-338.5903\" stroke=\"#000000\"/>\n</g>\n<!-- 140441755991184 -->\n<g class=\"node\" id=\"node105\">\n<title>140441755991184</title>\n<polygon fill=\"none\" points=\"328,-219.5 328,-255.5 471,-255.5 471,-219.5 328,-219.5\" stroke=\"#000000\"/>\n<text fill=\"#000000\" font-family=\"Times,serif\" font-size=\"14.00\" text-anchor=\"middle\" x=\"373.5\" y=\"-233.8\">MLM-Dense</text>\n<polyline fill=\"none\" points=\"419,-219.5 419,-255.5 \" stroke=\"#000000\"/>\n<text fill=\"#000000\" font-family=\"Times,serif\" font-size=\"14.00\" text-anchor=\"middle\" x=\"445\" y=\"-233.8\">Dense</text>\n</g>\n<!-- 140441742944336&#45;&gt;140441755991184 -->\n<g class=\"edge\" id=\"edge128\">\n<title>140441742944336-&gt;140441755991184</title>\n<path d=\"M306.9045,-292.4551C323.0189,-282.8912 342.9985,-271.0334 360.2692,-260.7833\" fill=\"none\" stroke=\"#000000\"/>\n<polygon fill=\"#000000\" points=\"362.2058,-263.704 369.019,-255.5904 358.6331,-257.6843 362.2058,-263.704\" stroke=\"#000000\"/>\n</g>\n<!-- 140441741669264 -->\n<g class=\"node\" id=\"node107\">\n<title>140441741669264</title>\n<polygon fill=\"none\" points=\"175.5,-219.5 175.5,-255.5 289.5,-255.5 289.5,-219.5 175.5,-219.5\" stroke=\"#000000\"/>\n<text fill=\"#000000\" font-family=\"Times,serif\" font-size=\"14.00\" text-anchor=\"middle\" x=\"204\" y=\"-233.8\">Extract</text>\n<polyline fill=\"none\" points=\"232.5,-219.5 232.5,-255.5 \" stroke=\"#000000\"/>\n<text fill=\"#000000\" font-family=\"Times,serif\" font-size=\"14.00\" text-anchor=\"middle\" x=\"261\" y=\"-233.8\">Extract</text>\n</g>\n<!-- 140441742944336&#45;&gt;140441741669264 -->\n<g class=\"edge\" id=\"edge130\">\n<title>140441742944336-&gt;140441741669264</title>\n<path d=\"M265.6236,-292.4551C260.4937,-283.9441 254.2688,-273.6165 248.6064,-264.2219\" fill=\"none\" stroke=\"#000000\"/>\n<polygon fill=\"#000000\" points=\"251.5636,-262.3481 243.4038,-255.5904 245.5684,-265.9617 251.5636,-262.3481\" stroke=\"#000000\"/>\n</g>\n<!-- 140442001602256 -->\n<g class=\"node\" id=\"node106\">\n<title>140442001602256</title>\n<polygon fill=\"none\" points=\"309.5,-146.5 309.5,-182.5 529.5,-182.5 529.5,-146.5 309.5,-146.5\" stroke=\"#000000\"/>\n<text fill=\"#000000\" font-family=\"Times,serif\" font-size=\"14.00\" text-anchor=\"middle\" x=\"354\" y=\"-160.8\">MLM-Norm</text>\n<polyline fill=\"none\" points=\"398.5,-146.5 398.5,-182.5 \" stroke=\"#000000\"/>\n<text fill=\"#000000\" font-family=\"Times,serif\" font-size=\"14.00\" text-anchor=\"middle\" x=\"464\" y=\"-160.8\">LayerNormalization</text>\n</g>\n<!-- 140441755991184&#45;&gt;140442001602256 -->\n<g class=\"edge\" id=\"edge129\">\n<title>140441755991184-&gt;140442001602256</title>\n<path d=\"M404.4438,-219.4551C406.6794,-211.2951 409.3726,-201.4652 411.8593,-192.3887\" fill=\"none\" stroke=\"#000000\"/>\n<polygon fill=\"#000000\" points=\"415.2769,-193.1598 414.5437,-182.5904 408.5257,-191.3101 415.2769,-193.1598\" stroke=\"#000000\"/>\n</g>\n<!-- 140442001602256&#45;&gt;140441745736784 -->\n<g class=\"edge\" id=\"edge131\">\n<title>140442001602256-&gt;140441745736784</title>\n<path d=\"M456.8259,-146.4551C477.0623,-136.6719 502.264,-124.4883 523.7922,-114.0806\" fill=\"none\" stroke=\"#000000\"/>\n<polygon fill=\"#000000\" points=\"525.6005,-117.094 533.0802,-109.5904 522.5537,-110.7918 525.6005,-117.094\" stroke=\"#000000\"/>\n</g>\n<!-- 140441742261520 -->\n<g class=\"node\" id=\"node110\">\n<title>140441742261520</title>\n<polygon fill=\"none\" points=\"143,-146.5 143,-182.5 278,-182.5 278,-146.5 143,-146.5\" stroke=\"#000000\"/>\n<text fill=\"#000000\" font-family=\"Times,serif\" font-size=\"14.00\" text-anchor=\"middle\" x=\"184.5\" y=\"-160.8\">NSP-Dense</text>\n<polyline fill=\"none\" points=\"226,-146.5 226,-182.5 \" stroke=\"#000000\"/>\n<text fill=\"#000000\" font-family=\"Times,serif\" font-size=\"14.00\" text-anchor=\"middle\" x=\"252\" y=\"-160.8\">Dense</text>\n</g>\n<!-- 140441741669264&#45;&gt;140441742261520 -->\n<g class=\"edge\" id=\"edge133\">\n<title>140441741669264-&gt;140441742261520</title>\n<path d=\"M227.0618,-219.4551C224.6026,-211.2951 221.6402,-201.4652 218.9048,-192.3887\" fill=\"none\" stroke=\"#000000\"/>\n<polygon fill=\"#000000\" points=\"222.1886,-191.1551 215.9519,-182.5904 215.4863,-193.175 222.1886,-191.1551\" stroke=\"#000000\"/>\n</g>\n<!-- 140441742261328 -->\n<g class=\"node\" id=\"node111\">\n<title>140441742261328</title>\n<polygon fill=\"none\" points=\"406,-.5 406,-36.5 519,-36.5 519,-.5 406,-.5\" stroke=\"#000000\"/>\n<text fill=\"#000000\" font-family=\"Times,serif\" font-size=\"14.00\" text-anchor=\"middle\" x=\"431.5\" y=\"-14.8\">MLM</text>\n<polyline fill=\"none\" points=\"457,-.5 457,-36.5 \" stroke=\"#000000\"/>\n<text fill=\"#000000\" font-family=\"Times,serif\" font-size=\"14.00\" text-anchor=\"middle\" x=\"488\" y=\"-14.8\">Masked</text>\n</g>\n<!-- 140441745736784&#45;&gt;140441742261328 -->\n<g class=\"edge\" id=\"edge134\">\n<title>140441745736784-&gt;140441742261328</title>\n<path d=\"M543.8034,-73.4551C529.9138,-64.0667 512.7537,-52.4678 497.7836,-42.3491\" fill=\"none\" stroke=\"#000000\"/>\n<polygon fill=\"#000000\" points=\"499.5088,-39.2907 489.2638,-36.5904 495.5888,-45.0901 499.5088,-39.2907\" stroke=\"#000000\"/>\n</g>\n<!-- 140441777078992 -->\n<g class=\"node\" id=\"node109\">\n<title>140441777078992</title>\n<polygon fill=\"none\" points=\"266,-73.5 266,-109.5 443,-109.5 443,-73.5 266,-73.5\" stroke=\"#000000\"/>\n<text fill=\"#000000\" font-family=\"Times,serif\" font-size=\"14.00\" text-anchor=\"middle\" x=\"314.5\" y=\"-87.8\">Input-Masked</text>\n<polyline fill=\"none\" points=\"363,-73.5 363,-109.5 \" stroke=\"#000000\"/>\n<text fill=\"#000000\" font-family=\"Times,serif\" font-size=\"14.00\" text-anchor=\"middle\" x=\"403\" y=\"-87.8\">InputLayer</text>\n</g>\n<!-- 140441777078992&#45;&gt;140441742261328 -->\n<g class=\"edge\" id=\"edge135\">\n<title>140441777078992-&gt;140441742261328</title>\n<path d=\"M381.1966,-73.4551C395.0862,-64.0667 412.2463,-52.4678 427.2164,-42.3491\" fill=\"none\" stroke=\"#000000\"/>\n<polygon fill=\"#000000\" points=\"429.4112,-45.0901 435.7362,-36.5904 425.4912,-39.2907 429.4112,-45.0901\" stroke=\"#000000\"/>\n</g>\n<!-- 140441742225936 -->\n<g class=\"node\" id=\"node112\">\n<title>140441742225936</title>\n<polygon fill=\"none\" points=\"151.5,-73.5 151.5,-109.5 247.5,-109.5 247.5,-73.5 151.5,-73.5\" stroke=\"#000000\"/>\n<text fill=\"#000000\" font-family=\"Times,serif\" font-size=\"14.00\" text-anchor=\"middle\" x=\"173.5\" y=\"-87.8\">NSP</text>\n<polyline fill=\"none\" points=\"195.5,-73.5 195.5,-109.5 \" stroke=\"#000000\"/>\n<text fill=\"#000000\" font-family=\"Times,serif\" font-size=\"14.00\" text-anchor=\"middle\" x=\"221.5\" y=\"-87.8\">Dense</text>\n</g>\n<!-- 140441742261520&#45;&gt;140441742225936 -->\n<g class=\"edge\" id=\"edge136\">\n<title>140441742261520-&gt;140441742225936</title>\n<path d=\"M207.7809,-146.4551C206.5645,-138.3828 205.1019,-128.6764 203.7466,-119.6817\" fill=\"none\" stroke=\"#000000\"/>\n<polygon fill=\"#000000\" points=\"207.177,-118.9572 202.2259,-109.5904 200.2551,-120.0003 207.177,-118.9572\" stroke=\"#000000\"/>\n</g>\n</g>\n</svg>"
          },
          "metadata": {},
          "execution_count": 27
        }
      ],
      "source": [
        "from IPython.display import SVG\n",
        "from keras.utils.vis_utils import model_to_dot\n",
        "\n",
        "SVG(model_to_dot(model).create(prog='dot', format='svg'))"
      ]
    },
    {
      "cell_type": "markdown",
      "metadata": {
        "id": "gLLayijHNEjz"
      },
      "source": [
        "bert_model을 get_bert_finetuning_model 함수로 불러들입니다.\n",
        "이 다음에 bert_model.fit을 활용하여 버트 모형 파인튜닝을 시작하게 됩니다.\n",
        "실시간으로 테스트 데이터에 대한 정확도를 알기 위해 validation_data = (test_x, test_y)로 정하였습니다.\n",
        "\n",
        "# 4 에포크 만에 정확도가 88.98%(약 89%)에 도달함을 알 수 있습니다."
      ]
    },
    {
      "cell_type": "code",
      "execution_count": null,
      "metadata": {
        "colab": {
          "base_uri": "https://localhost:8080/"
        },
        "id": "-7On1hY3I7o1",
        "outputId": "1700208d-1252-47e7-9f24-21fa20d51ec8"
      },
      "outputs": [
        {
          "output_type": "stream",
          "name": "stdout",
          "text": [
            "Train on 5700 samples, validate on 1425 samples\n",
            "Epoch 1/4\n",
            "5700/5700 [==============================] - 52s 9ms/sample - loss: 0.6034 - acc: 0.6498 - val_loss: 0.4090 - val_acc: 0.8126\n",
            "Epoch 2/4\n",
            "5700/5700 [==============================] - 37s 7ms/sample - loss: 0.3454 - acc: 0.8570 - val_loss: 0.3028 - val_acc: 0.8723\n",
            "Epoch 3/4\n",
            "5700/5700 [==============================] - 38s 7ms/sample - loss: 0.2451 - acc: 0.9040 - val_loss: 0.3318 - val_acc: 0.8688\n",
            "Epoch 4/4\n",
            "5700/5700 [==============================] - 37s 7ms/sample - loss: 0.1793 - acc: 0.9354 - val_loss: 0.3101 - val_acc: 0.8898\n"
          ]
        }
      ],
      "source": [
        "sess = K.get_session()\n",
        "uninitialized_variables = set([i.decode('ascii') for i in sess.run(tf.report_uninitialized_variables())])\n",
        "init = tf.variables_initializer([v for v in tf.global_variables() if v.name.split(':')[0] in uninitialized_variables])\n",
        "sess.run(init)\n",
        "\n",
        "bert_model = get_bert_finetuning_model(model)\n",
        "history = bert_model.fit(train_x, train_y, epochs=4, batch_size=16, verbose = 1, validation_data=(test_x, test_y), shuffle=True)"
      ]
    },
    {
      "cell_type": "markdown",
      "metadata": {
        "id": "e-HySrkKNV_e"
      },
      "source": [
        "재사용을 위해 bert_model을 지드라이브에 저장해줍니다."
      ]
    },
    {
      "cell_type": "code",
      "execution_count": null,
      "metadata": {
        "id": "E3pc5zhjCet-"
      },
      "outputs": [],
      "source": [
        "bert_model.save_weights(path+\"/bert_weight.h5\")"
      ]
    },
    {
      "cell_type": "markdown",
      "metadata": {
        "id": "f0ZgfR6MRIul"
      },
      "source": [
        "버트 모형을 로드해줍니다. 이미 로드하였던 모델에 계수들만 얹혀 줍니다."
      ]
    },
    {
      "cell_type": "code",
      "execution_count": null,
      "metadata": {
        "id": "DwMLCYp0TzTv"
      },
      "outputs": [],
      "source": [
        "bert_model = get_bert_finetuning_model(model)\n",
        "bert_model.load_weights(path+\"/bert_weight.h5\")"
      ]
    },
    {
      "cell_type": "markdown",
      "metadata": {
        "id": "xqkDeYdwUC5x"
      },
      "source": [
        "파인튜닝한 버트 모형에 test 데이터 셋을 넣어 평가해 봅니다.\n",
        "머신러닝에서는 정확도인 accuracy도 중요하지만, **F1 score**가 매우 중요합니다.\n",
        "  \n",
        "\n",
        "긍정문장으로 판별된 문장이 진짜로 **긍정 문장에 속할 확률**  \n",
        "  \n",
        "\n",
        "부정문장으로 판별된 문장이 진짜로 **부정 문장에 속할 확률**  \n",
        " **이 두가지를 고려한 종합적인 성능이 F1 score입니다.**\n",
        "\n",
        "한번 F1-score를 확인해 보겠습니다.\n"
      ]
    },
    {
      "cell_type": "markdown",
      "metadata": {
        "id": "5-lkxG0_Ul-_"
      },
      "source": [
        "먼저 테스트 데이터를 버트 모형에 넣을 수 있도록 predict_convert_data 함수를 정의해줍니다. <br> 위에 정의한 convert_data 함수와 다른 점은, test 데이터이기 때문에 label은 고려하지 않는다는 점입니다"
      ]
    },
    {
      "cell_type": "code",
      "execution_count": null,
      "metadata": {
        "id": "ssOqKQeQXOe2"
      },
      "outputs": [],
      "source": [
        "def predict_convert_data(data_df):\n",
        "    global tokenizer\n",
        "    indices = []\n",
        "    for i in tqdm(range(len(data_df))):\n",
        "        ids, segments = tokenizer.encode(data_df[DATA_COLUMN][i], max_len=SEQ_LEN)\n",
        "        indices.append(ids)\n",
        "        \n",
        "    items = indices\n",
        "    \n",
        "    \n",
        "    indices = np.array(indices)\n",
        "    return [indices, np.zeros_like(indices)]\n",
        "\n",
        "def predict_load_data(x): #Pandas Dataframe을 인풋으로 받는다\n",
        "    data_df = x\n",
        "    \n",
        "    \n",
        "    data_df[DATA_COLUMN] = data_df[DATA_COLUMN].astype(str)\n",
        "\n",
        "\n",
        "    data_x = predict_convert_data(data_df)\n",
        "\n",
        "    return data_x"
      ]
    },
    {
      "cell_type": "code",
      "execution_count": null,
      "metadata": {
        "colab": {
          "base_uri": "https://localhost:8080/"
        },
        "id": "7OGi5CQpVE0S",
        "outputId": "6ecd6728-af53-4ea1-d6b3-a2b5881c179f"
      },
      "outputs": [
        {
          "output_type": "stream",
          "name": "stderr",
          "text": [
            "100%|██████████| 1425/1425 [00:00<00:00, 5491.49it/s]\n"
          ]
        }
      ],
      "source": [
        "test_set = predict_load_data(test)"
      ]
    },
    {
      "cell_type": "markdown",
      "metadata": {
        "id": "FiHzDNCxVXPA"
      },
      "source": [
        "테스트 셋으로 예측하기"
      ]
    },
    {
      "cell_type": "code",
      "execution_count": null,
      "metadata": {
        "id": "mhvOT0wiVNmj"
      },
      "outputs": [],
      "source": [
        "#예측\n",
        "preds = bert_model.predict(test_set)"
      ]
    },
    {
      "cell_type": "code",
      "execution_count": null,
      "metadata": {
        "colab": {
          "base_uri": "https://localhost:8080/"
        },
        "id": "PcLzb1iuWeCg",
        "outputId": "994aa906-6820-44d8-d7bd-ec2da99ad0c8"
      },
      "outputs": [
        {
          "output_type": "execute_result",
          "data": {
            "text/plain": [
              "array([[0.00984022],\n",
              "       [0.01158936],\n",
              "       [0.0123943 ],\n",
              "       ...,\n",
              "       [0.9884544 ],\n",
              "       [0.0167326 ],\n",
              "       [0.01441016]], dtype=float32)"
            ]
          },
          "metadata": {},
          "execution_count": 37
        }
      ],
      "source": [
        "# 부정이면 0, 긍정이면 1 출력\n",
        "preds"
      ]
    },
    {
      "cell_type": "code",
      "execution_count": null,
      "metadata": {
        "id": "Fq3GjEB8Vr0d"
      },
      "outputs": [],
      "source": [
        "from sklearn.metrics import classification_report"
      ]
    },
    {
      "cell_type": "code",
      "execution_count": null,
      "metadata": {
        "colab": {
          "base_uri": "https://localhost:8080/"
        },
        "id": "nBwXhtRHVs1I",
        "outputId": "1d11fc55-258d-4c6d-aec2-b89964239d2b"
      },
      "outputs": [
        {
          "output_type": "stream",
          "name": "stdout",
          "text": [
            "              precision    recall  f1-score   support\n",
            "\n",
            "           0       0.87      0.93      0.90       739\n",
            "           1       0.92      0.85      0.88       686\n",
            "\n",
            "    accuracy                           0.89      1425\n",
            "   macro avg       0.89      0.89      0.89      1425\n",
            "weighted avg       0.89      0.89      0.89      1425\n",
            "\n"
          ]
        }
      ],
      "source": [
        "y_true = test['label']\n",
        "# F1 Score 확인\n",
        "print(classification_report(y_true, np.round(preds,0)))"
      ]
    },
    {
      "cell_type": "markdown",
      "metadata": {
        "id": "3VfY5HbAWr1W"
      },
      "source": [
        "F1 스코어와 Accuracy가 거의 비슷함을 알 수 있습니다. 훈련이 치우치지 않고 잘 됐음을 알 수 있습니다."
      ]
    }
  ],
  "metadata": {
    "accelerator": "GPU",
    "colab": {
      "provenance": [],
      "include_colab_link": true
    },
    "gpuClass": "premium",
    "kernelspec": {
      "display_name": "Python 3",
      "name": "python3"
    },
    "language_info": {
      "codemirror_mode": {
        "name": "ipython",
        "version": 3
      },
      "file_extension": ".py",
      "mimetype": "text/x-python",
      "name": "python",
      "nbconvert_exporter": "python",
      "pygments_lexer": "ipython3",
      "version": "3.6.9"
    }
  },
  "nbformat": 4,
  "nbformat_minor": 0
}